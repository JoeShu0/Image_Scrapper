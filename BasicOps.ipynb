{
 "cells": [
  {
   "cell_type": "code",
   "execution_count": 2,
   "id": "e62f89cf",
   "metadata": {},
   "outputs": [],
   "source": [
    "import requests\n",
    "from bs4 import BeautifulSoup"
   ]
  },
  {
   "cell_type": "code",
   "execution_count": 78,
   "id": "31db95ea",
   "metadata": {},
   "outputs": [],
   "source": [
    "BaseLink = \"https://gelbooru.com/index.php\"\n",
    "tagPreString = \"?page=post&s=list&tags=\"\n",
    "pagePreString = \"&pid=\""
   ]
  },
  {
   "cell_type": "code",
   "execution_count": 3,
   "id": "538ae72d",
   "metadata": {},
   "outputs": [],
   "source": [
    "page = requests.get(\"https://gelbooru.com/index.php?page=post&s=list&tags=yoshitomi_akihito+\")"
   ]
  },
  {
   "cell_type": "code",
   "execution_count": 6,
   "id": "d7e66d55",
   "metadata": {},
   "outputs": [
    {
     "data": {
      "text/plain": [
       "b'<!DOCTYPE html><html lang=\"en\">\\n\\t<head>\\n\\t\\t<meta charset=\"UTF-8\">\\n\\t\\t<title>yoshitomi akihito | Page: 1 | Gelbooru - Free Anime and Hentai Gallery</title>\\n\\t\\t<link rel=\"alternate\" hreflang=\"ja\" href=\"https://ja.gelbooru.com/index.php?page=post&amp;s=list&amp;tags=yoshitomi_akihito+\" />\\n<link rel=\"alternate\" hreflang=\"en\" href=\"https://gelbooru.com/index.php?page=post&amp;s=list&amp;tags=yoshitomi_akihito+\" />\\n\\n\\t\\t<meta name=\"keywords\" content=\", anime, doujinshi, hentai, porn, sex, japanese hentai, anime hentai, rule34, rule 34, imageboard\" />\\n\\t\\t<meta name=\"description\" content=\"Gelbooru has millions of free hentai and rule34, anime videos, images, wallpapers, and more! No account needed, updated constantly! \" />\\n\\t\\t<meta name=\"rating\" content=\"adult\" />\\n\\t\\t<meta name=\"viewport\" content=\"width=device-width, initial-scale=1.0\">\\n\\t\\t<link rel=\"stylesheet\" href=\"gridStyle.css?16d\">\\n\\t\\t\\n\\t\\t<link rel=\"SHORTCUT ICON\" href=\"favicon.png\" />\\n\\t\\t<link rel=\"search\" type=\"application/opensearchdescription+xml\" title=\"Gelbooru.com: Coded by Geltas\" href=\"gelbooru.xml\" />\\n\\t\\t\\n\\t\\t\\n\\t\\t<script async type=\"application/javascript\" src=\"https://a.realsrv.com/ad-provider.js\"></script> \\n\\t</head>\\n\\t<body>\\n\\t<style>\\n\\t .mn-container-adsby_position_bottom-right {\\n\\t\\t display: none;\\n\\t }\\n\\t</style>\\n\\t\\t<div id=\"container\">\\n\\t\\t<div id=\"long-notice\"></div><div id=\"notice\" style=\"display: none;\"></div>\\n\\t\\t  <header>\\n\\t\\t\\t<div class=\"topnav\" id=\"myTopnav\">\\n\\t\\t\\t\\t<a href=\"https://gelbooru.com/index.php\" class=\"homeIcon\">\\n\\t\\t\\t\\t\\t<img src=\"https://gelbooru.com/layout/gelbooru-logo.svg\" style=\"height: 46px; width: 46px; margin: 0px; padding-bottom: 2px;\">\\n\\t\\t\\t\\t</a>\\n\\t\\t\\t\\t<a href=\"index.php?page=account&s=home\">Settings</a>\\n\\t\\t\\t\\t<a href=\"index.php?page=post&s=list&tags=all\" class=\"active\">Posts</a>\\n\\t\\t\\t\\t<a href=\"index.php?page=comment&s=list\">Comments</a>\\n\\t\\t\\t\\t<a href=\"index.php?page=wiki&s=list\">Wiki</a>\\n\\t\\t\\t\\t<a href=\"index.php?page=tags&s=list\">Tags</a>\\n\\t\\t\\t\\t<a href=\"index.php?page=pool&s=list\">Pools</a>\\n\\t\\t\\t\\t<a href=\"index.php?page=extras&s=artists\">Featured</a>\\n\\t\\t\\t\\t<a href=\"index.php?page=forum&s=list\">Forum</a>\\n\\t\\t\\t\\t<a href=\"index.php?page=tracker&s=list\">Trac</a>\\n\\t\\t\\t\\t<a href=\"https://buymyshit.moneygrubbingwhore.cOm/\" class=\"active\">Store</a>\\n\\n\\t\\t\\t\\t\\n\\t\\t\\t\\t<a href=\"javascript:;\" onclick=\"darkModeToggle(); return false;\"><img src=\"layout/lightbulb-fill.svg\" style=\"filter: invert(62%) sepia(93%) saturate(1352%) hue-rotate(18deg) brightness(119%) contrast(119%); width: 14px; padding: 0px; margin: 0px;\"></a>\\n\\t\\t\\t\\t\\t\\t\\t\\t  \\n\\t\\t\\t\\t<a href=\"javascript:void(0);\" class=\"icon\" onclick=\"responsiveViewToggle();\">\\n\\t\\t\\t\\t\\t<img src=\"layout/list.svg\" style=\"filter: invert(100); height: 16px;\">\\n\\t\\t\\t\\t  </a>\\n\\t\\t\\t</div>\\n\\t\\t\\t\\n\\t\\t  </header><div class=\"navSubmenu\">\\t\\t\\t\\t<a href=\"index.php?page=post&amp;s=list\">List</a>\\n\\t\\t\\t\\t<a href=\"index.php?page=post&amp;s=add\">Upload</a>\\n\\t\\t\\t\\t<a href=\"index.php?page=post&amp;s=addVideo\">Upload WebM</a>\\n\\t\\t\\t\\t<a href=\"index.php?page=post&amp;s=random\">Random</a>\\n\\t\\t\\t\\t<a href=\"index.php?page=tags&amp;s=saved_search\">Saved Searches</a>\\n\\t\\t\\t\\t<a href=\"redeemCode.php\" style=\"color: #00ff00;\"><b>Redeem Code</b></a>\\n\\t\\t\\t\\t</div>\\t\\t\\t\\n\\t\\t  \\n\\t\\t  <div class=\"searchArea\">\\n\\t\\t\\t<div>\\n\\t\\t\\t\\t<form action=\"index.php?page=search\" method=\"post\">\\n\\t\\t\\t\\t\\t<a href=\"javascript:;\" onclick=\"saveTagSearch() ;return false;\"><img class=\"\" src=\"layout/heart-fill.svg\" style=\"vertical-align: top; margin: 4px 10px 0px 10px; height: 24px; width: 24px; border: 0px !important; opacity: .6;\" title=\"Save this search. Check your account page.\"></a>\\n\\t\\t\\t\\t\\t<input id=\"tags-search\" name=\"tags\" autocomplete=\"on\" style=\"padding: 7px; width: calc(100% - 180px); border: 1px solid #e0e0e0;\"  data-autocomplete=\"tag-query\" type=\"text\" value=\"yoshitomi_akihito \" placeholder=\"Search Example: video black_hair rating:sensitive\"/>\\n\\t\\t\\t\\t\\t<input name=\"commit\" type=\"submit\" value=\"Search\" class=\"searchList\"/>\\n\\t\\t\\t</form>\\n\\t\\t\\t</div>\\n\\t\\t  </div>\\t<section class=\"aside\">\\n\\t\\t<span class=\"sm-hidden\"><br />\\n\\t\\t<b style=\"margin-left: 15px;\">Tags</b>\\n\\t\\t<br /><br />\\n\\t\\t</span>\\n\\t\\t  <ul class=\"tag-list\" id=\"tag-list\" >\\n\\n\\t\\t\\t<li class=\"tag-type-artist\">\\n\\t\\t\\t\\t<a href=\"index.php?page=wiki&amp;s=list&amp;search=yoshitomi_akihito\" title=\"Wiki\" class=\"mobile-spacing\">?</a>\\n\\t\\t\\t\\t<a rel=\"nofollow\" href=\"javascript:;\" onclick=\"tagPM(\\'yoshitomi_akihito\\'); window.navigator.vibrate(20); return false;\" title=\"Add to search\" class=\"mobile-spacing\">+</a>\\n\\t\\t\\t\\t<a rel=\"nofollow\" href=\"javascript:;\" onclick=\"tagPM(\\'-yoshitomi_akihito\\'); window.navigator.vibrate(20); return false;\" title=\"Remove from search\" class=\"mobile-spacing\">-</a>\\n\\t\\t\\t\\t<a href=\"index.php?page=post&amp;s=list&amp;tags=yoshitomi_akihito\" rel=\"nofollow\">yoshitomi akihito</a> <span style=\"color: #a0a0a0;\">601</span>\\n\\t\\t\\t</li>\\n\\t\\t\\t<li class=\"tag-type-copyright\">\\n\\t\\t\\t\\t<a href=\"index.php?page=wiki&amp;s=list&amp;search=original\" title=\"Wiki\" class=\"mobile-spacing\">?</a>\\n\\t\\t\\t\\t<a rel=\"nofollow\" href=\"javascript:;\" onclick=\"tagPM(\\'original\\'); window.navigator.vibrate(20); return false;\" title=\"Add to search\" class=\"mobile-spacing\">+</a>\\n\\t\\t\\t\\t<a rel=\"nofollow\" href=\"javascript:;\" onclick=\"tagPM(\\'-original\\'); window.navigator.vibrate(20); return false;\" title=\"Remove from search\" class=\"mobile-spacing\">-</a>\\n\\t\\t\\t\\t<a href=\"index.php?page=post&amp;s=list&amp;tags=original\" rel=\"nofollow\">original</a> <span style=\"color: #a0a0a0;\">1008078</span>\\n\\t\\t\\t</li>\\n\\t\\t\\t<li class=\"tag-type-metadata\">\\n\\t\\t\\t\\t<a href=\"index.php?page=wiki&amp;s=list&amp;search=highres\" title=\"Wiki\" class=\"mobile-spacing\">?</a>\\n\\t\\t\\t\\t<a rel=\"nofollow\" href=\"javascript:;\" onclick=\"tagPM(\\'highres\\'); window.navigator.vibrate(20); return false;\" title=\"Add to search\" class=\"mobile-spacing\">+</a>\\n\\t\\t\\t\\t<a rel=\"nofollow\" href=\"javascript:;\" onclick=\"tagPM(\\'-highres\\'); window.navigator.vibrate(20); return false;\" title=\"Remove from search\" class=\"mobile-spacing\">-</a>\\n\\t\\t\\t\\t<a href=\"index.php?page=post&amp;s=list&amp;tags=highres\" rel=\"nofollow\">highres</a> <span style=\"color: #a0a0a0;\">4231888</span>\\n\\t\\t\\t</li>\\n\\t\\t\\t<li class=\"tag-type-general\">\\n\\t\\t\\t\\t<a href=\"index.php?page=wiki&amp;s=list&amp;search=1girl\" title=\"Wiki\" class=\"mobile-spacing\">?</a>\\n\\t\\t\\t\\t<a rel=\"nofollow\" href=\"javascript:;\" onclick=\"tagPM(\\'1girl\\'); window.navigator.vibrate(20); return false;\" title=\"Add to search\" class=\"mobile-spacing\">+</a>\\n\\t\\t\\t\\t<a rel=\"nofollow\" href=\"javascript:;\" onclick=\"tagPM(\\'-1girl\\'); window.navigator.vibrate(20); return false;\" title=\"Remove from search\" class=\"mobile-spacing\">-</a>\\n\\t\\t\\t\\t<a href=\"index.php?page=post&amp;s=list&amp;tags=1girl\" rel=\"nofollow\">1girl</a> <span style=\"color: #a0a0a0;\">5539441</span>\\n\\t\\t\\t</li>\\n\\t\\t\\t<li class=\"tag-type-general\">\\n\\t\\t\\t\\t<a href=\"index.php?page=wiki&amp;s=list&amp;search=barefoot\" title=\"Wiki\" class=\"mobile-spacing\">?</a>\\n\\t\\t\\t\\t<a rel=\"nofollow\" href=\"javascript:;\" onclick=\"tagPM(\\'barefoot\\'); window.navigator.vibrate(20); return false;\" title=\"Add to search\" class=\"mobile-spacing\">+</a>\\n\\t\\t\\t\\t<a rel=\"nofollow\" href=\"javascript:;\" onclick=\"tagPM(\\'-barefoot\\'); window.navigator.vibrate(20); return false;\" title=\"Remove from search\" class=\"mobile-spacing\">-</a>\\n\\t\\t\\t\\t<a href=\"index.php?page=post&amp;s=list&amp;tags=barefoot\" rel=\"nofollow\">barefoot</a> <span style=\"color: #a0a0a0;\">373254</span>\\n\\t\\t\\t</li>\\n\\t\\t\\t<li class=\"tag-type-general\">\\n\\t\\t\\t\\t<a href=\"index.php?page=wiki&amp;s=list&amp;search=bikini\" title=\"Wiki\" class=\"mobile-spacing\">?</a>\\n\\t\\t\\t\\t<a rel=\"nofollow\" href=\"javascript:;\" onclick=\"tagPM(\\'bikini\\'); window.navigator.vibrate(20); return false;\" title=\"Add to search\" class=\"mobile-spacing\">+</a>\\n\\t\\t\\t\\t<a rel=\"nofollow\" href=\"javascript:;\" onclick=\"tagPM(\\'-bikini\\'); window.navigator.vibrate(20); return false;\" title=\"Remove from search\" class=\"mobile-spacing\">-</a>\\n\\t\\t\\t\\t<a href=\"index.php?page=post&amp;s=list&amp;tags=bikini\" rel=\"nofollow\">bikini</a> <span style=\"color: #a0a0a0;\">449857</span>\\n\\t\\t\\t</li>\\n\\t\\t\\t<li class=\"tag-type-general\">\\n\\t\\t\\t\\t<a href=\"index.php?page=wiki&amp;s=list&amp;search=boots\" title=\"Wiki\" class=\"mobile-spacing\">?</a>\\n\\t\\t\\t\\t<a rel=\"nofollow\" href=\"javascript:;\" onclick=\"tagPM(\\'boots\\'); window.navigator.vibrate(20); return false;\" title=\"Add to search\" class=\"mobile-spacing\">+</a>\\n\\t\\t\\t\\t<a rel=\"nofollow\" href=\"javascript:;\" onclick=\"tagPM(\\'-boots\\'); window.navigator.vibrate(20); return false;\" title=\"Remove from search\" class=\"mobile-spacing\">-</a>\\n\\t\\t\\t\\t<a href=\"index.php?page=post&amp;s=list&amp;tags=boots\" rel=\"nofollow\">boots</a> <span style=\"color: #a0a0a0;\">386097</span>\\n\\t\\t\\t</li>\\n\\t\\t\\t<li class=\"tag-type-general\">\\n\\t\\t\\t\\t<a href=\"index.php?page=wiki&amp;s=list&amp;search=breasts\" title=\"Wiki\" class=\"mobile-spacing\">?</a>\\n\\t\\t\\t\\t<a rel=\"nofollow\" href=\"javascript:;\" onclick=\"tagPM(\\'breasts\\'); window.navigator.vibrate(20); return false;\" title=\"Add to search\" class=\"mobile-spacing\">+</a>\\n\\t\\t\\t\\t<a rel=\"nofollow\" href=\"javascript:;\" onclick=\"tagPM(\\'-breasts\\'); window.navigator.vibrate(20); return false;\" title=\"Remove from search\" class=\"mobile-spacing\">-</a>\\n\\t\\t\\t\\t<a href=\"index.php?page=post&amp;s=list&amp;tags=breasts\" rel=\"nofollow\">breasts</a> <span style=\"color: #a0a0a0;\">3464827</span>\\n\\t\\t\\t</li>\\n\\t\\t\\t<li class=\"tag-type-general\">\\n\\t\\t\\t\\t<a href=\"index.php?page=wiki&amp;s=list&amp;search=collar\" title=\"Wiki\" class=\"mobile-spacing\">?</a>\\n\\t\\t\\t\\t<a rel=\"nofollow\" href=\"javascript:;\" onclick=\"tagPM(\\'collar\\'); window.navigator.vibrate(20); return false;\" title=\"Add to search\" class=\"mobile-spacing\">+</a>\\n\\t\\t\\t\\t<a rel=\"nofollow\" href=\"javascript:;\" onclick=\"tagPM(\\'-collar\\'); window.navigator.vibrate(20); return false;\" title=\"Remove from search\" class=\"mobile-spacing\">-</a>\\n\\t\\t\\t\\t<a href=\"index.php?page=post&amp;s=list&amp;tags=collar\" rel=\"nofollow\">collar</a> <span style=\"color: #a0a0a0;\">181608</span>\\n\\t\\t\\t</li>\\n\\t\\t\\t<li class=\"tag-type-general\">\\n\\t\\t\\t\\t<a href=\"index.php?page=wiki&amp;s=list&amp;search=engine\" title=\"Wiki\" class=\"mobile-spacing\">?</a>\\n\\t\\t\\t\\t<a rel=\"nofollow\" href=\"javascript:;\" onclick=\"tagPM(\\'engine\\'); window.navigator.vibrate(20); return false;\" title=\"Add to search\" class=\"mobile-spacing\">+</a>\\n\\t\\t\\t\\t<a rel=\"nofollow\" href=\"javascript:;\" onclick=\"tagPM(\\'-engine\\'); window.navigator.vibrate(20); return false;\" title=\"Remove from search\" class=\"mobile-spacing\">-</a>\\n\\t\\t\\t\\t<a href=\"index.php?page=post&amp;s=list&amp;tags=engine\" rel=\"nofollow\">engine</a> <span style=\"color: #a0a0a0;\">311</span>\\n\\t\\t\\t</li>\\n\\t\\t\\t<li class=\"tag-type-general\">\\n\\t\\t\\t\\t<a href=\"index.php?page=wiki&amp;s=list&amp;search=fingerless_gloves\" title=\"Wiki\" class=\"mobile-spacing\">?</a>\\n\\t\\t\\t\\t<a rel=\"nofollow\" href=\"javascript:;\" onclick=\"tagPM(\\'fingerless_gloves\\'); window.navigator.vibrate(20); return false;\" title=\"Add to search\" class=\"mobile-spacing\">+</a>\\n\\t\\t\\t\\t<a rel=\"nofollow\" href=\"javascript:;\" onclick=\"tagPM(\\'-fingerless_gloves\\'); window.navigator.vibrate(20); return false;\" title=\"Remove from search\" class=\"mobile-spacing\">-</a>\\n\\t\\t\\t\\t<a href=\"index.php?page=post&amp;s=list&amp;tags=fingerless_gloves\" rel=\"nofollow\">fingerless gloves</a> <span style=\"color: #a0a0a0;\">204153</span>\\n\\t\\t\\t</li>\\n\\t\\t\\t<li class=\"tag-type-general\">\\n\\t\\t\\t\\t<a href=\"index.php?page=wiki&amp;s=list&amp;search=floating\" title=\"Wiki\" class=\"mobile-spacing\">?</a>\\n\\t\\t\\t\\t<a rel=\"nofollow\" href=\"javascript:;\" onclick=\"tagPM(\\'floating\\'); window.navigator.vibrate(20); return false;\" title=\"Add to search\" class=\"mobile-spacing\">+</a>\\n\\t\\t\\t\\t<a rel=\"nofollow\" href=\"javascript:;\" onclick=\"tagPM(\\'-floating\\'); window.navigator.vibrate(20); return false;\" title=\"Remove from search\" class=\"mobile-spacing\">-</a>\\n\\t\\t\\t\\t<a href=\"index.php?page=post&amp;s=list&amp;tags=floating\" rel=\"nofollow\">floating</a> <span style=\"color: #a0a0a0;\">27677</span>\\n\\t\\t\\t</li>\\n\\t\\t\\t<li class=\"tag-type-general\">\\n\\t\\t\\t\\t<a href=\"index.php?page=wiki&amp;s=list&amp;search=fur_trim\" title=\"Wiki\" class=\"mobile-spacing\">?</a>\\n\\t\\t\\t\\t<a rel=\"nofollow\" href=\"javascript:;\" onclick=\"tagPM(\\'fur_trim\\'); window.navigator.vibrate(20); return false;\" title=\"Add to search\" class=\"mobile-spacing\">+</a>\\n\\t\\t\\t\\t<a rel=\"nofollow\" href=\"javascript:;\" onclick=\"tagPM(\\'-fur_trim\\'); window.navigator.vibrate(20); return false;\" title=\"Remove from search\" class=\"mobile-spacing\">-</a>\\n\\t\\t\\t\\t<a href=\"index.php?page=post&amp;s=list&amp;tags=fur_trim\" rel=\"nofollow\">fur trim</a> <span style=\"color: #a0a0a0;\">101931</span>\\n\\t\\t\\t</li>\\n\\t\\t\\t<li class=\"tag-type-general\">\\n\\t\\t\\t\\t<a href=\"index.php?page=wiki&amp;s=list&amp;search=gloves\" title=\"Wiki\" class=\"mobile-spacing\">?</a>\\n\\t\\t\\t\\t<a rel=\"nofollow\" href=\"javascript:;\" onclick=\"tagPM(\\'gloves\\'); window.navigator.vibrate(20); return false;\" title=\"Add to search\" class=\"mobile-spacing\">+</a>\\n\\t\\t\\t\\t<a rel=\"nofollow\" href=\"javascript:;\" onclick=\"tagPM(\\'-gloves\\'); window.navigator.vibrate(20); return false;\" title=\"Remove from search\" class=\"mobile-spacing\">-</a>\\n\\t\\t\\t\\t<a href=\"index.php?page=post&amp;s=list&amp;tags=gloves\" rel=\"nofollow\">gloves</a> <span style=\"color: #a0a0a0;\">1054695</span>\\n\\t\\t\\t</li>\\n\\t\\t\\t<li class=\"tag-type-general\">\\n\\t\\t\\t\\t<a href=\"index.php?page=wiki&amp;s=list&amp;search=gradient_clothes\" title=\"Wiki\" class=\"mobile-spacing\">?</a>\\n\\t\\t\\t\\t<a rel=\"nofollow\" href=\"javascript:;\" onclick=\"tagPM(\\'gradient_clothes\\'); window.navigator.vibrate(20); return false;\" title=\"Add to search\" class=\"mobile-spacing\">+</a>\\n\\t\\t\\t\\t<a rel=\"nofollow\" href=\"javascript:;\" onclick=\"tagPM(\\'-gradient_clothes\\'); window.navigator.vibrate(20); return false;\" title=\"Remove from search\" class=\"mobile-spacing\">-</a>\\n\\t\\t\\t\\t<a href=\"index.php?page=post&amp;s=list&amp;tags=gradient_clothes\" rel=\"nofollow\">gradient clothes</a> <span style=\"color: #a0a0a0;\">1159</span>\\n\\t\\t\\t</li>\\n\\t\\t\\t<li class=\"tag-type-general\">\\n\\t\\t\\t\\t<a href=\"index.php?page=wiki&amp;s=list&amp;search=gradient_hair\" title=\"Wiki\" class=\"mobile-spacing\">?</a>\\n\\t\\t\\t\\t<a rel=\"nofollow\" href=\"javascript:;\" onclick=\"tagPM(\\'gradient_hair\\'); window.navigator.vibrate(20); return false;\" title=\"Add to search\" class=\"mobile-spacing\">+</a>\\n\\t\\t\\t\\t<a rel=\"nofollow\" href=\"javascript:;\" onclick=\"tagPM(\\'-gradient_hair\\'); window.navigator.vibrate(20); return false;\" title=\"Remove from search\" class=\"mobile-spacing\">-</a>\\n\\t\\t\\t\\t<a href=\"index.php?page=post&amp;s=list&amp;tags=gradient_hair\" rel=\"nofollow\">gradient hair</a> <span style=\"color: #a0a0a0;\">84589</span>\\n\\t\\t\\t</li>\\n\\t\\t\\t<li class=\"tag-type-general\">\\n\\t\\t\\t\\t<a href=\"index.php?page=wiki&amp;s=list&amp;search=horns\" title=\"Wiki\" class=\"mobile-spacing\">?</a>\\n\\t\\t\\t\\t<a rel=\"nofollow\" href=\"javascript:;\" onclick=\"tagPM(\\'horns\\'); window.navigator.vibrate(20); return false;\" title=\"Add to search\" class=\"mobile-spacing\">+</a>\\n\\t\\t\\t\\t<a rel=\"nofollow\" href=\"javascript:;\" onclick=\"tagPM(\\'-horns\\'); window.navigator.vibrate(20); return false;\" title=\"Remove from search\" class=\"mobile-spacing\">-</a>\\n\\t\\t\\t\\t<a href=\"index.php?page=post&amp;s=list&amp;tags=horns\" rel=\"nofollow\">horns</a> <span style=\"color: #a0a0a0;\">337930</span>\\n\\t\\t\\t</li>\\n\\t\\t\\t<li class=\"tag-type-general\">\\n\\t\\t\\t\\t<a href=\"index.php?page=wiki&amp;s=list&amp;search=looking_at_viewer\" title=\"Wiki\" class=\"mobile-spacing\">?</a>\\n\\t\\t\\t\\t<a rel=\"nofollow\" href=\"javascript:;\" onclick=\"tagPM(\\'looking_at_viewer\\'); window.navigator.vibrate(20); return false;\" title=\"Add to search\" class=\"mobile-spacing\">+</a>\\n\\t\\t\\t\\t<a rel=\"nofollow\" href=\"javascript:;\" onclick=\"tagPM(\\'-looking_at_viewer\\'); window.navigator.vibrate(20); return false;\" title=\"Remove from search\" class=\"mobile-spacing\">-</a>\\n\\t\\t\\t\\t<a href=\"index.php?page=post&amp;s=list&amp;tags=looking_at_viewer\" rel=\"nofollow\">looking at viewer</a> <span style=\"color: #a0a0a0;\">2532251</span>\\n\\t\\t\\t</li>\\n\\t\\t\\t<li class=\"tag-type-general\">\\n\\t\\t\\t\\t<a href=\"index.php?page=wiki&amp;s=list&amp;search=mechanical_horns\" title=\"Wiki\" class=\"mobile-spacing\">?</a>\\n\\t\\t\\t\\t<a rel=\"nofollow\" href=\"javascript:;\" onclick=\"tagPM(\\'mechanical_horns\\'); window.navigator.vibrate(20); return false;\" title=\"Add to search\" class=\"mobile-spacing\">+</a>\\n\\t\\t\\t\\t<a rel=\"nofollow\" href=\"javascript:;\" onclick=\"tagPM(\\'-mechanical_horns\\'); window.navigator.vibrate(20); return false;\" title=\"Remove from search\" class=\"mobile-spacing\">-</a>\\n\\t\\t\\t\\t<a href=\"index.php?page=post&amp;s=list&amp;tags=mechanical_horns\" rel=\"nofollow\">mechanical horns</a> <span style=\"color: #a0a0a0;\">1133</span>\\n\\t\\t\\t</li>\\n\\t\\t\\t<li class=\"tag-type-general\">\\n\\t\\t\\t\\t<a href=\"index.php?page=wiki&amp;s=list&amp;search=medium_hair\" title=\"Wiki\" class=\"mobile-spacing\">?</a>\\n\\t\\t\\t\\t<a rel=\"nofollow\" href=\"javascript:;\" onclick=\"tagPM(\\'medium_hair\\'); window.navigator.vibrate(20); return false;\" title=\"Add to search\" class=\"mobile-spacing\">+</a>\\n\\t\\t\\t\\t<a rel=\"nofollow\" href=\"javascript:;\" onclick=\"tagPM(\\'-medium_hair\\'); window.navigator.vibrate(20); return false;\" title=\"Remove from search\" class=\"mobile-spacing\">-</a>\\n\\t\\t\\t\\t<a href=\"index.php?page=post&amp;s=list&amp;tags=medium_hair\" rel=\"nofollow\">medium hair</a> <span style=\"color: #a0a0a0;\">197189</span>\\n\\t\\t\\t</li>\\n\\t\\t\\t<li class=\"tag-type-general\">\\n\\t\\t\\t\\t<a href=\"index.php?page=wiki&amp;s=list&amp;search=multicolored_hair\" title=\"Wiki\" class=\"mobile-spacing\">?</a>\\n\\t\\t\\t\\t<a rel=\"nofollow\" href=\"javascript:;\" onclick=\"tagPM(\\'multicolored_hair\\'); window.navigator.vibrate(20); return false;\" title=\"Add to search\" class=\"mobile-spacing\">+</a>\\n\\t\\t\\t\\t<a rel=\"nofollow\" href=\"javascript:;\" onclick=\"tagPM(\\'-multicolored_hair\\'); window.navigator.vibrate(20); return false;\" title=\"Remove from search\" class=\"mobile-spacing\">-</a>\\n\\t\\t\\t\\t<a href=\"index.php?page=post&amp;s=list&amp;tags=multicolored_hair\" rel=\"nofollow\">multicolored hair</a> <span style=\"color: #a0a0a0;\">375530</span>\\n\\t\\t\\t</li>\\n\\t\\t\\t<li class=\"tag-type-general\">\\n\\t\\t\\t\\t<a href=\"index.php?page=wiki&amp;s=list&amp;search=no_pants\" title=\"Wiki\" class=\"mobile-spacing\">?</a>\\n\\t\\t\\t\\t<a rel=\"nofollow\" href=\"javascript:;\" onclick=\"tagPM(\\'no_pants\\'); window.navigator.vibrate(20); return false;\" title=\"Add to search\" class=\"mobile-spacing\">+</a>\\n\\t\\t\\t\\t<a rel=\"nofollow\" href=\"javascript:;\" onclick=\"tagPM(\\'-no_pants\\'); window.navigator.vibrate(20); return false;\" title=\"Remove from search\" class=\"mobile-spacing\">-</a>\\n\\t\\t\\t\\t<a href=\"index.php?page=post&amp;s=list&amp;tags=no_pants\" rel=\"nofollow\">no pants</a> <span style=\"color: #a0a0a0;\">44086</span>\\n\\t\\t\\t</li>\\n\\t\\t\\t<li class=\"tag-type-general\">\\n\\t\\t\\t\\t<a href=\"index.php?page=wiki&amp;s=list&amp;search=pink_eyes\" title=\"Wiki\" class=\"mobile-spacing\">?</a>\\n\\t\\t\\t\\t<a rel=\"nofollow\" href=\"javascript:;\" onclick=\"tagPM(\\'pink_eyes\\'); window.navigator.vibrate(20); return false;\" title=\"Add to search\" class=\"mobile-spacing\">+</a>\\n\\t\\t\\t\\t<a rel=\"nofollow\" href=\"javascript:;\" onclick=\"tagPM(\\'-pink_eyes\\'); window.navigator.vibrate(20); return false;\" title=\"Remove from search\" class=\"mobile-spacing\">-</a>\\n\\t\\t\\t\\t<a href=\"index.php?page=post&amp;s=list&amp;tags=pink_eyes\" rel=\"nofollow\">pink eyes</a> <span style=\"color: #a0a0a0;\">214442</span>\\n\\t\\t\\t</li>\\n\\t\\t\\t<li class=\"tag-type-general\">\\n\\t\\t\\t\\t<a href=\"index.php?page=wiki&amp;s=list&amp;search=pink_hair\" title=\"Wiki\" class=\"mobile-spacing\">?</a>\\n\\t\\t\\t\\t<a rel=\"nofollow\" href=\"javascript:;\" onclick=\"tagPM(\\'pink_hair\\'); window.navigator.vibrate(20); return false;\" title=\"Add to search\" class=\"mobile-spacing\">+</a>\\n\\t\\t\\t\\t<a rel=\"nofollow\" href=\"javascript:;\" onclick=\"tagPM(\\'-pink_hair\\'); window.navigator.vibrate(20); return false;\" title=\"Remove from search\" class=\"mobile-spacing\">-</a>\\n\\t\\t\\t\\t<a href=\"index.php?page=post&amp;s=list&amp;tags=pink_hair\" rel=\"nofollow\">pink hair</a> <span style=\"color: #a0a0a0;\">555937</span>\\n\\t\\t\\t</li>\\n\\t\\t\\t<li class=\"tag-type-general\">\\n\\t\\t\\t\\t<a href=\"index.php?page=wiki&amp;s=list&amp;search=pink_shirt\" title=\"Wiki\" class=\"mobile-spacing\">?</a>\\n\\t\\t\\t\\t<a rel=\"nofollow\" href=\"javascript:;\" onclick=\"tagPM(\\'pink_shirt\\'); window.navigator.vibrate(20); return false;\" title=\"Add to search\" class=\"mobile-spacing\">+</a>\\n\\t\\t\\t\\t<a rel=\"nofollow\" href=\"javascript:;\" onclick=\"tagPM(\\'-pink_shirt\\'); window.navigator.vibrate(20); return false;\" title=\"Remove from search\" class=\"mobile-spacing\">-</a>\\n\\t\\t\\t\\t<a href=\"index.php?page=post&amp;s=list&amp;tags=pink_shirt\" rel=\"nofollow\">pink shirt</a> <span style=\"color: #a0a0a0;\">26225</span>\\n\\t\\t\\t</li>\\n\\t\\t\\t<li class=\"tag-type-general\">\\n\\t\\t\\t\\t<a href=\"index.php?page=wiki&amp;s=list&amp;search=propeller\" title=\"Wiki\" class=\"mobile-spacing\">?</a>\\n\\t\\t\\t\\t<a rel=\"nofollow\" href=\"javascript:;\" onclick=\"tagPM(\\'propeller\\'); window.navigator.vibrate(20); return false;\" title=\"Add to search\" class=\"mobile-spacing\">+</a>\\n\\t\\t\\t\\t<a rel=\"nofollow\" href=\"javascript:;\" onclick=\"tagPM(\\'-propeller\\'); window.navigator.vibrate(20); return false;\" title=\"Remove from search\" class=\"mobile-spacing\">-</a>\\n\\t\\t\\t\\t<a href=\"index.php?page=post&amp;s=list&amp;tags=propeller\" rel=\"nofollow\">propeller</a> <span style=\"color: #a0a0a0;\">1172</span>\\n\\t\\t\\t</li>\\n\\t\\t\\t<li class=\"tag-type-general\">\\n\\t\\t\\t\\t<a href=\"index.php?page=wiki&amp;s=list&amp;search=robot\" title=\"Wiki\" class=\"mobile-spacing\">?</a>\\n\\t\\t\\t\\t<a rel=\"nofollow\" href=\"javascript:;\" onclick=\"tagPM(\\'robot\\'); window.navigator.vibrate(20); return false;\" title=\"Add to search\" class=\"mobile-spacing\">+</a>\\n\\t\\t\\t\\t<a rel=\"nofollow\" href=\"javascript:;\" onclick=\"tagPM(\\'-robot\\'); window.navigator.vibrate(20); return false;\" title=\"Remove from search\" class=\"mobile-spacing\">-</a>\\n\\t\\t\\t\\t<a href=\"index.php?page=post&amp;s=list&amp;tags=robot\" rel=\"nofollow\">robot</a> <span style=\"color: #a0a0a0;\">46906</span>\\n\\t\\t\\t</li>\\n\\t\\t\\t<li class=\"tag-type-general\">\\n\\t\\t\\t\\t<a href=\"index.php?page=wiki&amp;s=list&amp;search=screw\" title=\"Wiki\" class=\"mobile-spacing\">?</a>\\n\\t\\t\\t\\t<a rel=\"nofollow\" href=\"javascript:;\" onclick=\"tagPM(\\'screw\\'); window.navigator.vibrate(20); return false;\" title=\"Add to search\" class=\"mobile-spacing\">+</a>\\n\\t\\t\\t\\t<a rel=\"nofollow\" href=\"javascript:;\" onclick=\"tagPM(\\'-screw\\'); window.navigator.vibrate(20); return false;\" title=\"Remove from search\" class=\"mobile-spacing\">-</a>\\n\\t\\t\\t\\t<a href=\"index.php?page=post&amp;s=list&amp;tags=screw\" rel=\"nofollow\">screw</a> <span style=\"color: #a0a0a0;\">1170</span>\\n\\t\\t\\t</li>\\n\\t\\t\\t<li class=\"tag-type-general\">\\n\\t\\t\\t\\t<a href=\"index.php?page=wiki&amp;s=list&amp;search=shirt\" title=\"Wiki\" class=\"mobile-spacing\">?</a>\\n\\t\\t\\t\\t<a rel=\"nofollow\" href=\"javascript:;\" onclick=\"tagPM(\\'shirt\\'); window.navigator.vibrate(20); return false;\" title=\"Add to search\" class=\"mobile-spacing\">+</a>\\n\\t\\t\\t\\t<a rel=\"nofollow\" href=\"javascript:;\" onclick=\"tagPM(\\'-shirt\\'); window.navigator.vibrate(20); return false;\" title=\"Remove from search\" class=\"mobile-spacing\">-</a>\\n\\t\\t\\t\\t<a href=\"index.php?page=post&amp;s=list&amp;tags=shirt\" rel=\"nofollow\">shirt</a> <span style=\"color: #a0a0a0;\">1146491</span>\\n\\t\\t\\t</li>\\n\\t\\t\\t<li class=\"tag-type-general\">\\n\\t\\t\\t\\t<a href=\"index.php?page=wiki&amp;s=list&amp;search=short_hair\" title=\"Wiki\" class=\"mobile-spacing\">?</a>\\n\\t\\t\\t\\t<a rel=\"nofollow\" href=\"javascript:;\" onclick=\"tagPM(\\'short_hair\\'); window.navigator.vibrate(20); return false;\" title=\"Add to search\" class=\"mobile-spacing\">+</a>\\n\\t\\t\\t\\t<a rel=\"nofollow\" href=\"javascript:;\" onclick=\"tagPM(\\'-short_hair\\'); window.navigator.vibrate(20); return false;\" title=\"Remove from search\" class=\"mobile-spacing\">-</a>\\n\\t\\t\\t\\t<a href=\"index.php?page=post&amp;s=list&amp;tags=short_hair\" rel=\"nofollow\">short hair</a> <span style=\"color: #a0a0a0;\">1945744</span>\\n\\t\\t\\t</li>\\n\\t\\t\\t<li class=\"tag-type-general\">\\n\\t\\t\\t\\t<a href=\"index.php?page=wiki&amp;s=list&amp;search=small_breasts\" title=\"Wiki\" class=\"mobile-spacing\">?</a>\\n\\t\\t\\t\\t<a rel=\"nofollow\" href=\"javascript:;\" onclick=\"tagPM(\\'small_breasts\\'); window.navigator.vibrate(20); return false;\" title=\"Add to search\" class=\"mobile-spacing\">+</a>\\n\\t\\t\\t\\t<a rel=\"nofollow\" href=\"javascript:;\" onclick=\"tagPM(\\'-small_breasts\\'); window.navigator.vibrate(20); return false;\" title=\"Remove from search\" class=\"mobile-spacing\">-</a>\\n\\t\\t\\t\\t<a href=\"index.php?page=post&amp;s=list&amp;tags=small_breasts\" rel=\"nofollow\">small breasts</a> <span style=\"color: #a0a0a0;\">458512</span>\\n\\t\\t\\t</li>\\n\\t\\t\\t<li class=\"tag-type-general\">\\n\\t\\t\\t\\t<a href=\"index.php?page=wiki&amp;s=list&amp;search=smile\" title=\"Wiki\" class=\"mobile-spacing\">?</a>\\n\\t\\t\\t\\t<a rel=\"nofollow\" href=\"javascript:;\" onclick=\"tagPM(\\'smile\\'); window.navigator.vibrate(20); return false;\" title=\"Add to search\" class=\"mobile-spacing\">+</a>\\n\\t\\t\\t\\t<a rel=\"nofollow\" href=\"javascript:;\" onclick=\"tagPM(\\'-smile\\'); window.navigator.vibrate(20); return false;\" title=\"Remove from search\" class=\"mobile-spacing\">-</a>\\n\\t\\t\\t\\t<a href=\"index.php?page=post&amp;s=list&amp;tags=smile\" rel=\"nofollow\">smile</a> <span style=\"color: #a0a0a0;\">2279074</span>\\n\\t\\t\\t</li>\\n\\t\\t\\t<li class=\"tag-type-general\">\\n\\t\\t\\t\\t<a href=\"index.php?page=wiki&amp;s=list&amp;search=smoke\" title=\"Wiki\" class=\"mobile-spacing\">?</a>\\n\\t\\t\\t\\t<a rel=\"nofollow\" href=\"javascript:;\" onclick=\"tagPM(\\'smoke\\'); window.navigator.vibrate(20); return false;\" title=\"Add to search\" class=\"mobile-spacing\">+</a>\\n\\t\\t\\t\\t<a rel=\"nofollow\" href=\"javascript:;\" onclick=\"tagPM(\\'-smoke\\'); window.navigator.vibrate(20); return false;\" title=\"Remove from search\" class=\"mobile-spacing\">-</a>\\n\\t\\t\\t\\t<a href=\"index.php?page=post&amp;s=list&amp;tags=smoke\" rel=\"nofollow\">smoke</a> <span style=\"color: #a0a0a0;\">27608</span>\\n\\t\\t\\t</li>\\n\\t\\t\\t<li class=\"tag-type-general\">\\n\\t\\t\\t\\t<a href=\"index.php?page=wiki&amp;s=list&amp;search=socks\" title=\"Wiki\" class=\"mobile-spacing\">?</a>\\n\\t\\t\\t\\t<a rel=\"nofollow\" href=\"javascript:;\" onclick=\"tagPM(\\'socks\\'); window.navigator.vibrate(20); return false;\" title=\"Add to search\" class=\"mobile-spacing\">+</a>\\n\\t\\t\\t\\t<a rel=\"nofollow\" href=\"javascript:;\" onclick=\"tagPM(\\'-socks\\'); window.navigator.vibrate(20); return false;\" title=\"Remove from search\" class=\"mobile-spacing\">-</a>\\n\\t\\t\\t\\t<a href=\"index.php?page=post&amp;s=list&amp;tags=socks\" rel=\"nofollow\">socks</a> <span style=\"color: #a0a0a0;\">305044</span>\\n\\t\\t\\t</li>\\n\\t\\t\\t<li class=\"tag-type-general\">\\n\\t\\t\\t\\t<a href=\"index.php?page=wiki&amp;s=list&amp;search=solo\" title=\"Wiki\" class=\"mobile-spacing\">?</a>\\n\\t\\t\\t\\t<a rel=\"nofollow\" href=\"javascript:;\" onclick=\"tagPM(\\'solo\\'); window.navigator.vibrate(20); return false;\" title=\"Add to search\" class=\"mobile-spacing\">+</a>\\n\\t\\t\\t\\t<a rel=\"nofollow\" href=\"javascript:;\" onclick=\"tagPM(\\'-solo\\'); window.navigator.vibrate(20); return false;\" title=\"Remove from search\" class=\"mobile-spacing\">-</a>\\n\\t\\t\\t\\t<a href=\"index.php?page=post&amp;s=list&amp;tags=solo\" rel=\"nofollow\">solo</a> <span style=\"color: #a0a0a0;\">4198462</span>\\n\\t\\t\\t</li>\\n\\t\\t\\t<li class=\"tag-type-general\">\\n\\t\\t\\t\\t<a href=\"index.php?page=wiki&amp;s=list&amp;search=string_bikini\" title=\"Wiki\" class=\"mobile-spacing\">?</a>\\n\\t\\t\\t\\t<a rel=\"nofollow\" href=\"javascript:;\" onclick=\"tagPM(\\'string_bikini\\'); window.navigator.vibrate(20); return false;\" title=\"Add to search\" class=\"mobile-spacing\">+</a>\\n\\t\\t\\t\\t<a rel=\"nofollow\" href=\"javascript:;\" onclick=\"tagPM(\\'-string_bikini\\'); window.navigator.vibrate(20); return false;\" title=\"Remove from search\" class=\"mobile-spacing\">-</a>\\n\\t\\t\\t\\t<a href=\"index.php?page=post&amp;s=list&amp;tags=string_bikini\" rel=\"nofollow\">string bikini</a> <span style=\"color: #a0a0a0;\">35586</span>\\n\\t\\t\\t</li>\\n\\t\\t\\t<li class=\"tag-type-general\">\\n\\t\\t\\t\\t<a href=\"index.php?page=wiki&amp;s=list&amp;search=swimsuit\" title=\"Wiki\" class=\"mobile-spacing\">?</a>\\n\\t\\t\\t\\t<a rel=\"nofollow\" href=\"javascript:;\" onclick=\"tagPM(\\'swimsuit\\'); window.navigator.vibrate(20); return false;\" title=\"Add to search\" class=\"mobile-spacing\">+</a>\\n\\t\\t\\t\\t<a rel=\"nofollow\" href=\"javascript:;\" onclick=\"tagPM(\\'-swimsuit\\'); window.navigator.vibrate(20); return false;\" title=\"Remove from search\" class=\"mobile-spacing\">-</a>\\n\\t\\t\\t\\t<a href=\"index.php?page=post&amp;s=list&amp;tags=swimsuit\" rel=\"nofollow\">swimsuit</a> <span style=\"color: #a0a0a0;\">614569</span>\\n\\t\\t\\t</li>\\n\\t\\t\\t<li class=\"tag-type-general\">\\n\\t\\t\\t\\t<a href=\"index.php?page=wiki&amp;s=list&amp;search=white_background\" title=\"Wiki\" class=\"mobile-spacing\">?</a>\\n\\t\\t\\t\\t<a rel=\"nofollow\" href=\"javascript:;\" onclick=\"tagPM(\\'white_background\\'); window.navigator.vibrate(20); return false;\" title=\"Add to search\" class=\"mobile-spacing\">+</a>\\n\\t\\t\\t\\t<a rel=\"nofollow\" href=\"javascript:;\" onclick=\"tagPM(\\'-white_background\\'); window.navigator.vibrate(20); return false;\" title=\"Remove from search\" class=\"mobile-spacing\">-</a>\\n\\t\\t\\t\\t<a href=\"index.php?page=post&amp;s=list&amp;tags=white_background\" rel=\"nofollow\">white background</a> <span style=\"color: #a0a0a0;\">1092810</span>\\n\\t\\t\\t</li>\\n\\t\\t\\t</ul>\\n\\t\\t\\t</section>\\n\\t\\t\\t<main>\\n\\t\\t\\t\\t<div id=\"long-notice\"></div><div id=\"notice\" style=\"display: none;\"></div>\\n\\t\\t\\t\\t<div class=\"headerAd\">\\n\\t\\t<a href=\"https://realbooru.com/index.php?page=post&s=list\" target=\"_blank\">\\r\\n <video width=\"728\" height=\"90\" autoplay loop muted>\\r\\n  <source src=\"https://gelbooru.com/realbooru.mp4\" type=\"video/mp4\">\\r\\n</video> \\r\\n</a><br /><br /></div>\\n\\t\\t\\t<div class=\"alert alert-success\" role=\"alert\"  style=\"display: none;\"><center><a href=\"index.php?page=gmail\">You have mail</a></center></div>\\n\\t\\t\\t\\t<div class=\"showNoGridSupport alert alert-info\" style=\"display: none;\"><center><a href=\"https://caniuse.com/css-grid\" rel=\"nofollow\" target=\"_blank\">Your browser does not support grid</a>, so will not be supported. Hover over your browser version to see if there is a way to enable potential support. Sorry, I am no longer able to justify working on making the layout work on older devices.</center></div>\\n\\t\\t\\t\\t<div class=\"alert alert-success\" role=\"alert\"  style=\"display:none;\">\\n\\t\\t\\t\\t\\t<center><a href=\"index.php?page=help&amp;topic=post\"><b>Safe images only mode.</b></a></center>\\n\\t\\t\\t\\t</div>\\n\\t\\t\\t\\t\\n\\t\\t\\t\\t<div class=\"thumbnail-container\">\\n\\t\\t\\t\\t<article class=\"thumbnail-preview\">\\n\\t\\t\\t\\t\\t<a id=\"p7585881\" href=\"https://gelbooru.com/index.php?page=post&amp;s=view&amp;id=7585881&tags=yoshitomi_akihito+\">\\n\\t\\t\\t\\t\\t\\t<img src=\"https://img3.gelbooru.com/thumbnails/a8/52/thumbnail_a852d8d92b679a11e656e2e5e1e047bf.jpg\" title=\"1girl bikini boots breasts collar engine fingerless_gloves floating fur_trim gloves highres original propeller robot screw short_hair small_breasts smoke socks string_bikini swimsuit yoshitomi_akihito score:4 rating:general\"  alt=\"Rule 34 | 1girl, bikini, boots, breasts, collar, engine, fingerless gloves, floating, fur trim, gloves, highres, original, propeller, robot, screw, short hair, small breasts, smoke, socks, string bikini, swimsuit, yoshitomi akihito\" class=\"\"/>\\n\\t\\t\\t\\t\\t</a>\\n\\t\\t\\t\\t</article>\\n\\t\\t\\t\\t<article class=\"thumbnail-preview\">\\n\\t\\t\\t\\t\\t<a id=\"p7205386\" href=\"https://gelbooru.com/index.php?page=post&amp;s=view&amp;id=7205386&tags=yoshitomi_akihito+\">\\n\\t\\t\\t\\t\\t\\t<img src=\"https://img3.gelbooru.com/thumbnails/51/1c/thumbnail_511cb6339fd146f59264ea814a537254.jpg\" title=\"1girl barefoot gradient_clothes gradient_hair horns looking_at_viewer mechanical_horns medium_hair multicolored_hair no_pants original pink_eyes pink_hair pink_shirt shirt smile solo white_background yoshitomi_akihito score:5 rating:sensitive\"  alt=\"Rule 34 | 1girl, barefoot, gradient clothes, gradient hair, horns, looking at viewer, mechanical horns, medium hair, multicolored hair, no pants, original, pink eyes, pink hair, pink shirt, shirt, smile, solo, white background, yoshitomi akihito\" class=\"\"/>\\n\\t\\t\\t\\t\\t</a>\\n\\t\\t\\t\\t</article>\\n\\t\\t\\t\\t<article class=\"thumbnail-preview\">\\n\\t\\t\\t\\t\\t<a id=\"p7205380\" href=\"https://gelbooru.com/index.php?page=post&amp;s=view&amp;id=7205380&tags=yoshitomi_akihito+\">\\n\\t\\t\\t\\t\\t\\t<img src=\"https://img3.gelbooru.com/thumbnails/79/eb/thumbnail_79eb29b10ece7059b5d6b633bde2ee14.jpg\" title=\"1girl black_eyes face glowing glowing_eyes grey_background highres lips looking_to_the_side mecha_musume original red_pupils solo turtleneck yoshitomi_akihito score:3 rating:sensitive\"  alt=\"Rule 34 | 1girl, black eyes, face, glowing, glowing eyes, grey background, highres, lips, looking to the side, mecha musume, original, red pupils, solo, turtleneck, yoshitomi akihito\" class=\"\"/>\\n\\t\\t\\t\\t\\t</a>\\n\\t\\t\\t\\t</article>\\n\\t\\t\\t\\t<article class=\"thumbnail-preview\">\\n\\t\\t\\t\\t\\t<a id=\"p7205373\" href=\"https://gelbooru.com/index.php?page=post&amp;s=view&amp;id=7205373&tags=yoshitomi_akihito+\">\\n\\t\\t\\t\\t\\t\\t<img src=\"https://img3.gelbooru.com/thumbnails/ce/87/thumbnail_ce87c92aefa498e3192d976f55e4a6ce.jpg\" title=\" 1girl barefoot black_eyes black_hair branch hair_ornament hair_ribbon leaf long_hair long_sleeves looking_afar marker_(medium) miniskirt original pink_ribbon pink_skirt plant ribbon rock school_uniform side_ponytail sitting skirt solo traditional_media tree yoshitomi_akihito  score:4 rating:general\"  alt=\"Rule 34 | 1girl, barefoot, black eyes, black hair, branch, hair ornament, hair ribbon, leaf, long hair, long sleeves, looking afar, marker (medium), miniskirt, original, pink ribbon, pink skirt, plant, ribbon, rock, school uniform, side ponytail, sitting, skirt, solo, traditional media, tree, yoshitomi akihito\" class=\"\"/>\\n\\t\\t\\t\\t\\t</a>\\n\\t\\t\\t\\t</article>\\n\\t\\t\\t\\t<article class=\"thumbnail-preview\">\\n\\t\\t\\t\\t\\t<a id=\"p7067558\" href=\"https://gelbooru.com/index.php?page=post&amp;s=view&amp;id=7067558&tags=yoshitomi_akihito+\">\\n\\t\\t\\t\\t\\t\\t<img src=\"https://img3.gelbooru.com/thumbnails/41/d4/thumbnail_41d4d7814cc1082d7880ad5006d490c3.jpg\" title=\"1girl absurdres collared_shirt dress dress_shirt earrings ginkgo_leaf highres jewelry leaf legs legs_together marker_(medium) medium_hair on_floor original pen_(medium) photo_(medium) pleated_skirt puffy_sleeves ribbon ribbon-trimmed_sleeves ribbon_trim shirt shoes sitting skirt smile traditional_media yoshitomi_akihito score:2 rating:sensitive\"  alt=\"Rule 34 | 1girl, absurdres, collared shirt, dress, dress shirt, earrings, ginkgo leaf, highres, jewelry, leaf, legs, legs together, marker (medium), medium hair, on floor, original, pen (medium), photo (medium), pleated skirt, puffy sleeves, ribbon, ribbon-trimmed sleeves, ribbon trim, shirt, shoes, sitting, skirt, smile, traditional media, yoshitomi akihito\" class=\"\"/>\\n\\t\\t\\t\\t\\t</a>\\n\\t\\t\\t\\t</article>\\n\\t\\t\\t\\t<article class=\"thumbnail-preview\">\\n\\t\\t\\t\\t\\t<a id=\"p7067554\" href=\"https://gelbooru.com/index.php?page=post&amp;s=view&amp;id=7067554&tags=yoshitomi_akihito+\">\\n\\t\\t\\t\\t\\t\\t<img src=\"https://img3.gelbooru.com/thumbnails/5e/b8/thumbnail_5eb8bd390374c1e7ad9e132c5afd5e58.jpg\" title=\"1girl armlet blue_background blue_eyes blue_theme bra colored_skin headgear light_smile looking_at_viewer mecha_musume mechanical_parts original short_hair simple_background underwear underwear_only white_skin yoshitomi_akihito score:0 rating:sensitive\"  alt=\"Rule 34 | 1girl, armlet, blue background, blue eyes, blue theme, bra, colored skin, headgear, light smile, looking at viewer, mecha musume, mechanical parts, original, short hair, simple background, underwear, underwear only, white skin, yoshitomi akihito\" class=\"\"/>\\n\\t\\t\\t\\t\\t</a>\\n\\t\\t\\t\\t</article>\\n\\t\\t\\t\\t<article class=\"thumbnail-preview\">\\n\\t\\t\\t\\t\\t<a id=\"p7067515\" href=\"https://gelbooru.com/index.php?page=post&amp;s=view&amp;id=7067515&tags=yoshitomi_akihito+\">\\n\\t\\t\\t\\t\\t\\t<img src=\"https://img3.gelbooru.com/thumbnails/17/e3/thumbnail_17e39e7cc5913627cd969970a9ac53d1.jpg\" title=\"1girl absurdres bikini body_markings boots breasts hair_ornament hair_tubes highres legs legs_together long_hair marker_(medium) mechanical_parts navel original pen_(medium) photo_(medium) small_breasts smile swimsuit tattoo traditional_media underwear yoshitomi_akihito score:1 rating:sensitive\"  alt=\"Rule 34 | 1girl, absurdres, bikini, body markings, boots, breasts, hair ornament, hair tubes, highres, legs, legs together, long hair, marker (medium), mechanical parts, navel, original, pen (medium), photo (medium), small breasts, smile, swimsuit, tattoo, traditional media, underwear, yoshitomi akihito\" class=\"\"/>\\n\\t\\t\\t\\t\\t</a>\\n\\t\\t\\t\\t</article>\\n\\t\\t\\t\\t<article class=\"thumbnail-preview\">\\n\\t\\t\\t\\t\\t<a id=\"p7067501\" href=\"https://gelbooru.com/index.php?page=post&amp;s=view&amp;id=7067501&tags=yoshitomi_akihito+\">\\n\\t\\t\\t\\t\\t\\t<img src=\"https://img3.gelbooru.com/thumbnails/dc/b4/thumbnail_dcb4ed12c615bb791cbdebc3e600f2ae.jpg\" title=\"1girl :o absurdres barefoot bird bracer building cropped_shirt floating floating_hair floating_island hair_ornament halo highres looking_to_the_side marker_(medium) mechanical_halo mechanical_parts navel original pen_(medium) photo_(medium) traditional_media tree yoshitomi_akihito score:4 rating:sensitive\"  alt=\"Rule 34 | 1girl, :o, absurdres, barefoot, bird, bracer, building, cropped shirt, floating, floating hair, floating island, hair ornament, halo, highres, looking to the side, marker (medium), mechanical halo, mechanical parts, navel, original, pen (medium), photo (medium), traditional media, tree, yoshitomi akihito\" class=\"\"/>\\n\\t\\t\\t\\t\\t</a>\\n\\t\\t\\t\\t</article>\\n\\t\\t\\t\\t<article class=\"thumbnail-preview\">\\n\\t\\t\\t\\t\\t<a id=\"p7002440\" href=\"https://gelbooru.com/index.php?page=post&amp;s=view&amp;id=7002440&tags=yoshitomi_akihito+\">\\n\\t\\t\\t\\t\\t\\t<img src=\"https://img3.gelbooru.com/thumbnails/e5/cf/thumbnail_e5cf3a9ebaba5fa2401af6316904e111.jpg\" title=\"1girl arm_support collared_shirt lips long_sleeves looking_at_viewer mature_female medium_hair monochrome original serious shirt simple_background vest wings yoshitomi_akihito score:1 rating:sensitive\"  alt=\"Rule 34 | 1girl, arm support, collared shirt, lips, long sleeves, looking at viewer, mature female, medium hair, monochrome, original, serious, shirt, simple background, vest, wings, yoshitomi akihito\" class=\"\"/>\\n\\t\\t\\t\\t\\t</a>\\n\\t\\t\\t\\t</article>\\n\\t\\t\\t\\t<article class=\"thumbnail-preview\">\\n\\t\\t\\t\\t\\t<a id=\"p6444850\" href=\"https://gelbooru.com/index.php?page=post&amp;s=view&amp;id=6444850&tags=yoshitomi_akihito+\">\\n\\t\\t\\t\\t\\t\\t<img src=\"https://img3.gelbooru.com/thumbnails/ff/9a/thumbnail_ff9a82f32962b0dd242fabec03a14a24.jpg\" title=\"2girls barefoot couple english_text hard-translated highres lighthouse multiple_girls original school_swimsuit swimsuit third-party_edit tomboy yoshitomi_akihito yuri score:10 rating:questionable\"  alt=\"Rule 34 | 2girls, barefoot, couple, english text, hard-translated, highres, lighthouse, multiple girls, original, school swimsuit, swimsuit, third-party edit, tomboy, yoshitomi akihito, yuri\" class=\"\"/>\\n\\t\\t\\t\\t\\t</a>\\n\\t\\t\\t\\t</article>\\n\\t\\t\\t\\t<article class=\"thumbnail-preview\">\\n\\t\\t\\t\\t\\t<a id=\"p5561517\" href=\"https://gelbooru.com/index.php?page=post&amp;s=view&amp;id=5561517&tags=yoshitomi_akihito+\">\\n\\t\\t\\t\\t\\t\\t<img src=\"https://img3.gelbooru.com/thumbnails/c9/de/thumbnail_c9de98294a8c9cde766374ae2a6b91a6.jpg\" title=\" 1girl barefoot cape censored_nipples convenient_censoring flower flower_censor looking_at_viewer nude original solo tagme yoshitomi_akihito  score:8 rating:questionable\"  alt=\"Rule 34 | 1girl, barefoot, cape, censored nipples, convenient censoring, flower, flower censor, looking at viewer, nude, original, solo, tagme, yoshitomi akihito\" class=\"\"/>\\n\\t\\t\\t\\t\\t</a>\\n\\t\\t\\t\\t</article>\\n\\t\\t\\t\\t<article class=\"thumbnail-preview\">\\n\\t\\t\\t\\t\\t<a id=\"p5129766\" href=\"https://gelbooru.com/index.php?page=post&amp;s=view&amp;id=5129766&tags=yoshitomi_akihito+\">\\n\\t\\t\\t\\t\\t\\t<img src=\"https://img3.gelbooru.com/thumbnails/da/f1/thumbnail_daf184b58247daace9b70e92ae343d25.jpg\" title=\" 1boy 1girl beard belt black_footwear black_hair boots bow bowtie christmas_tree commentary_request facial_hair fur_trim in_the_face long_sleeves orange_neckwear orange_skirt original pink_shirt pink_thighhighs pleated_skirt red_hair santa_claus shirt short_ponytail simple_background skirt socks striped striped_thighhighs stuffed_animal stuffed_rabbit stuffed_toy teddy_bear thighhighs white_background white_hair yoshitomi_akihito  score:3 rating:sensitive\"  alt=\"Rule 34 | 1boy, 1girl, beard, belt, black footwear, black hair, boots, bow, bowtie, christmas tree, commentary request, facial hair, fur trim, in the face, long sleeves, orange neckwear, orange skirt, original, pink shirt, pink thighhighs, pleated skirt, red hair, santa claus, shirt, short ponytail, simple background, skirt, socks, striped, striped thighhighs, stuffed animal, stuffed rabbit, stuffed toy, teddy bear, thighhighs, white background, white hair, yoshitomi akihito\" class=\"\"/>\\n\\t\\t\\t\\t\\t</a>\\n\\t\\t\\t\\t</article>\\n\\t\\t\\t\\t<article class=\"thumbnail-preview\">\\n\\t\\t\\t\\t\\t<a id=\"p5129765\" href=\"https://gelbooru.com/index.php?page=post&amp;s=view&amp;id=5129765&tags=yoshitomi_akihito+\">\\n\\t\\t\\t\\t\\t\\t<img src=\"https://img3.gelbooru.com/thumbnails/9c/ac/thumbnail_9cac5682947a98a1bddcf4fb0ae68c6f.jpg\" title=\"1girl absurdres boots bubble cat elbow_gloves gloves goggles hand_on_own_hip highres holding leotard open_mouth original simple_background solo spot_color thigh_boots thighhighs tongue tongue_out white_background yoshitomi_akihito score:1 rating:sensitive\"  alt=\"Rule 34 | 1girl, absurdres, boots, bubble, cat, elbow gloves, gloves, goggles, hand on own hip, highres, holding, leotard, open mouth, original, simple background, solo, spot color, thigh boots, thighhighs, tongue, tongue out, white background, yoshitomi akihito\" class=\"\"/>\\n\\t\\t\\t\\t\\t</a>\\n\\t\\t\\t\\t</article>\\n\\t\\t\\t\\t<article class=\"thumbnail-preview\">\\n\\t\\t\\t\\t\\t<a id=\"p5129764\" href=\"https://gelbooru.com/index.php?page=post&amp;s=view&amp;id=5129764&tags=yoshitomi_akihito+\">\\n\\t\\t\\t\\t\\t\\t<img src=\"https://img3.gelbooru.com/thumbnails/18/3f/thumbnail_183f61a47807bb7f54de0d652ea446fc.jpg\" title=\"1girl bare_legs barefoot black_hair black_sailor_collar black_skirt commentary_request floating_hair glitch knees_up long_hair long_sleeves neckerchief original outline profile red_neckerchief sailor_collar shadow shirt skirt solo white_outline white_shirt yoshitomi_akihito score:2 rating:sensitive\"  alt=\"Rule 34 | 1girl, bare legs, barefoot, black hair, black sailor collar, black skirt, commentary request, floating hair, glitch, knees up, long hair, long sleeves, neckerchief, original, outline, profile, red neckerchief, sailor collar, shadow, shirt, skirt, solo, white outline, white shirt, yoshitomi akihito\" class=\"\"/>\\n\\t\\t\\t\\t\\t</a>\\n\\t\\t\\t\\t</article>\\n\\t\\t\\t\\t<article class=\"thumbnail-preview\">\\n\\t\\t\\t\\t\\t<a id=\"p5129763\" href=\"https://gelbooru.com/index.php?page=post&amp;s=view&amp;id=5129763&tags=yoshitomi_akihito+\">\\n\\t\\t\\t\\t\\t\\t<img src=\"https://img3.gelbooru.com/thumbnails/7a/30/thumbnail_7a3073d02c6bce225fb5f69cc502cca0.jpg\" title=\"2girls aircraft airplane book brown_hair candy candy_wrapper clock commentary_request english_text eraser food holding_hands ice_cream lollipop long_hair long_sleeves making-of_available multiple_girls original paper pencil pleated_skirt ponytail red_skirt short_hair simple_background skirt stuffed_animal stuffed_toy sweater swept_bangs teddy_bear white_background yoshitomi_akihito score:7 rating:sensitive\"  alt=\"Rule 34 | 2girls, aircraft, airplane, book, brown hair, candy, candy wrapper, clock, commentary request, english text, eraser, food, holding hands, ice cream, lollipop, long hair, long sleeves, making-of available, multiple girls, original, paper, pencil, pleated skirt, ponytail, red skirt, short hair, simple background, skirt, stuffed animal, stuffed toy, sweater, swept bangs, teddy bear, white background, yoshitomi akihito\" class=\"\"/>\\n\\t\\t\\t\\t\\t</a>\\n\\t\\t\\t\\t</article>\\n\\t\\t\\t\\t<article class=\"thumbnail-preview\">\\n\\t\\t\\t\\t\\t<a id=\"p5129762\" href=\"https://gelbooru.com/index.php?page=post&amp;s=view&amp;id=5129762&tags=yoshitomi_akihito+\">\\n\\t\\t\\t\\t\\t\\t<img src=\"https://img3.gelbooru.com/thumbnails/b6/fd/thumbnail_b6fde6389c6e426071e591c28fa6e621.jpg\" title=\" 1girl barefoot black_hair claws commentary_request greyscale knees_up long_hair machine monochrome original shirt short_sleeves shorts simple_background smile solo tongue tongue_out white_background yoshitomi_akihito  score:4 rating:sensitive\"  alt=\"Rule 34 | 1girl, barefoot, black hair, claws, commentary request, greyscale, knees up, long hair, machine, monochrome, original, shirt, short sleeves, shorts, simple background, smile, solo, tongue, tongue out, white background, yoshitomi akihito\" class=\"\"/>\\n\\t\\t\\t\\t\\t</a>\\n\\t\\t\\t\\t</article>\\n\\t\\t\\t\\t<article class=\"thumbnail-preview\">\\n\\t\\t\\t\\t\\t<a id=\"p5129748\" href=\"https://gelbooru.com/index.php?page=post&amp;s=view&amp;id=5129748&tags=yoshitomi_akihito+\">\\n\\t\\t\\t\\t\\t\\t<img src=\"https://img3.gelbooru.com/thumbnails/d9/6c/thumbnail_d96cb45572cdb1ef1debd6dc87e90ba3.jpg\" title=\"1girl black_eyes black_hair blunt_bangs circle commentary_request fish knees_up long_sleeves looking_at_viewer neckerchief open_mouth orange_sailor_collar orange_skirt original red_neckerchief sailor_collar school_uniform serafuku short_hair sidelocks skirt smoke socks solo tongue tongue_out wire yoshitomi_akihito score:0 rating:sensitive\"  alt=\"Rule 34 | 1girl, black eyes, black hair, blunt bangs, circle, commentary request, fish, knees up, long sleeves, looking at viewer, neckerchief, open mouth, orange sailor collar, orange skirt, original, red neckerchief, sailor collar, school uniform, serafuku, short hair, sidelocks, skirt, smoke, socks, solo, tongue, tongue out, wire, yoshitomi akihito\" class=\"\"/>\\n\\t\\t\\t\\t\\t</a>\\n\\t\\t\\t\\t</article>\\n\\t\\t\\t\\t<article class=\"thumbnail-preview\">\\n\\t\\t\\t\\t\\t<a id=\"p5129747\" href=\"https://gelbooru.com/index.php?page=post&amp;s=view&amp;id=5129747&tags=yoshitomi_akihito+\">\\n\\t\\t\\t\\t\\t\\t<img src=\"https://img3.gelbooru.com/thumbnails/8c/97/thumbnail_8c972dd07ce999bb4359bad8d72390fb.jpg\" title=\"1girl black_eyes black_hair bra circle commentary_request hands_up looking_at_viewer navel neckerchief orange_sailor_collar orange_skirt original pleated_skirt red_neckerchief sailor_collar short_hair skirt solo underwear wire yoshitomi_akihito score:2 rating:sensitive\"  alt=\"Rule 34 | 1girl, black eyes, black hair, bra, circle, commentary request, hands up, looking at viewer, navel, neckerchief, orange sailor collar, orange skirt, original, pleated skirt, red neckerchief, sailor collar, short hair, skirt, solo, underwear, wire, yoshitomi akihito\" class=\"\"/>\\n\\t\\t\\t\\t\\t</a>\\n\\t\\t\\t\\t</article>\\n\\t\\t\\t\\t<article class=\"thumbnail-preview\">\\n\\t\\t\\t\\t\\t<a id=\"p5129744\" href=\"https://gelbooru.com/index.php?page=post&amp;s=view&amp;id=5129744&tags=yoshitomi_akihito+\">\\n\\t\\t\\t\\t\\t\\t<img src=\"https://img3.gelbooru.com/thumbnails/d8/0b/thumbnail_d80bb40c5bf6efbc6b5ae4eb3796f1ec.jpg\" title=\"1girl black_eyes black_hair blunt_bangs bra circle commentary_request fish hand_up knee_up leg_up looking_at_viewer navel neckerchief open_mouth orange_sailor_collar orange_skirt original pleated_skirt red_neckerchief sailor_collar short_hair skirt smoke socks solo underwear wire yoshitomi_akihito score:0 rating:sensitive\"  alt=\"Rule 34 | 1girl, black eyes, black hair, blunt bangs, bra, circle, commentary request, fish, hand up, knee up, leg up, looking at viewer, navel, neckerchief, open mouth, orange sailor collar, orange skirt, original, pleated skirt, red neckerchief, sailor collar, short hair, skirt, smoke, socks, solo, underwear, wire, yoshitomi akihito\" class=\"\"/>\\n\\t\\t\\t\\t\\t</a>\\n\\t\\t\\t\\t</article>\\n\\t\\t\\t\\t<article class=\"thumbnail-preview\">\\n\\t\\t\\t\\t\\t<a id=\"p5045241\" href=\"https://gelbooru.com/index.php?page=post&amp;s=view&amp;id=5045241&tags=yoshitomi_akihito+\">\\n\\t\\t\\t\\t\\t\\t<img src=\"https://img3.gelbooru.com/thumbnails/a9/52/thumbnail_a952424158701500c3900e8f9f46d5dc.jpg\" title=\"2girls black_legwear blue_sailor_collar blue_skirt braid brown_hair burger commentary_request covered_face drink dropping falling food hug kiss long_hair long_sleeves medium_hair multiple_girls neckerchief original pleated_skirt red_neckerchief sailor_collar school_uniform serafuku shirt shoes simple_background skirt sleeves_past_wrists socks twin_braids twintails white_background white_footwear white_socks yellow_shirt yoshitomi_akihito yuri score:3 rating:sensitive\"  alt=\"Rule 34 | 2girls, black legwear, blue sailor collar, blue skirt, braid, brown hair, burger, commentary request, covered face, drink, dropping, falling, food, hug, kiss, long hair, long sleeves, medium hair, multiple girls, neckerchief, original, pleated skirt, red neckerchief, sailor collar, school uniform, serafuku, shirt, shoes, simple background, skirt, sleeves past wrists, socks, twin braids, twintails, white background, white footwear, white socks, yellow shirt, yoshitomi akihito, yuri\" class=\"\"/>\\n\\t\\t\\t\\t\\t</a>\\n\\t\\t\\t\\t</article>\\n\\t\\t\\t\\t<article class=\"thumbnail-preview\">\\n\\t\\t\\t\\t\\t<a id=\"p4253515\" href=\"https://gelbooru.com/index.php?page=post&amp;s=view&amp;id=4253515&tags=yoshitomi_akihito+\">\\n\\t\\t\\t\\t\\t\\t<img src=\"https://img3.gelbooru.com/thumbnails/d8/78/thumbnail_d87897bbb2cd95d78c06e5231400ecff.jpg\" title=\" 1girl commentary full_body head_tilt looking_at_viewer lying medium_hair midriff monochrome navel on_back original sketch skirt socks solo tank_top traditional_media yoshitomi_akihito  score:4 rating:sensitive\"  alt=\"Rule 34 | 1girl, commentary, full body, head tilt, looking at viewer, lying, medium hair, midriff, monochrome, navel, on back, original, sketch, skirt, socks, solo, tank top, traditional media, yoshitomi akihito\" class=\"\"/>\\n\\t\\t\\t\\t\\t</a>\\n\\t\\t\\t\\t</article>\\n\\t\\t\\t\\t<article class=\"thumbnail-preview\">\\n\\t\\t\\t\\t\\t<a id=\"p2940412\" href=\"https://gelbooru.com/index.php?page=post&amp;s=view&amp;id=2940412&tags=yoshitomi_akihito+\">\\n\\t\\t\\t\\t\\t\\t<img src=\"https://img3.gelbooru.com/thumbnails/e2/e2/thumbnail_e2e27aa68cf4573c66ae1207c6f4dfe6.jpg\" title=\" 1girl dress_shirt full_body green_theme monochrome original shirt sketch socks solo standing standing_on_one_leg traditional_media underwear undressing yoshitomi_akihito  score:5 rating:questionable\"  alt=\"Rule 34 | 1girl, dress shirt, full body, green theme, monochrome, original, shirt, sketch, socks, solo, standing, standing on one leg, traditional media, underwear, undressing, yoshitomi akihito\" class=\"\"/>\\n\\t\\t\\t\\t\\t</a>\\n\\t\\t\\t\\t</article>\\n\\t\\t\\t\\t<article class=\"thumbnail-preview\">\\n\\t\\t\\t\\t\\t<a id=\"p2940411\" href=\"https://gelbooru.com/index.php?page=post&amp;s=view&amp;id=2940411&tags=yoshitomi_akihito+\">\\n\\t\\t\\t\\t\\t\\t<img src=\"https://img3.gelbooru.com/thumbnails/3d/37/thumbnail_3d377461372167b6fe0e76709ee02dc0.jpg\" title=\" 1girl dress_shirt full_body monochrome original shirt sketch socks solo traditional_media twintails underwear undressing yoshitomi_akihito  score:1 rating:questionable\"  alt=\"Rule 34 | 1girl, dress shirt, full body, monochrome, original, shirt, sketch, socks, solo, traditional media, twintails, underwear, undressing, yoshitomi akihito\" class=\"\"/>\\n\\t\\t\\t\\t\\t</a>\\n\\t\\t\\t\\t</article>\\n\\t\\t\\t\\t<article class=\"thumbnail-preview\">\\n\\t\\t\\t\\t\\t<a id=\"p2939028\" href=\"https://gelbooru.com/index.php?page=post&amp;s=view&amp;id=2939028&tags=yoshitomi_akihito+\">\\n\\t\\t\\t\\t\\t\\t<img src=\"https://img3.gelbooru.com/thumbnails/8e/2c/thumbnail_8e2c4046e4956f7232708cbf18a7a218.jpg\" title=\" 1girl barefoot full_body monochrome original sketch skirt solo traditional_media yoshitomi_akihito  score:5 rating:sensitive\"  alt=\"Rule 34 | 1girl, barefoot, full body, monochrome, original, sketch, skirt, solo, traditional media, yoshitomi akihito\" class=\"\"/>\\n\\t\\t\\t\\t\\t</a>\\n\\t\\t\\t\\t</article>\\n\\t\\t\\t\\t<article class=\"thumbnail-preview\">\\n\\t\\t\\t\\t\\t<a id=\"p2936022\" href=\"https://gelbooru.com/index.php?page=post&amp;s=view&amp;id=2936022&tags=yoshitomi_akihito+\">\\n\\t\\t\\t\\t\\t\\t<img src=\"https://img3.gelbooru.com/thumbnails/ce/b7/thumbnail_ceb75bf70297b644bb7abe6e581a38f7.jpg\" title=\" 1girl barefoot full_body monochrome original sketch solo traditional_media twintails underwear yoshitomi_akihito  score:7 rating:sensitive\"  alt=\"Rule 34 | 1girl, barefoot, full body, monochrome, original, sketch, solo, traditional media, twintails, underwear, yoshitomi akihito\" class=\"\"/>\\n\\t\\t\\t\\t\\t</a>\\n\\t\\t\\t\\t</article>\\n\\t\\t\\t\\t<article class=\"thumbnail-preview\">\\n\\t\\t\\t\\t\\t<a id=\"p2936020\" href=\"https://gelbooru.com/index.php?page=post&amp;s=view&amp;id=2936020&tags=yoshitomi_akihito+\">\\n\\t\\t\\t\\t\\t\\t<img src=\"https://img3.gelbooru.com/thumbnails/81/e4/thumbnail_81e42cce6ad457ea413b30f6e718e03c.jpg\" title=\" 1girl barefoot full_body long_hair monochrome original sketch solo traditional_media yoshitomi_akihito  score:9 rating:sensitive\"  alt=\"Rule 34 | 1girl, barefoot, full body, long hair, monochrome, original, sketch, solo, traditional media, yoshitomi akihito\" class=\"\"/>\\n\\t\\t\\t\\t\\t</a>\\n\\t\\t\\t\\t</article>\\n\\t\\t\\t\\t<article class=\"thumbnail-preview\">\\n\\t\\t\\t\\t\\t<a id=\"p2929213\" href=\"https://gelbooru.com/index.php?page=post&amp;s=view&amp;id=2929213&tags=yoshitomi_akihito+\">\\n\\t\\t\\t\\t\\t\\t<img src=\"https://img3.gelbooru.com/thumbnails/5b/a0/thumbnail_5ba018a0c0bf55d39f1b48032e27a886.jpg\" title=\" 1girl ass barefoot bow camisole crotch feet full_body hair_bow hair_ornament large_bow legs light_smile long_hair looking_at_viewer lying midriff monochrome on_side original panties simple_background sketch solo thighs toes traditional_media underwear white_background yoshitomi_akihito  score:5 rating:sensitive\"  alt=\"Rule 34 | 1girl, ass, barefoot, bow, camisole, crotch, feet, full body, hair bow, hair ornament, large bow, legs, light smile, long hair, looking at viewer, lying, midriff, monochrome, on side, original, panties, simple background, sketch, solo, thighs, toes, traditional media, underwear, white background, yoshitomi akihito\" class=\"\"/>\\n\\t\\t\\t\\t\\t</a>\\n\\t\\t\\t\\t</article>\\n\\t\\t\\t\\t<article class=\"thumbnail-preview\">\\n\\t\\t\\t\\t\\t<a id=\"p2929212\" href=\"https://gelbooru.com/index.php?page=post&amp;s=view&amp;id=2929212&tags=yoshitomi_akihito+\">\\n\\t\\t\\t\\t\\t\\t<img src=\"https://img3.gelbooru.com/thumbnails/14/c3/thumbnail_14c3b5cfb7756b10e2c8c5312bbb3308.jpg\" title=\" 1girl bra clothes_lift hair_ornament light_smile long_hair looking_at_viewer monochrome navel open_clothes open_shirt original pleated_skirt school_uniform scrunchie serafuku shirt simple_background sitting sketch skirt skirt_lift solo thighs traditional_media twintails underwear white_background yoshitomi_akihito  score:4 rating:sensitive\"  alt=\"Rule 34 | 1girl, bra, clothes lift, hair ornament, light smile, long hair, looking at viewer, monochrome, navel, open clothes, open shirt, original, pleated skirt, school uniform, scrunchie, serafuku, shirt, simple background, sitting, sketch, skirt, skirt lift, solo, thighs, traditional media, twintails, underwear, white background, yoshitomi akihito\" class=\"\"/>\\n\\t\\t\\t\\t\\t</a>\\n\\t\\t\\t\\t</article>\\n\\t\\t\\t\\t<article class=\"thumbnail-preview\">\\n\\t\\t\\t\\t\\t<a id=\"p2929211\" href=\"https://gelbooru.com/index.php?page=post&amp;s=view&amp;id=2929211&tags=yoshitomi_akihito+\">\\n\\t\\t\\t\\t\\t\\t<img src=\"https://img3.gelbooru.com/thumbnails/e4/0e/thumbnail_e40e72c5338bcfcefb5705fbd9db7b09.jpg\" title=\" 1girl barefoot feet full_body leg_hold legs legs_up long_hair lying midriff monochrome on_back original shorts simple_background sketch smile solo thighs toes traditional_media white_background yoshitomi_akihito  score:3 rating:sensitive\"  alt=\"Rule 34 | 1girl, barefoot, feet, full body, leg hold, legs, legs up, long hair, lying, midriff, monochrome, on back, original, shorts, simple background, sketch, smile, solo, thighs, toes, traditional media, white background, yoshitomi akihito\" class=\"\"/>\\n\\t\\t\\t\\t\\t</a>\\n\\t\\t\\t\\t</article>\\n\\t\\t\\t\\t<article class=\"thumbnail-preview\">\\n\\t\\t\\t\\t\\t<a id=\"p2924987\" href=\"https://gelbooru.com/index.php?page=post&amp;s=view&amp;id=2924987&tags=yoshitomi_akihito+\">\\n\\t\\t\\t\\t\\t\\t<img src=\"https://img3.gelbooru.com/thumbnails/1e/74/thumbnail_1e7418af6347a3abdb31cf3e3098ed64.jpg\" title=\" 1girl barefoot dress_shirt green_theme long_hair monochrome original shirt sketch skirt solo traditional_media yoshitomi_akihito  score:1 rating:sensitive\"  alt=\"Rule 34 | 1girl, barefoot, dress shirt, green theme, long hair, monochrome, original, shirt, sketch, skirt, solo, traditional media, yoshitomi akihito\" class=\"\"/>\\n\\t\\t\\t\\t\\t</a>\\n\\t\\t\\t\\t</article>\\n\\t\\t\\t\\t<article class=\"thumbnail-preview\">\\n\\t\\t\\t\\t\\t<a id=\"p2922225\" href=\"https://gelbooru.com/index.php?page=post&amp;s=view&amp;id=2922225&tags=yoshitomi_akihito+\">\\n\\t\\t\\t\\t\\t\\t<img src=\"https://img3.gelbooru.com/thumbnails/a4/1f/thumbnail_a41f5dd2eada29e773f78bfd8ddfa42d.jpg\" title=\" 1girl bob_cut looking_at_viewer monochrome no_bra original short_hair sketch solo traditional_media yoshitomi_akihito  score:7 rating:sensitive\"  alt=\"Rule 34 | 1girl, bob cut, looking at viewer, monochrome, no bra, original, short hair, sketch, solo, traditional media, yoshitomi akihito\" class=\"\"/>\\n\\t\\t\\t\\t\\t</a>\\n\\t\\t\\t\\t</article>\\n\\t\\t\\t\\t<article class=\"thumbnail-preview\">\\n\\t\\t\\t\\t\\t<a id=\"p2919606\" href=\"https://gelbooru.com/index.php?page=post&amp;s=view&amp;id=2919606&tags=yoshitomi_akihito+\">\\n\\t\\t\\t\\t\\t\\t<img src=\"https://img3.gelbooru.com/thumbnails/86/e4/thumbnail_86e43285b6d6d1733ca44ae000ad28e5.jpg\" title=\" 1girl barefoot long_hair monochrome original sketch skirt solo traditional_media yoshitomi_akihito  score:2 rating:sensitive\"  alt=\"Rule 34 | 1girl, barefoot, long hair, monochrome, original, sketch, skirt, solo, traditional media, yoshitomi akihito\" class=\"\"/>\\n\\t\\t\\t\\t\\t</a>\\n\\t\\t\\t\\t</article>\\n\\t\\t\\t\\t<article class=\"thumbnail-preview\">\\n\\t\\t\\t\\t\\t<a id=\"p2919604\" href=\"https://gelbooru.com/index.php?page=post&amp;s=view&amp;id=2919604&tags=yoshitomi_akihito+\">\\n\\t\\t\\t\\t\\t\\t<img src=\"https://img3.gelbooru.com/thumbnails/bb/2d/thumbnail_bb2d4d204684e6b61125d0c584e0946f.jpg\" title=\" 1girl convenient_censoring hair_censor hair_over_breasts long_hair looking_at_viewer monochrome navel nude onsen original pink_theme sitting sketch solo traditional_media yoshitomi_akihito  score:4 rating:questionable\"  alt=\"Rule 34 | 1girl, convenient censoring, hair censor, hair over breasts, long hair, looking at viewer, monochrome, navel, nude, onsen, original, pink theme, sitting, sketch, solo, traditional media, yoshitomi akihito\" class=\"\"/>\\n\\t\\t\\t\\t\\t</a>\\n\\t\\t\\t\\t</article>\\n\\t\\t\\t\\t<article class=\"thumbnail-preview\">\\n\\t\\t\\t\\t\\t<a id=\"p2916607\" href=\"https://gelbooru.com/index.php?page=post&amp;s=view&amp;id=2916607&tags=yoshitomi_akihito+\">\\n\\t\\t\\t\\t\\t\\t<img src=\"https://img3.gelbooru.com/thumbnails/19/74/thumbnail_1974fda90eb64937d6bed0b5f11eeb8e.jpg\" title=\" 1girl braid monochrome original panties sketch skirt socks solo traditional_media twin_braids underwear yoshitomi_akihito  score:7 rating:sensitive\"  alt=\"Rule 34 | 1girl, braid, monochrome, original, panties, sketch, skirt, socks, solo, traditional media, twin braids, underwear, yoshitomi akihito\" class=\"\"/>\\n\\t\\t\\t\\t\\t</a>\\n\\t\\t\\t\\t</article>\\n\\t\\t\\t\\t<article class=\"thumbnail-preview\">\\n\\t\\t\\t\\t\\t<a id=\"p2915339\" href=\"https://gelbooru.com/index.php?page=post&amp;s=view&amp;id=2915339&tags=yoshitomi_akihito+\">\\n\\t\\t\\t\\t\\t\\t<img src=\"https://img3.gelbooru.com/thumbnails/ad/c6/thumbnail_adc67c98048663e886a936b12bdb3f9a.jpg\" title=\" 1girl green_theme long_hair monochrome original panties sketch skirt socks solo traditional_media underwear yoshitomi_akihito  score:1 rating:sensitive\"  alt=\"Rule 34 | 1girl, green theme, long hair, monochrome, original, panties, sketch, skirt, socks, solo, traditional media, underwear, yoshitomi akihito\" class=\"\"/>\\n\\t\\t\\t\\t\\t</a>\\n\\t\\t\\t\\t</article>\\n\\t\\t\\t\\t<article class=\"thumbnail-preview\">\\n\\t\\t\\t\\t\\t<a id=\"p2915338\" href=\"https://gelbooru.com/index.php?page=post&amp;s=view&amp;id=2915338&tags=yoshitomi_akihito+\">\\n\\t\\t\\t\\t\\t\\t<img src=\"https://img3.gelbooru.com/thumbnails/f4/3a/thumbnail_f43a36d55bfbe2c8320fa624bbf5ff08.jpg\" title=\" 1girl barefoot long_hair monochrome original sketch skirt solo traditional_media yoshitomi_akihito  score:2 rating:sensitive\"  alt=\"Rule 34 | 1girl, barefoot, long hair, monochrome, original, sketch, skirt, solo, traditional media, yoshitomi akihito\" class=\"\"/>\\n\\t\\t\\t\\t\\t</a>\\n\\t\\t\\t\\t</article>\\n\\t\\t\\t\\t<article class=\"thumbnail-preview\">\\n\\t\\t\\t\\t\\t<a id=\"p2912735\" href=\"https://gelbooru.com/index.php?page=post&amp;s=view&amp;id=2912735&tags=yoshitomi_akihito+\">\\n\\t\\t\\t\\t\\t\\t<img src=\"https://img3.gelbooru.com/thumbnails/8c/f3/thumbnail_8cf325ec19728f63629f6de19c3bb06c.jpg\" title=\" 1boy bolt_crank eat-man long_hair male_focus monochrome simple_background sketch solo traditional_media trench_coat yoshitomi_akihito  score:1 rating:sensitive\"  alt=\"Rule 34 | 1boy, bolt crank, eat-man, long hair, male focus, monochrome, simple background, sketch, solo, traditional media, trench coat, yoshitomi akihito\" class=\"\"/>\\n\\t\\t\\t\\t\\t</a>\\n\\t\\t\\t\\t</article>\\n\\t\\t\\t\\t<article class=\"thumbnail-preview\">\\n\\t\\t\\t\\t\\t<a id=\"p2912730\" href=\"https://gelbooru.com/index.php?page=post&amp;s=view&amp;id=2912730&tags=yoshitomi_akihito+\">\\n\\t\\t\\t\\t\\t\\t<img src=\"https://img3.gelbooru.com/thumbnails/76/84/thumbnail_768444015ed0af94697512f514c24aaa.jpg\" title=\" 1girl barefoot feet long_hair monochrome original purple_theme shorts sketch solo traditional_media twintails yoshitomi_akihito  score:7 rating:sensitive\"  alt=\"Rule 34 | 1girl, barefoot, feet, long hair, monochrome, original, purple theme, shorts, sketch, solo, traditional media, twintails, yoshitomi akihito\" class=\"\"/>\\n\\t\\t\\t\\t\\t</a>\\n\\t\\t\\t\\t</article>\\n\\t\\t\\t\\t<article class=\"thumbnail-preview\">\\n\\t\\t\\t\\t\\t<a id=\"p2909078\" href=\"https://gelbooru.com/index.php?page=post&amp;s=view&amp;id=2909078&tags=yoshitomi_akihito+\">\\n\\t\\t\\t\\t\\t\\t<img src=\"https://img3.gelbooru.com/thumbnails/2d/32/thumbnail_2d32e1b5517890677dea3614d14e1e3b.jpg\" title=\" 1girl barefoot green_theme monochrome original sketch skirt solo traditional_media yoshitomi_akihito  score:2 rating:sensitive\"  alt=\"Rule 34 | 1girl, barefoot, green theme, monochrome, original, sketch, skirt, solo, traditional media, yoshitomi akihito\" class=\"\"/>\\n\\t\\t\\t\\t\\t</a>\\n\\t\\t\\t\\t</article>\\n\\t\\t\\t\\t<article class=\"thumbnail-preview\">\\n\\t\\t\\t\\t\\t<a id=\"p2903703\" href=\"https://gelbooru.com/index.php?page=post&amp;s=view&amp;id=2903703&tags=yoshitomi_akihito+\">\\n\\t\\t\\t\\t\\t\\t<img src=\"https://img3.gelbooru.com/thumbnails/5e/c8/thumbnail_5ec8f97a9c7cd6bbf8d527ededa42937.jpg\" title=\" 1girl barefoot monochrome original sketch skirt solo traditional_media yoshitomi_akihito  score:1 rating:sensitive\"  alt=\"Rule 34 | 1girl, barefoot, monochrome, original, sketch, skirt, solo, traditional media, yoshitomi akihito\" class=\"\"/>\\n\\t\\t\\t\\t\\t</a>\\n\\t\\t\\t\\t</article>\\n\\t\\t\\t\\t<article class=\"thumbnail-preview\">\\n\\t\\t\\t\\t\\t<a id=\"p2903702\" href=\"https://gelbooru.com/index.php?page=post&amp;s=view&amp;id=2903702&tags=yoshitomi_akihito+\">\\n\\t\\t\\t\\t\\t\\t<img src=\"https://img3.gelbooru.com/thumbnails/95/0d/thumbnail_950d8218be2c8a5795d69d6710338a6c.jpg\" title=\" 1girl barefoot bikini monochrome original sarong sketch solo swimsuit traditional_media yoshitomi_akihito  score:7 rating:sensitive\"  alt=\"Rule 34 | 1girl, barefoot, bikini, monochrome, original, sarong, sketch, solo, swimsuit, traditional media, yoshitomi akihito\" class=\"\"/>\\n\\t\\t\\t\\t\\t</a>\\n\\t\\t\\t\\t</article>\\n\\t\\t\\t\\t<article class=\"thumbnail-preview\">\\n\\t\\t\\t\\t\\t<a id=\"p2901207\" href=\"https://gelbooru.com/index.php?page=post&amp;s=view&amp;id=2901207&tags=yoshitomi_akihito+\">\\n\\t\\t\\t\\t\\t\\t<img src=\"https://img3.gelbooru.com/thumbnails/6d/79/thumbnail_6d791de2ff05bd4812927387ea34abe1.jpg\" title=\" 1girl monochrome original panties sketch solo thighhighs traditional_media underwear yoshitomi_akihito  score:5 rating:sensitive\"  alt=\"Rule 34 | 1girl, monochrome, original, panties, sketch, solo, thighhighs, traditional media, underwear, yoshitomi akihito\" class=\"\"/>\\n\\t\\t\\t\\t\\t</a>\\n\\t\\t\\t\\t</article></div>\\n\\t\\t\\t\\t<div class=\"footerAd\"><ins class=\"adsbyexoclick\" data-zoneid=\"1680630\"></ins> <ins class=\"adsbyexoclick\" data-zoneid=\"1680632\"></ins> <ins class=\"adsbyexoclick\" data-zoneid=\"1680634\"></ins> </div>\\n\\t\\t\\t\\t<div class=\"pagination\">\\n\\t\\t\\t\\t\\t<div id=\"paginator\"> <b>1</b> <a href=\"?page=post&amp;s=list&amp;tags=yoshitomi_akihito+&amp;pid=42\">2</a><a href=\"?page=post&amp;s=list&amp;tags=yoshitomi_akihito+&amp;pid=84\">3</a><a href=\"?page=post&amp;s=list&amp;tags=yoshitomi_akihito+&amp;pid=126\">4</a><a href=\"?page=post&amp;s=list&amp;tags=yoshitomi_akihito+&amp;pid=168\">5</a><a href=\"?page=post&amp;s=list&amp;tags=yoshitomi_akihito+&amp;pid=210\">6</a><a href=\"?page=post&amp;s=list&amp;tags=yoshitomi_akihito+&amp;pid=252\">7</a><a href=\"?page=post&amp;s=list&amp;tags=yoshitomi_akihito+&amp;pid=294\">8</a><a href=\"?page=post&amp;s=list&amp;tags=yoshitomi_akihito+&amp;pid=336\">9</a><a href=\"?page=post&amp;s=list&amp;tags=yoshitomi_akihito+&amp;pid=42\" alt=\"next\">&rsaquo;</a><a href=\"?page=post&amp;s=list&amp;tags=yoshitomi_akihito+&amp;pid=588\" alt=\"last page\">&raquo;</a></div></div>\\n\\t\\t\\t<div class=\"footerAd2\"><a href=\"https://buymyshit.moneygrubbingwhore.com/index.php?page=products&s=list\"><img src=\"https://gelbooru.com/extras/store/728/72890-4.jpg\" style=\"border: 0px;\"></a></div></main><script type=\"application/javascript\" src=\"https://a.realsrv.com/video-slider.js\"></script>\\r\\n<script type=\"application/javascript\">\\r\\nvar adConfig = {\\r\\n    \"idzone\": 4012422,\\r\\n    \"frequency_period\": 720,\\r\\n    \"close_after\": 0,\\r\\n    \"sound_enabled\": 0,\\r\\n    \"on_complete\": \"repeat\",\\r\\n    \"branding_enabled\": 0,\\r\\n    \"screen_density\": 25\\r\\n};\\r\\nExoVideoSlider.init(adConfig);\\r\\n</script>\\t\\t  \\n\\t\\t  <footer>\\n\\t\\t  \\t\\t<a href=\"index.php?page=dmca&amp;s=index\"><h2 style=\"display: inline-block;\">DMCA</h2></a><a href=\"tos.php\"><h2 style=\"display: inline-block;\">TOS</h2></a>\\n\\t\\t\\t\\t<br /><br />\\n\\t\\t\\t\\t<a href=\"index.php?page=wiki&amp;s=list&amp;search=howto\"><b>Help</b></a>\\n\\t\\t\\t\\t<a href=\"https://twitter.com/gelbooru\" target=\"_blank\">Twitter</a>\\n\\t\\t\\t\\t<a href=\"https://discord.gg/Zxs9tPE\"><b>Discord</b></a>\\n\\t\\t\\t\\t<a href=\"index.php?page=extras&amp;s=patreon\">Project Supporters</a>\\n\\t\\t\\t\\t\\n\\t\\t\\t</footer>\\n\\t\\t\\t\\t\\t</div>\\n\\n\\t<script>\\n\\t(AdProvider = window.AdProvider || []).push({\"serve\": {}});\\n\\t\\n\\tfunction responsiveViewToggle() {\\n\\t\\tvar x = document.getElementById(\"myTopnav\");\\n\\t\\tif (x.className === \"topnav\") {\\n\\t\\t\\tx.className += \" responsive\";\\n\\t\\t} else {\\n\\t\\t\\tx.className = \"topnav\";\\n\\t\\t}\\n\\t}\\n\\t</script>\\n\\n\\t<link rel=\"stylesheet\" type=\"text/css\" media=\"screen\" href=\"css/jquery-ui.css?2\" title=\"default\" />\\n\\n\\t<script src=\"https://ajax.googleapis.com/ajax/libs/jquery/3.5.1/jquery.min.js\"></script> \\n\\t<script src=\"https://gelbooru.com//script/jquery.cookie.js\"></script>\\n\\t<script src=\"https://gelbooru.com//script/application.grid.js\"></script>\\n\\t<script src=\"https://gelbooru.com//script/jquery-hotkeys.js?1\"></script>\\n\\t<script src=\"https://gelbooru.com//script/autocomplete3.js?2\"></script>\\n\\t\\t\\n\\t<script type=\"text/javascript\">\\n\\t\\tfunction tagPM(tagInput){\\n\\t\\t\\t$(\\'#tags-search\\').val($(\\'#tags-search\\').val() + \\' \\' + tagInput);\\n\\t\\t}\\n\\t\\t\\t\\n\\t\\tfunction saveTagSearch() {\\n\\t\\t\\t$.post(\"index.php?page=tags&s=saved_search&csrf-token=070c2578124599a3f47f2605863a621d29575086971b757640b1b8795eabcf78\", { save_tag_search: $(\\'#tags-search\\').val()} )\\n\\t\\t\\t  .done(function( data ) {\\n\\t\\t\\t\\tif(data)\\n\\t\\t\\t\\t{\\n\\t\\t\\t\\t\\tnotice(\"Saved this search successfully! You can access these via the Tags link in the header.\");\\n\\t\\t\\t\\t}\\n\\t\\t\\t\\telse\\n\\t\\t\\t\\t{\\n\\t\\t\\t\\t\\tnotice(\"There was an error saving this search. Perhaps it already existed or you are not logged in?\");\\n\\t\\t\\t\\t}\\n\\t\\t\\t  });;\\n\\t\\t}\\n\\t\\tif($.cookie(\\'motd\\') == 1)\\n\\t\\t{\\n\\t\\t\\t$(\"#motd\").hide();\\n\\t\\t}\\n\\t\\t\\n\\t\\tfunction darkModeToggle()\\n\\t\\t{\\n\\t\\t\\tif ($.cookie(\\'dark_mode\\') == 1 )\\n\\t\\t\\t{\\n\\t\\t\\t\\t$.removeCookie(\"dark_mode\");\\n\\t\\t\\t}\\n\\t\\t\\telse\\n\\t\\t\\t{\\n\\t\\t\\t\\t$.cookie(\"dark_mode\", 1, { expires : 365 });\\n\\t\\t\\t}\\n\\t\\t\\tlocation.reload();\\n\\t\\t}\\n\\t</script>\\n\\n\\t</body>\\n</html><script type=\"text/javascript\">\\n\\t$(\"#showBottom\").click(function() {\\n\\t\\t $(\\'#tag-list\\')[0].scrollIntoView();\\n\\t});\\n\\t\\n\\t$(\"#showSearch\").click(function() {\\n\\t\\t $(\\'#tags-search\\').focus();\\n\\t});\\n\\t\\n\\t$(\"#backPage\").click(function() {\\n\\t\\t\\twindow.history.back();\\n\\t\\t\\treturn false;\\n\\t});\\n</script>'"
      ]
     },
     "execution_count": 6,
     "metadata": {},
     "output_type": "execute_result"
    }
   ],
   "source": []
  },
  {
   "cell_type": "code",
   "execution_count": 7,
   "id": "39123e8d",
   "metadata": {},
   "outputs": [],
   "source": [
    "page_soup = BeautifulSoup(page.content)"
   ]
  },
  {
   "cell_type": "code",
   "execution_count": 12,
   "id": "6536db1b",
   "metadata": {},
   "outputs": [
    {
     "data": {
      "text/plain": [
       "<body>\n",
       "<style>\n",
       "\t .mn-container-adsby_position_bottom-right {\n",
       "\t\t display: none;\n",
       "\t }\n",
       "\t</style>\n",
       "<div id=\"container\">\n",
       "<div id=\"long-notice\"></div><div id=\"notice\" style=\"display: none;\"></div>\n",
       "<header>\n",
       "<div class=\"topnav\" id=\"myTopnav\">\n",
       "<a class=\"homeIcon\" href=\"https://gelbooru.com/index.php\">\n",
       "<img src=\"https://gelbooru.com/layout/gelbooru-logo.svg\" style=\"height: 46px; width: 46px; margin: 0px; padding-bottom: 2px;\"/>\n",
       "</a>\n",
       "<a href=\"index.php?page=account&amp;s=home\">Settings</a>\n",
       "<a class=\"active\" href=\"index.php?page=post&amp;s=list&amp;tags=all\">Posts</a>\n",
       "<a href=\"index.php?page=comment&amp;s=list\">Comments</a>\n",
       "<a href=\"index.php?page=wiki&amp;s=list\">Wiki</a>\n",
       "<a href=\"index.php?page=tags&amp;s=list\">Tags</a>\n",
       "<a href=\"index.php?page=pool&amp;s=list\">Pools</a>\n",
       "<a href=\"index.php?page=extras&amp;s=artists\">Featured</a>\n",
       "<a href=\"index.php?page=forum&amp;s=list\">Forum</a>\n",
       "<a href=\"index.php?page=tracker&amp;s=list\">Trac</a>\n",
       "<a class=\"active\" href=\"https://buymyshit.moneygrubbingwhore.cOm/\">Store</a>\n",
       "<a href=\"javascript:;\" onclick=\"darkModeToggle(); return false;\"><img src=\"layout/lightbulb-fill.svg\" style=\"filter: invert(62%) sepia(93%) saturate(1352%) hue-rotate(18deg) brightness(119%) contrast(119%); width: 14px; padding: 0px; margin: 0px;\"/></a>\n",
       "<a class=\"icon\" href=\"javascript:void(0);\" onclick=\"responsiveViewToggle();\">\n",
       "<img src=\"layout/list.svg\" style=\"filter: invert(100); height: 16px;\"/>\n",
       "</a>\n",
       "</div>\n",
       "</header><div class=\"navSubmenu\"> <a href=\"index.php?page=post&amp;s=list\">List</a>\n",
       "<a href=\"index.php?page=post&amp;s=add\">Upload</a>\n",
       "<a href=\"index.php?page=post&amp;s=addVideo\">Upload WebM</a>\n",
       "<a href=\"index.php?page=post&amp;s=random\">Random</a>\n",
       "<a href=\"index.php?page=tags&amp;s=saved_search\">Saved Searches</a>\n",
       "<a href=\"redeemCode.php\" style=\"color: #00ff00;\"><b>Redeem Code</b></a>\n",
       "</div>\n",
       "<div class=\"searchArea\">\n",
       "<div>\n",
       "<form action=\"index.php?page=search\" method=\"post\">\n",
       "<a href=\"javascript:;\" onclick=\"saveTagSearch() ;return false;\"><img class=\"\" src=\"layout/heart-fill.svg\" style=\"vertical-align: top; margin: 4px 10px 0px 10px; height: 24px; width: 24px; border: 0px !important; opacity: .6;\" title=\"Save this search. Check your account page.\"/></a>\n",
       "<input autocomplete=\"on\" data-autocomplete=\"tag-query\" id=\"tags-search\" name=\"tags\" placeholder=\"Search Example: video black_hair rating:sensitive\" style=\"padding: 7px; width: calc(100% - 180px); border: 1px solid #e0e0e0;\" type=\"text\" value=\"yoshitomi_akihito \"/>\n",
       "<input class=\"searchList\" name=\"commit\" type=\"submit\" value=\"Search\"/>\n",
       "</form>\n",
       "</div>\n",
       "</div> <section class=\"aside\">\n",
       "<span class=\"sm-hidden\"><br/>\n",
       "<b style=\"margin-left: 15px;\">Tags</b>\n",
       "<br/><br/>\n",
       "</span>\n",
       "<ul class=\"tag-list\" id=\"tag-list\">\n",
       "<li class=\"tag-type-artist\">\n",
       "<a class=\"mobile-spacing\" href=\"index.php?page=wiki&amp;s=list&amp;search=yoshitomi_akihito\" title=\"Wiki\">?</a>\n",
       "<a class=\"mobile-spacing\" href=\"javascript:;\" onclick=\"tagPM('yoshitomi_akihito'); window.navigator.vibrate(20); return false;\" rel=\"nofollow\" title=\"Add to search\">+</a>\n",
       "<a class=\"mobile-spacing\" href=\"javascript:;\" onclick=\"tagPM('-yoshitomi_akihito'); window.navigator.vibrate(20); return false;\" rel=\"nofollow\" title=\"Remove from search\">-</a>\n",
       "<a href=\"index.php?page=post&amp;s=list&amp;tags=yoshitomi_akihito\" rel=\"nofollow\">yoshitomi akihito</a> <span style=\"color: #a0a0a0;\">601</span>\n",
       "</li>\n",
       "<li class=\"tag-type-copyright\">\n",
       "<a class=\"mobile-spacing\" href=\"index.php?page=wiki&amp;s=list&amp;search=original\" title=\"Wiki\">?</a>\n",
       "<a class=\"mobile-spacing\" href=\"javascript:;\" onclick=\"tagPM('original'); window.navigator.vibrate(20); return false;\" rel=\"nofollow\" title=\"Add to search\">+</a>\n",
       "<a class=\"mobile-spacing\" href=\"javascript:;\" onclick=\"tagPM('-original'); window.navigator.vibrate(20); return false;\" rel=\"nofollow\" title=\"Remove from search\">-</a>\n",
       "<a href=\"index.php?page=post&amp;s=list&amp;tags=original\" rel=\"nofollow\">original</a> <span style=\"color: #a0a0a0;\">1008078</span>\n",
       "</li>\n",
       "<li class=\"tag-type-metadata\">\n",
       "<a class=\"mobile-spacing\" href=\"index.php?page=wiki&amp;s=list&amp;search=highres\" title=\"Wiki\">?</a>\n",
       "<a class=\"mobile-spacing\" href=\"javascript:;\" onclick=\"tagPM('highres'); window.navigator.vibrate(20); return false;\" rel=\"nofollow\" title=\"Add to search\">+</a>\n",
       "<a class=\"mobile-spacing\" href=\"javascript:;\" onclick=\"tagPM('-highres'); window.navigator.vibrate(20); return false;\" rel=\"nofollow\" title=\"Remove from search\">-</a>\n",
       "<a href=\"index.php?page=post&amp;s=list&amp;tags=highres\" rel=\"nofollow\">highres</a> <span style=\"color: #a0a0a0;\">4231888</span>\n",
       "</li>\n",
       "<li class=\"tag-type-general\">\n",
       "<a class=\"mobile-spacing\" href=\"index.php?page=wiki&amp;s=list&amp;search=1girl\" title=\"Wiki\">?</a>\n",
       "<a class=\"mobile-spacing\" href=\"javascript:;\" onclick=\"tagPM('1girl'); window.navigator.vibrate(20); return false;\" rel=\"nofollow\" title=\"Add to search\">+</a>\n",
       "<a class=\"mobile-spacing\" href=\"javascript:;\" onclick=\"tagPM('-1girl'); window.navigator.vibrate(20); return false;\" rel=\"nofollow\" title=\"Remove from search\">-</a>\n",
       "<a href=\"index.php?page=post&amp;s=list&amp;tags=1girl\" rel=\"nofollow\">1girl</a> <span style=\"color: #a0a0a0;\">5539441</span>\n",
       "</li>\n",
       "<li class=\"tag-type-general\">\n",
       "<a class=\"mobile-spacing\" href=\"index.php?page=wiki&amp;s=list&amp;search=barefoot\" title=\"Wiki\">?</a>\n",
       "<a class=\"mobile-spacing\" href=\"javascript:;\" onclick=\"tagPM('barefoot'); window.navigator.vibrate(20); return false;\" rel=\"nofollow\" title=\"Add to search\">+</a>\n",
       "<a class=\"mobile-spacing\" href=\"javascript:;\" onclick=\"tagPM('-barefoot'); window.navigator.vibrate(20); return false;\" rel=\"nofollow\" title=\"Remove from search\">-</a>\n",
       "<a href=\"index.php?page=post&amp;s=list&amp;tags=barefoot\" rel=\"nofollow\">barefoot</a> <span style=\"color: #a0a0a0;\">373254</span>\n",
       "</li>\n",
       "<li class=\"tag-type-general\">\n",
       "<a class=\"mobile-spacing\" href=\"index.php?page=wiki&amp;s=list&amp;search=bikini\" title=\"Wiki\">?</a>\n",
       "<a class=\"mobile-spacing\" href=\"javascript:;\" onclick=\"tagPM('bikini'); window.navigator.vibrate(20); return false;\" rel=\"nofollow\" title=\"Add to search\">+</a>\n",
       "<a class=\"mobile-spacing\" href=\"javascript:;\" onclick=\"tagPM('-bikini'); window.navigator.vibrate(20); return false;\" rel=\"nofollow\" title=\"Remove from search\">-</a>\n",
       "<a href=\"index.php?page=post&amp;s=list&amp;tags=bikini\" rel=\"nofollow\">bikini</a> <span style=\"color: #a0a0a0;\">449857</span>\n",
       "</li>\n",
       "<li class=\"tag-type-general\">\n",
       "<a class=\"mobile-spacing\" href=\"index.php?page=wiki&amp;s=list&amp;search=boots\" title=\"Wiki\">?</a>\n",
       "<a class=\"mobile-spacing\" href=\"javascript:;\" onclick=\"tagPM('boots'); window.navigator.vibrate(20); return false;\" rel=\"nofollow\" title=\"Add to search\">+</a>\n",
       "<a class=\"mobile-spacing\" href=\"javascript:;\" onclick=\"tagPM('-boots'); window.navigator.vibrate(20); return false;\" rel=\"nofollow\" title=\"Remove from search\">-</a>\n",
       "<a href=\"index.php?page=post&amp;s=list&amp;tags=boots\" rel=\"nofollow\">boots</a> <span style=\"color: #a0a0a0;\">386097</span>\n",
       "</li>\n",
       "<li class=\"tag-type-general\">\n",
       "<a class=\"mobile-spacing\" href=\"index.php?page=wiki&amp;s=list&amp;search=breasts\" title=\"Wiki\">?</a>\n",
       "<a class=\"mobile-spacing\" href=\"javascript:;\" onclick=\"tagPM('breasts'); window.navigator.vibrate(20); return false;\" rel=\"nofollow\" title=\"Add to search\">+</a>\n",
       "<a class=\"mobile-spacing\" href=\"javascript:;\" onclick=\"tagPM('-breasts'); window.navigator.vibrate(20); return false;\" rel=\"nofollow\" title=\"Remove from search\">-</a>\n",
       "<a href=\"index.php?page=post&amp;s=list&amp;tags=breasts\" rel=\"nofollow\">breasts</a> <span style=\"color: #a0a0a0;\">3464827</span>\n",
       "</li>\n",
       "<li class=\"tag-type-general\">\n",
       "<a class=\"mobile-spacing\" href=\"index.php?page=wiki&amp;s=list&amp;search=collar\" title=\"Wiki\">?</a>\n",
       "<a class=\"mobile-spacing\" href=\"javascript:;\" onclick=\"tagPM('collar'); window.navigator.vibrate(20); return false;\" rel=\"nofollow\" title=\"Add to search\">+</a>\n",
       "<a class=\"mobile-spacing\" href=\"javascript:;\" onclick=\"tagPM('-collar'); window.navigator.vibrate(20); return false;\" rel=\"nofollow\" title=\"Remove from search\">-</a>\n",
       "<a href=\"index.php?page=post&amp;s=list&amp;tags=collar\" rel=\"nofollow\">collar</a> <span style=\"color: #a0a0a0;\">181608</span>\n",
       "</li>\n",
       "<li class=\"tag-type-general\">\n",
       "<a class=\"mobile-spacing\" href=\"index.php?page=wiki&amp;s=list&amp;search=engine\" title=\"Wiki\">?</a>\n",
       "<a class=\"mobile-spacing\" href=\"javascript:;\" onclick=\"tagPM('engine'); window.navigator.vibrate(20); return false;\" rel=\"nofollow\" title=\"Add to search\">+</a>\n",
       "<a class=\"mobile-spacing\" href=\"javascript:;\" onclick=\"tagPM('-engine'); window.navigator.vibrate(20); return false;\" rel=\"nofollow\" title=\"Remove from search\">-</a>\n",
       "<a href=\"index.php?page=post&amp;s=list&amp;tags=engine\" rel=\"nofollow\">engine</a> <span style=\"color: #a0a0a0;\">311</span>\n",
       "</li>\n",
       "<li class=\"tag-type-general\">\n",
       "<a class=\"mobile-spacing\" href=\"index.php?page=wiki&amp;s=list&amp;search=fingerless_gloves\" title=\"Wiki\">?</a>\n",
       "<a class=\"mobile-spacing\" href=\"javascript:;\" onclick=\"tagPM('fingerless_gloves'); window.navigator.vibrate(20); return false;\" rel=\"nofollow\" title=\"Add to search\">+</a>\n",
       "<a class=\"mobile-spacing\" href=\"javascript:;\" onclick=\"tagPM('-fingerless_gloves'); window.navigator.vibrate(20); return false;\" rel=\"nofollow\" title=\"Remove from search\">-</a>\n",
       "<a href=\"index.php?page=post&amp;s=list&amp;tags=fingerless_gloves\" rel=\"nofollow\">fingerless gloves</a> <span style=\"color: #a0a0a0;\">204153</span>\n",
       "</li>\n",
       "<li class=\"tag-type-general\">\n",
       "<a class=\"mobile-spacing\" href=\"index.php?page=wiki&amp;s=list&amp;search=floating\" title=\"Wiki\">?</a>\n",
       "<a class=\"mobile-spacing\" href=\"javascript:;\" onclick=\"tagPM('floating'); window.navigator.vibrate(20); return false;\" rel=\"nofollow\" title=\"Add to search\">+</a>\n",
       "<a class=\"mobile-spacing\" href=\"javascript:;\" onclick=\"tagPM('-floating'); window.navigator.vibrate(20); return false;\" rel=\"nofollow\" title=\"Remove from search\">-</a>\n",
       "<a href=\"index.php?page=post&amp;s=list&amp;tags=floating\" rel=\"nofollow\">floating</a> <span style=\"color: #a0a0a0;\">27677</span>\n",
       "</li>\n",
       "<li class=\"tag-type-general\">\n",
       "<a class=\"mobile-spacing\" href=\"index.php?page=wiki&amp;s=list&amp;search=fur_trim\" title=\"Wiki\">?</a>\n",
       "<a class=\"mobile-spacing\" href=\"javascript:;\" onclick=\"tagPM('fur_trim'); window.navigator.vibrate(20); return false;\" rel=\"nofollow\" title=\"Add to search\">+</a>\n",
       "<a class=\"mobile-spacing\" href=\"javascript:;\" onclick=\"tagPM('-fur_trim'); window.navigator.vibrate(20); return false;\" rel=\"nofollow\" title=\"Remove from search\">-</a>\n",
       "<a href=\"index.php?page=post&amp;s=list&amp;tags=fur_trim\" rel=\"nofollow\">fur trim</a> <span style=\"color: #a0a0a0;\">101931</span>\n",
       "</li>\n",
       "<li class=\"tag-type-general\">\n",
       "<a class=\"mobile-spacing\" href=\"index.php?page=wiki&amp;s=list&amp;search=gloves\" title=\"Wiki\">?</a>\n",
       "<a class=\"mobile-spacing\" href=\"javascript:;\" onclick=\"tagPM('gloves'); window.navigator.vibrate(20); return false;\" rel=\"nofollow\" title=\"Add to search\">+</a>\n",
       "<a class=\"mobile-spacing\" href=\"javascript:;\" onclick=\"tagPM('-gloves'); window.navigator.vibrate(20); return false;\" rel=\"nofollow\" title=\"Remove from search\">-</a>\n",
       "<a href=\"index.php?page=post&amp;s=list&amp;tags=gloves\" rel=\"nofollow\">gloves</a> <span style=\"color: #a0a0a0;\">1054695</span>\n",
       "</li>\n",
       "<li class=\"tag-type-general\">\n",
       "<a class=\"mobile-spacing\" href=\"index.php?page=wiki&amp;s=list&amp;search=gradient_clothes\" title=\"Wiki\">?</a>\n",
       "<a class=\"mobile-spacing\" href=\"javascript:;\" onclick=\"tagPM('gradient_clothes'); window.navigator.vibrate(20); return false;\" rel=\"nofollow\" title=\"Add to search\">+</a>\n",
       "<a class=\"mobile-spacing\" href=\"javascript:;\" onclick=\"tagPM('-gradient_clothes'); window.navigator.vibrate(20); return false;\" rel=\"nofollow\" title=\"Remove from search\">-</a>\n",
       "<a href=\"index.php?page=post&amp;s=list&amp;tags=gradient_clothes\" rel=\"nofollow\">gradient clothes</a> <span style=\"color: #a0a0a0;\">1159</span>\n",
       "</li>\n",
       "<li class=\"tag-type-general\">\n",
       "<a class=\"mobile-spacing\" href=\"index.php?page=wiki&amp;s=list&amp;search=gradient_hair\" title=\"Wiki\">?</a>\n",
       "<a class=\"mobile-spacing\" href=\"javascript:;\" onclick=\"tagPM('gradient_hair'); window.navigator.vibrate(20); return false;\" rel=\"nofollow\" title=\"Add to search\">+</a>\n",
       "<a class=\"mobile-spacing\" href=\"javascript:;\" onclick=\"tagPM('-gradient_hair'); window.navigator.vibrate(20); return false;\" rel=\"nofollow\" title=\"Remove from search\">-</a>\n",
       "<a href=\"index.php?page=post&amp;s=list&amp;tags=gradient_hair\" rel=\"nofollow\">gradient hair</a> <span style=\"color: #a0a0a0;\">84589</span>\n",
       "</li>\n",
       "<li class=\"tag-type-general\">\n",
       "<a class=\"mobile-spacing\" href=\"index.php?page=wiki&amp;s=list&amp;search=horns\" title=\"Wiki\">?</a>\n",
       "<a class=\"mobile-spacing\" href=\"javascript:;\" onclick=\"tagPM('horns'); window.navigator.vibrate(20); return false;\" rel=\"nofollow\" title=\"Add to search\">+</a>\n",
       "<a class=\"mobile-spacing\" href=\"javascript:;\" onclick=\"tagPM('-horns'); window.navigator.vibrate(20); return false;\" rel=\"nofollow\" title=\"Remove from search\">-</a>\n",
       "<a href=\"index.php?page=post&amp;s=list&amp;tags=horns\" rel=\"nofollow\">horns</a> <span style=\"color: #a0a0a0;\">337930</span>\n",
       "</li>\n",
       "<li class=\"tag-type-general\">\n",
       "<a class=\"mobile-spacing\" href=\"index.php?page=wiki&amp;s=list&amp;search=looking_at_viewer\" title=\"Wiki\">?</a>\n",
       "<a class=\"mobile-spacing\" href=\"javascript:;\" onclick=\"tagPM('looking_at_viewer'); window.navigator.vibrate(20); return false;\" rel=\"nofollow\" title=\"Add to search\">+</a>\n",
       "<a class=\"mobile-spacing\" href=\"javascript:;\" onclick=\"tagPM('-looking_at_viewer'); window.navigator.vibrate(20); return false;\" rel=\"nofollow\" title=\"Remove from search\">-</a>\n",
       "<a href=\"index.php?page=post&amp;s=list&amp;tags=looking_at_viewer\" rel=\"nofollow\">looking at viewer</a> <span style=\"color: #a0a0a0;\">2532251</span>\n",
       "</li>\n",
       "<li class=\"tag-type-general\">\n",
       "<a class=\"mobile-spacing\" href=\"index.php?page=wiki&amp;s=list&amp;search=mechanical_horns\" title=\"Wiki\">?</a>\n",
       "<a class=\"mobile-spacing\" href=\"javascript:;\" onclick=\"tagPM('mechanical_horns'); window.navigator.vibrate(20); return false;\" rel=\"nofollow\" title=\"Add to search\">+</a>\n",
       "<a class=\"mobile-spacing\" href=\"javascript:;\" onclick=\"tagPM('-mechanical_horns'); window.navigator.vibrate(20); return false;\" rel=\"nofollow\" title=\"Remove from search\">-</a>\n",
       "<a href=\"index.php?page=post&amp;s=list&amp;tags=mechanical_horns\" rel=\"nofollow\">mechanical horns</a> <span style=\"color: #a0a0a0;\">1133</span>\n",
       "</li>\n",
       "<li class=\"tag-type-general\">\n",
       "<a class=\"mobile-spacing\" href=\"index.php?page=wiki&amp;s=list&amp;search=medium_hair\" title=\"Wiki\">?</a>\n",
       "<a class=\"mobile-spacing\" href=\"javascript:;\" onclick=\"tagPM('medium_hair'); window.navigator.vibrate(20); return false;\" rel=\"nofollow\" title=\"Add to search\">+</a>\n",
       "<a class=\"mobile-spacing\" href=\"javascript:;\" onclick=\"tagPM('-medium_hair'); window.navigator.vibrate(20); return false;\" rel=\"nofollow\" title=\"Remove from search\">-</a>\n",
       "<a href=\"index.php?page=post&amp;s=list&amp;tags=medium_hair\" rel=\"nofollow\">medium hair</a> <span style=\"color: #a0a0a0;\">197189</span>\n",
       "</li>\n",
       "<li class=\"tag-type-general\">\n",
       "<a class=\"mobile-spacing\" href=\"index.php?page=wiki&amp;s=list&amp;search=multicolored_hair\" title=\"Wiki\">?</a>\n",
       "<a class=\"mobile-spacing\" href=\"javascript:;\" onclick=\"tagPM('multicolored_hair'); window.navigator.vibrate(20); return false;\" rel=\"nofollow\" title=\"Add to search\">+</a>\n",
       "<a class=\"mobile-spacing\" href=\"javascript:;\" onclick=\"tagPM('-multicolored_hair'); window.navigator.vibrate(20); return false;\" rel=\"nofollow\" title=\"Remove from search\">-</a>\n",
       "<a href=\"index.php?page=post&amp;s=list&amp;tags=multicolored_hair\" rel=\"nofollow\">multicolored hair</a> <span style=\"color: #a0a0a0;\">375530</span>\n",
       "</li>\n",
       "<li class=\"tag-type-general\">\n",
       "<a class=\"mobile-spacing\" href=\"index.php?page=wiki&amp;s=list&amp;search=no_pants\" title=\"Wiki\">?</a>\n",
       "<a class=\"mobile-spacing\" href=\"javascript:;\" onclick=\"tagPM('no_pants'); window.navigator.vibrate(20); return false;\" rel=\"nofollow\" title=\"Add to search\">+</a>\n",
       "<a class=\"mobile-spacing\" href=\"javascript:;\" onclick=\"tagPM('-no_pants'); window.navigator.vibrate(20); return false;\" rel=\"nofollow\" title=\"Remove from search\">-</a>\n",
       "<a href=\"index.php?page=post&amp;s=list&amp;tags=no_pants\" rel=\"nofollow\">no pants</a> <span style=\"color: #a0a0a0;\">44086</span>\n",
       "</li>\n",
       "<li class=\"tag-type-general\">\n",
       "<a class=\"mobile-spacing\" href=\"index.php?page=wiki&amp;s=list&amp;search=pink_eyes\" title=\"Wiki\">?</a>\n",
       "<a class=\"mobile-spacing\" href=\"javascript:;\" onclick=\"tagPM('pink_eyes'); window.navigator.vibrate(20); return false;\" rel=\"nofollow\" title=\"Add to search\">+</a>\n",
       "<a class=\"mobile-spacing\" href=\"javascript:;\" onclick=\"tagPM('-pink_eyes'); window.navigator.vibrate(20); return false;\" rel=\"nofollow\" title=\"Remove from search\">-</a>\n",
       "<a href=\"index.php?page=post&amp;s=list&amp;tags=pink_eyes\" rel=\"nofollow\">pink eyes</a> <span style=\"color: #a0a0a0;\">214442</span>\n",
       "</li>\n",
       "<li class=\"tag-type-general\">\n",
       "<a class=\"mobile-spacing\" href=\"index.php?page=wiki&amp;s=list&amp;search=pink_hair\" title=\"Wiki\">?</a>\n",
       "<a class=\"mobile-spacing\" href=\"javascript:;\" onclick=\"tagPM('pink_hair'); window.navigator.vibrate(20); return false;\" rel=\"nofollow\" title=\"Add to search\">+</a>\n",
       "<a class=\"mobile-spacing\" href=\"javascript:;\" onclick=\"tagPM('-pink_hair'); window.navigator.vibrate(20); return false;\" rel=\"nofollow\" title=\"Remove from search\">-</a>\n",
       "<a href=\"index.php?page=post&amp;s=list&amp;tags=pink_hair\" rel=\"nofollow\">pink hair</a> <span style=\"color: #a0a0a0;\">555937</span>\n",
       "</li>\n",
       "<li class=\"tag-type-general\">\n",
       "<a class=\"mobile-spacing\" href=\"index.php?page=wiki&amp;s=list&amp;search=pink_shirt\" title=\"Wiki\">?</a>\n",
       "<a class=\"mobile-spacing\" href=\"javascript:;\" onclick=\"tagPM('pink_shirt'); window.navigator.vibrate(20); return false;\" rel=\"nofollow\" title=\"Add to search\">+</a>\n",
       "<a class=\"mobile-spacing\" href=\"javascript:;\" onclick=\"tagPM('-pink_shirt'); window.navigator.vibrate(20); return false;\" rel=\"nofollow\" title=\"Remove from search\">-</a>\n",
       "<a href=\"index.php?page=post&amp;s=list&amp;tags=pink_shirt\" rel=\"nofollow\">pink shirt</a> <span style=\"color: #a0a0a0;\">26225</span>\n",
       "</li>\n",
       "<li class=\"tag-type-general\">\n",
       "<a class=\"mobile-spacing\" href=\"index.php?page=wiki&amp;s=list&amp;search=propeller\" title=\"Wiki\">?</a>\n",
       "<a class=\"mobile-spacing\" href=\"javascript:;\" onclick=\"tagPM('propeller'); window.navigator.vibrate(20); return false;\" rel=\"nofollow\" title=\"Add to search\">+</a>\n",
       "<a class=\"mobile-spacing\" href=\"javascript:;\" onclick=\"tagPM('-propeller'); window.navigator.vibrate(20); return false;\" rel=\"nofollow\" title=\"Remove from search\">-</a>\n",
       "<a href=\"index.php?page=post&amp;s=list&amp;tags=propeller\" rel=\"nofollow\">propeller</a> <span style=\"color: #a0a0a0;\">1172</span>\n",
       "</li>\n",
       "<li class=\"tag-type-general\">\n",
       "<a class=\"mobile-spacing\" href=\"index.php?page=wiki&amp;s=list&amp;search=robot\" title=\"Wiki\">?</a>\n",
       "<a class=\"mobile-spacing\" href=\"javascript:;\" onclick=\"tagPM('robot'); window.navigator.vibrate(20); return false;\" rel=\"nofollow\" title=\"Add to search\">+</a>\n",
       "<a class=\"mobile-spacing\" href=\"javascript:;\" onclick=\"tagPM('-robot'); window.navigator.vibrate(20); return false;\" rel=\"nofollow\" title=\"Remove from search\">-</a>\n",
       "<a href=\"index.php?page=post&amp;s=list&amp;tags=robot\" rel=\"nofollow\">robot</a> <span style=\"color: #a0a0a0;\">46906</span>\n",
       "</li>\n",
       "<li class=\"tag-type-general\">\n",
       "<a class=\"mobile-spacing\" href=\"index.php?page=wiki&amp;s=list&amp;search=screw\" title=\"Wiki\">?</a>\n",
       "<a class=\"mobile-spacing\" href=\"javascript:;\" onclick=\"tagPM('screw'); window.navigator.vibrate(20); return false;\" rel=\"nofollow\" title=\"Add to search\">+</a>\n",
       "<a class=\"mobile-spacing\" href=\"javascript:;\" onclick=\"tagPM('-screw'); window.navigator.vibrate(20); return false;\" rel=\"nofollow\" title=\"Remove from search\">-</a>\n",
       "<a href=\"index.php?page=post&amp;s=list&amp;tags=screw\" rel=\"nofollow\">screw</a> <span style=\"color: #a0a0a0;\">1170</span>\n",
       "</li>\n",
       "<li class=\"tag-type-general\">\n",
       "<a class=\"mobile-spacing\" href=\"index.php?page=wiki&amp;s=list&amp;search=shirt\" title=\"Wiki\">?</a>\n",
       "<a class=\"mobile-spacing\" href=\"javascript:;\" onclick=\"tagPM('shirt'); window.navigator.vibrate(20); return false;\" rel=\"nofollow\" title=\"Add to search\">+</a>\n",
       "<a class=\"mobile-spacing\" href=\"javascript:;\" onclick=\"tagPM('-shirt'); window.navigator.vibrate(20); return false;\" rel=\"nofollow\" title=\"Remove from search\">-</a>\n",
       "<a href=\"index.php?page=post&amp;s=list&amp;tags=shirt\" rel=\"nofollow\">shirt</a> <span style=\"color: #a0a0a0;\">1146491</span>\n",
       "</li>\n",
       "<li class=\"tag-type-general\">\n",
       "<a class=\"mobile-spacing\" href=\"index.php?page=wiki&amp;s=list&amp;search=short_hair\" title=\"Wiki\">?</a>\n",
       "<a class=\"mobile-spacing\" href=\"javascript:;\" onclick=\"tagPM('short_hair'); window.navigator.vibrate(20); return false;\" rel=\"nofollow\" title=\"Add to search\">+</a>\n",
       "<a class=\"mobile-spacing\" href=\"javascript:;\" onclick=\"tagPM('-short_hair'); window.navigator.vibrate(20); return false;\" rel=\"nofollow\" title=\"Remove from search\">-</a>\n",
       "<a href=\"index.php?page=post&amp;s=list&amp;tags=short_hair\" rel=\"nofollow\">short hair</a> <span style=\"color: #a0a0a0;\">1945744</span>\n",
       "</li>\n",
       "<li class=\"tag-type-general\">\n",
       "<a class=\"mobile-spacing\" href=\"index.php?page=wiki&amp;s=list&amp;search=small_breasts\" title=\"Wiki\">?</a>\n",
       "<a class=\"mobile-spacing\" href=\"javascript:;\" onclick=\"tagPM('small_breasts'); window.navigator.vibrate(20); return false;\" rel=\"nofollow\" title=\"Add to search\">+</a>\n",
       "<a class=\"mobile-spacing\" href=\"javascript:;\" onclick=\"tagPM('-small_breasts'); window.navigator.vibrate(20); return false;\" rel=\"nofollow\" title=\"Remove from search\">-</a>\n",
       "<a href=\"index.php?page=post&amp;s=list&amp;tags=small_breasts\" rel=\"nofollow\">small breasts</a> <span style=\"color: #a0a0a0;\">458512</span>\n",
       "</li>\n",
       "<li class=\"tag-type-general\">\n",
       "<a class=\"mobile-spacing\" href=\"index.php?page=wiki&amp;s=list&amp;search=smile\" title=\"Wiki\">?</a>\n",
       "<a class=\"mobile-spacing\" href=\"javascript:;\" onclick=\"tagPM('smile'); window.navigator.vibrate(20); return false;\" rel=\"nofollow\" title=\"Add to search\">+</a>\n",
       "<a class=\"mobile-spacing\" href=\"javascript:;\" onclick=\"tagPM('-smile'); window.navigator.vibrate(20); return false;\" rel=\"nofollow\" title=\"Remove from search\">-</a>\n",
       "<a href=\"index.php?page=post&amp;s=list&amp;tags=smile\" rel=\"nofollow\">smile</a> <span style=\"color: #a0a0a0;\">2279074</span>\n",
       "</li>\n",
       "<li class=\"tag-type-general\">\n",
       "<a class=\"mobile-spacing\" href=\"index.php?page=wiki&amp;s=list&amp;search=smoke\" title=\"Wiki\">?</a>\n",
       "<a class=\"mobile-spacing\" href=\"javascript:;\" onclick=\"tagPM('smoke'); window.navigator.vibrate(20); return false;\" rel=\"nofollow\" title=\"Add to search\">+</a>\n",
       "<a class=\"mobile-spacing\" href=\"javascript:;\" onclick=\"tagPM('-smoke'); window.navigator.vibrate(20); return false;\" rel=\"nofollow\" title=\"Remove from search\">-</a>\n",
       "<a href=\"index.php?page=post&amp;s=list&amp;tags=smoke\" rel=\"nofollow\">smoke</a> <span style=\"color: #a0a0a0;\">27608</span>\n",
       "</li>\n",
       "<li class=\"tag-type-general\">\n",
       "<a class=\"mobile-spacing\" href=\"index.php?page=wiki&amp;s=list&amp;search=socks\" title=\"Wiki\">?</a>\n",
       "<a class=\"mobile-spacing\" href=\"javascript:;\" onclick=\"tagPM('socks'); window.navigator.vibrate(20); return false;\" rel=\"nofollow\" title=\"Add to search\">+</a>\n",
       "<a class=\"mobile-spacing\" href=\"javascript:;\" onclick=\"tagPM('-socks'); window.navigator.vibrate(20); return false;\" rel=\"nofollow\" title=\"Remove from search\">-</a>\n",
       "<a href=\"index.php?page=post&amp;s=list&amp;tags=socks\" rel=\"nofollow\">socks</a> <span style=\"color: #a0a0a0;\">305044</span>\n",
       "</li>\n",
       "<li class=\"tag-type-general\">\n",
       "<a class=\"mobile-spacing\" href=\"index.php?page=wiki&amp;s=list&amp;search=solo\" title=\"Wiki\">?</a>\n",
       "<a class=\"mobile-spacing\" href=\"javascript:;\" onclick=\"tagPM('solo'); window.navigator.vibrate(20); return false;\" rel=\"nofollow\" title=\"Add to search\">+</a>\n",
       "<a class=\"mobile-spacing\" href=\"javascript:;\" onclick=\"tagPM('-solo'); window.navigator.vibrate(20); return false;\" rel=\"nofollow\" title=\"Remove from search\">-</a>\n",
       "<a href=\"index.php?page=post&amp;s=list&amp;tags=solo\" rel=\"nofollow\">solo</a> <span style=\"color: #a0a0a0;\">4198462</span>\n",
       "</li>\n",
       "<li class=\"tag-type-general\">\n",
       "<a class=\"mobile-spacing\" href=\"index.php?page=wiki&amp;s=list&amp;search=string_bikini\" title=\"Wiki\">?</a>\n",
       "<a class=\"mobile-spacing\" href=\"javascript:;\" onclick=\"tagPM('string_bikini'); window.navigator.vibrate(20); return false;\" rel=\"nofollow\" title=\"Add to search\">+</a>\n",
       "<a class=\"mobile-spacing\" href=\"javascript:;\" onclick=\"tagPM('-string_bikini'); window.navigator.vibrate(20); return false;\" rel=\"nofollow\" title=\"Remove from search\">-</a>\n",
       "<a href=\"index.php?page=post&amp;s=list&amp;tags=string_bikini\" rel=\"nofollow\">string bikini</a> <span style=\"color: #a0a0a0;\">35586</span>\n",
       "</li>\n",
       "<li class=\"tag-type-general\">\n",
       "<a class=\"mobile-spacing\" href=\"index.php?page=wiki&amp;s=list&amp;search=swimsuit\" title=\"Wiki\">?</a>\n",
       "<a class=\"mobile-spacing\" href=\"javascript:;\" onclick=\"tagPM('swimsuit'); window.navigator.vibrate(20); return false;\" rel=\"nofollow\" title=\"Add to search\">+</a>\n",
       "<a class=\"mobile-spacing\" href=\"javascript:;\" onclick=\"tagPM('-swimsuit'); window.navigator.vibrate(20); return false;\" rel=\"nofollow\" title=\"Remove from search\">-</a>\n",
       "<a href=\"index.php?page=post&amp;s=list&amp;tags=swimsuit\" rel=\"nofollow\">swimsuit</a> <span style=\"color: #a0a0a0;\">614569</span>\n",
       "</li>\n",
       "<li class=\"tag-type-general\">\n",
       "<a class=\"mobile-spacing\" href=\"index.php?page=wiki&amp;s=list&amp;search=white_background\" title=\"Wiki\">?</a>\n",
       "<a class=\"mobile-spacing\" href=\"javascript:;\" onclick=\"tagPM('white_background'); window.navigator.vibrate(20); return false;\" rel=\"nofollow\" title=\"Add to search\">+</a>\n",
       "<a class=\"mobile-spacing\" href=\"javascript:;\" onclick=\"tagPM('-white_background'); window.navigator.vibrate(20); return false;\" rel=\"nofollow\" title=\"Remove from search\">-</a>\n",
       "<a href=\"index.php?page=post&amp;s=list&amp;tags=white_background\" rel=\"nofollow\">white background</a> <span style=\"color: #a0a0a0;\">1092810</span>\n",
       "</li>\n",
       "</ul>\n",
       "</section>\n",
       "<main>\n",
       "<div id=\"long-notice\"></div><div id=\"notice\" style=\"display: none;\"></div>\n",
       "<div class=\"headerAd\">\n",
       "<a href=\"https://realbooru.com/index.php?page=post&amp;s=list\" target=\"_blank\">\n",
       "<video autoplay=\"\" height=\"90\" loop=\"\" muted=\"\" width=\"728\">\n",
       "<source src=\"https://gelbooru.com/realbooru.mp4\" type=\"video/mp4\"/>\n",
       "</video>\n",
       "</a><br/><br/></div>\n",
       "<div class=\"alert alert-success\" role=\"alert\" style=\"display: none;\"><center><a href=\"index.php?page=gmail\">You have mail</a></center></div>\n",
       "<div class=\"showNoGridSupport alert alert-info\" style=\"display: none;\"><center><a href=\"https://caniuse.com/css-grid\" rel=\"nofollow\" target=\"_blank\">Your browser does not support grid</a>, so will not be supported. Hover over your browser version to see if there is a way to enable potential support. Sorry, I am no longer able to justify working on making the layout work on older devices.</center></div>\n",
       "<div class=\"alert alert-success\" role=\"alert\" style=\"display:none;\">\n",
       "<center><a href=\"index.php?page=help&amp;topic=post\"><b>Safe images only mode.</b></a></center>\n",
       "</div>\n",
       "<div class=\"thumbnail-container\">\n",
       "<article class=\"thumbnail-preview\">\n",
       "<a href=\"https://gelbooru.com/index.php?page=post&amp;s=view&amp;id=7585881&amp;tags=yoshitomi_akihito+\" id=\"p7585881\">\n",
       "<img alt=\"Rule 34 | 1girl, bikini, boots, breasts, collar, engine, fingerless gloves, floating, fur trim, gloves, highres, original, propeller, robot, screw, short hair, small breasts, smoke, socks, string bikini, swimsuit, yoshitomi akihito\" class=\"\" src=\"https://img3.gelbooru.com/thumbnails/a8/52/thumbnail_a852d8d92b679a11e656e2e5e1e047bf.jpg\" title=\"1girl bikini boots breasts collar engine fingerless_gloves floating fur_trim gloves highres original propeller robot screw short_hair small_breasts smoke socks string_bikini swimsuit yoshitomi_akihito score:4 rating:general\">\n",
       "</img></a>\n",
       "</article>\n",
       "<article class=\"thumbnail-preview\">\n",
       "<a href=\"https://gelbooru.com/index.php?page=post&amp;s=view&amp;id=7205386&amp;tags=yoshitomi_akihito+\" id=\"p7205386\">\n",
       "<img alt=\"Rule 34 | 1girl, barefoot, gradient clothes, gradient hair, horns, looking at viewer, mechanical horns, medium hair, multicolored hair, no pants, original, pink eyes, pink hair, pink shirt, shirt, smile, solo, white background, yoshitomi akihito\" class=\"\" src=\"https://img3.gelbooru.com/thumbnails/51/1c/thumbnail_511cb6339fd146f59264ea814a537254.jpg\" title=\"1girl barefoot gradient_clothes gradient_hair horns looking_at_viewer mechanical_horns medium_hair multicolored_hair no_pants original pink_eyes pink_hair pink_shirt shirt smile solo white_background yoshitomi_akihito score:5 rating:sensitive\">\n",
       "</img></a>\n",
       "</article>\n",
       "<article class=\"thumbnail-preview\">\n",
       "<a href=\"https://gelbooru.com/index.php?page=post&amp;s=view&amp;id=7205380&amp;tags=yoshitomi_akihito+\" id=\"p7205380\">\n",
       "<img alt=\"Rule 34 | 1girl, black eyes, face, glowing, glowing eyes, grey background, highres, lips, looking to the side, mecha musume, original, red pupils, solo, turtleneck, yoshitomi akihito\" class=\"\" src=\"https://img3.gelbooru.com/thumbnails/79/eb/thumbnail_79eb29b10ece7059b5d6b633bde2ee14.jpg\" title=\"1girl black_eyes face glowing glowing_eyes grey_background highres lips looking_to_the_side mecha_musume original red_pupils solo turtleneck yoshitomi_akihito score:3 rating:sensitive\">\n",
       "</img></a>\n",
       "</article>\n",
       "<article class=\"thumbnail-preview\">\n",
       "<a href=\"https://gelbooru.com/index.php?page=post&amp;s=view&amp;id=7205373&amp;tags=yoshitomi_akihito+\" id=\"p7205373\">\n",
       "<img alt=\"Rule 34 | 1girl, barefoot, black eyes, black hair, branch, hair ornament, hair ribbon, leaf, long hair, long sleeves, looking afar, marker (medium), miniskirt, original, pink ribbon, pink skirt, plant, ribbon, rock, school uniform, side ponytail, sitting, skirt, solo, traditional media, tree, yoshitomi akihito\" class=\"\" src=\"https://img3.gelbooru.com/thumbnails/ce/87/thumbnail_ce87c92aefa498e3192d976f55e4a6ce.jpg\" title=\" 1girl barefoot black_eyes black_hair branch hair_ornament hair_ribbon leaf long_hair long_sleeves looking_afar marker_(medium) miniskirt original pink_ribbon pink_skirt plant ribbon rock school_uniform side_ponytail sitting skirt solo traditional_media tree yoshitomi_akihito  score:4 rating:general\">\n",
       "</img></a>\n",
       "</article>\n",
       "<article class=\"thumbnail-preview\">\n",
       "<a href=\"https://gelbooru.com/index.php?page=post&amp;s=view&amp;id=7067558&amp;tags=yoshitomi_akihito+\" id=\"p7067558\">\n",
       "<img alt=\"Rule 34 | 1girl, absurdres, collared shirt, dress, dress shirt, earrings, ginkgo leaf, highres, jewelry, leaf, legs, legs together, marker (medium), medium hair, on floor, original, pen (medium), photo (medium), pleated skirt, puffy sleeves, ribbon, ribbon-trimmed sleeves, ribbon trim, shirt, shoes, sitting, skirt, smile, traditional media, yoshitomi akihito\" class=\"\" src=\"https://img3.gelbooru.com/thumbnails/41/d4/thumbnail_41d4d7814cc1082d7880ad5006d490c3.jpg\" title=\"1girl absurdres collared_shirt dress dress_shirt earrings ginkgo_leaf highres jewelry leaf legs legs_together marker_(medium) medium_hair on_floor original pen_(medium) photo_(medium) pleated_skirt puffy_sleeves ribbon ribbon-trimmed_sleeves ribbon_trim shirt shoes sitting skirt smile traditional_media yoshitomi_akihito score:2 rating:sensitive\"/>\n",
       "</a>\n",
       "</article>\n",
       "<article class=\"thumbnail-preview\">\n",
       "<a href=\"https://gelbooru.com/index.php?page=post&amp;s=view&amp;id=7067554&amp;tags=yoshitomi_akihito+\" id=\"p7067554\">\n",
       "<img alt=\"Rule 34 | 1girl, armlet, blue background, blue eyes, blue theme, bra, colored skin, headgear, light smile, looking at viewer, mecha musume, mechanical parts, original, short hair, simple background, underwear, underwear only, white skin, yoshitomi akihito\" class=\"\" src=\"https://img3.gelbooru.com/thumbnails/5e/b8/thumbnail_5eb8bd390374c1e7ad9e132c5afd5e58.jpg\" title=\"1girl armlet blue_background blue_eyes blue_theme bra colored_skin headgear light_smile looking_at_viewer mecha_musume mechanical_parts original short_hair simple_background underwear underwear_only white_skin yoshitomi_akihito score:0 rating:sensitive\"/>\n",
       "</a>\n",
       "</article>\n",
       "<article class=\"thumbnail-preview\">\n",
       "<a href=\"https://gelbooru.com/index.php?page=post&amp;s=view&amp;id=7067515&amp;tags=yoshitomi_akihito+\" id=\"p7067515\">\n",
       "<img alt=\"Rule 34 | 1girl, absurdres, bikini, body markings, boots, breasts, hair ornament, hair tubes, highres, legs, legs together, long hair, marker (medium), mechanical parts, navel, original, pen (medium), photo (medium), small breasts, smile, swimsuit, tattoo, traditional media, underwear, yoshitomi akihito\" class=\"\" src=\"https://img3.gelbooru.com/thumbnails/17/e3/thumbnail_17e39e7cc5913627cd969970a9ac53d1.jpg\" title=\"1girl absurdres bikini body_markings boots breasts hair_ornament hair_tubes highres legs legs_together long_hair marker_(medium) mechanical_parts navel original pen_(medium) photo_(medium) small_breasts smile swimsuit tattoo traditional_media underwear yoshitomi_akihito score:1 rating:sensitive\"/>\n",
       "</a>\n",
       "</article>\n",
       "<article class=\"thumbnail-preview\">\n",
       "<a href=\"https://gelbooru.com/index.php?page=post&amp;s=view&amp;id=7067501&amp;tags=yoshitomi_akihito+\" id=\"p7067501\">\n",
       "<img alt=\"Rule 34 | 1girl, :o, absurdres, barefoot, bird, bracer, building, cropped shirt, floating, floating hair, floating island, hair ornament, halo, highres, looking to the side, marker (medium), mechanical halo, mechanical parts, navel, original, pen (medium), photo (medium), traditional media, tree, yoshitomi akihito\" class=\"\" src=\"https://img3.gelbooru.com/thumbnails/dc/b4/thumbnail_dcb4ed12c615bb791cbdebc3e600f2ae.jpg\" title=\"1girl :o absurdres barefoot bird bracer building cropped_shirt floating floating_hair floating_island hair_ornament halo highres looking_to_the_side marker_(medium) mechanical_halo mechanical_parts navel original pen_(medium) photo_(medium) traditional_media tree yoshitomi_akihito score:4 rating:sensitive\"/>\n",
       "</a>\n",
       "</article>\n",
       "<article class=\"thumbnail-preview\">\n",
       "<a href=\"https://gelbooru.com/index.php?page=post&amp;s=view&amp;id=7002440&amp;tags=yoshitomi_akihito+\" id=\"p7002440\">\n",
       "<img alt=\"Rule 34 | 1girl, arm support, collared shirt, lips, long sleeves, looking at viewer, mature female, medium hair, monochrome, original, serious, shirt, simple background, vest, wings, yoshitomi akihito\" class=\"\" src=\"https://img3.gelbooru.com/thumbnails/e5/cf/thumbnail_e5cf3a9ebaba5fa2401af6316904e111.jpg\" title=\"1girl arm_support collared_shirt lips long_sleeves looking_at_viewer mature_female medium_hair monochrome original serious shirt simple_background vest wings yoshitomi_akihito score:1 rating:sensitive\"/>\n",
       "</a>\n",
       "</article>\n",
       "<article class=\"thumbnail-preview\">\n",
       "<a href=\"https://gelbooru.com/index.php?page=post&amp;s=view&amp;id=6444850&amp;tags=yoshitomi_akihito+\" id=\"p6444850\">\n",
       "<img alt=\"Rule 34 | 2girls, barefoot, couple, english text, hard-translated, highres, lighthouse, multiple girls, original, school swimsuit, swimsuit, third-party edit, tomboy, yoshitomi akihito, yuri\" class=\"\" src=\"https://img3.gelbooru.com/thumbnails/ff/9a/thumbnail_ff9a82f32962b0dd242fabec03a14a24.jpg\" title=\"2girls barefoot couple english_text hard-translated highres lighthouse multiple_girls original school_swimsuit swimsuit third-party_edit tomboy yoshitomi_akihito yuri score:10 rating:questionable\"/>\n",
       "</a>\n",
       "</article>\n",
       "<article class=\"thumbnail-preview\">\n",
       "<a href=\"https://gelbooru.com/index.php?page=post&amp;s=view&amp;id=5561517&amp;tags=yoshitomi_akihito+\" id=\"p5561517\">\n",
       "<img alt=\"Rule 34 | 1girl, barefoot, cape, censored nipples, convenient censoring, flower, flower censor, looking at viewer, nude, original, solo, tagme, yoshitomi akihito\" class=\"\" src=\"https://img3.gelbooru.com/thumbnails/c9/de/thumbnail_c9de98294a8c9cde766374ae2a6b91a6.jpg\" title=\" 1girl barefoot cape censored_nipples convenient_censoring flower flower_censor looking_at_viewer nude original solo tagme yoshitomi_akihito  score:8 rating:questionable\"/>\n",
       "</a>\n",
       "</article>\n",
       "<article class=\"thumbnail-preview\">\n",
       "<a href=\"https://gelbooru.com/index.php?page=post&amp;s=view&amp;id=5129766&amp;tags=yoshitomi_akihito+\" id=\"p5129766\">\n",
       "<img alt=\"Rule 34 | 1boy, 1girl, beard, belt, black footwear, black hair, boots, bow, bowtie, christmas tree, commentary request, facial hair, fur trim, in the face, long sleeves, orange neckwear, orange skirt, original, pink shirt, pink thighhighs, pleated skirt, red hair, santa claus, shirt, short ponytail, simple background, skirt, socks, striped, striped thighhighs, stuffed animal, stuffed rabbit, stuffed toy, teddy bear, thighhighs, white background, white hair, yoshitomi akihito\" class=\"\" src=\"https://img3.gelbooru.com/thumbnails/da/f1/thumbnail_daf184b58247daace9b70e92ae343d25.jpg\" title=\" 1boy 1girl beard belt black_footwear black_hair boots bow bowtie christmas_tree commentary_request facial_hair fur_trim in_the_face long_sleeves orange_neckwear orange_skirt original pink_shirt pink_thighhighs pleated_skirt red_hair santa_claus shirt short_ponytail simple_background skirt socks striped striped_thighhighs stuffed_animal stuffed_rabbit stuffed_toy teddy_bear thighhighs white_background white_hair yoshitomi_akihito  score:3 rating:sensitive\"/>\n",
       "</a>\n",
       "</article>\n",
       "<article class=\"thumbnail-preview\">\n",
       "<a href=\"https://gelbooru.com/index.php?page=post&amp;s=view&amp;id=5129765&amp;tags=yoshitomi_akihito+\" id=\"p5129765\">\n",
       "<img alt=\"Rule 34 | 1girl, absurdres, boots, bubble, cat, elbow gloves, gloves, goggles, hand on own hip, highres, holding, leotard, open mouth, original, simple background, solo, spot color, thigh boots, thighhighs, tongue, tongue out, white background, yoshitomi akihito\" class=\"\" src=\"https://img3.gelbooru.com/thumbnails/9c/ac/thumbnail_9cac5682947a98a1bddcf4fb0ae68c6f.jpg\" title=\"1girl absurdres boots bubble cat elbow_gloves gloves goggles hand_on_own_hip highres holding leotard open_mouth original simple_background solo spot_color thigh_boots thighhighs tongue tongue_out white_background yoshitomi_akihito score:1 rating:sensitive\"/>\n",
       "</a>\n",
       "</article>\n",
       "<article class=\"thumbnail-preview\">\n",
       "<a href=\"https://gelbooru.com/index.php?page=post&amp;s=view&amp;id=5129764&amp;tags=yoshitomi_akihito+\" id=\"p5129764\">\n",
       "<img alt=\"Rule 34 | 1girl, bare legs, barefoot, black hair, black sailor collar, black skirt, commentary request, floating hair, glitch, knees up, long hair, long sleeves, neckerchief, original, outline, profile, red neckerchief, sailor collar, shadow, shirt, skirt, solo, white outline, white shirt, yoshitomi akihito\" class=\"\" src=\"https://img3.gelbooru.com/thumbnails/18/3f/thumbnail_183f61a47807bb7f54de0d652ea446fc.jpg\" title=\"1girl bare_legs barefoot black_hair black_sailor_collar black_skirt commentary_request floating_hair glitch knees_up long_hair long_sleeves neckerchief original outline profile red_neckerchief sailor_collar shadow shirt skirt solo white_outline white_shirt yoshitomi_akihito score:2 rating:sensitive\"/>\n",
       "</a>\n",
       "</article>\n",
       "<article class=\"thumbnail-preview\">\n",
       "<a href=\"https://gelbooru.com/index.php?page=post&amp;s=view&amp;id=5129763&amp;tags=yoshitomi_akihito+\" id=\"p5129763\">\n",
       "<img alt=\"Rule 34 | 2girls, aircraft, airplane, book, brown hair, candy, candy wrapper, clock, commentary request, english text, eraser, food, holding hands, ice cream, lollipop, long hair, long sleeves, making-of available, multiple girls, original, paper, pencil, pleated skirt, ponytail, red skirt, short hair, simple background, skirt, stuffed animal, stuffed toy, sweater, swept bangs, teddy bear, white background, yoshitomi akihito\" class=\"\" src=\"https://img3.gelbooru.com/thumbnails/7a/30/thumbnail_7a3073d02c6bce225fb5f69cc502cca0.jpg\" title=\"2girls aircraft airplane book brown_hair candy candy_wrapper clock commentary_request english_text eraser food holding_hands ice_cream lollipop long_hair long_sleeves making-of_available multiple_girls original paper pencil pleated_skirt ponytail red_skirt short_hair simple_background skirt stuffed_animal stuffed_toy sweater swept_bangs teddy_bear white_background yoshitomi_akihito score:7 rating:sensitive\"/>\n",
       "</a>\n",
       "</article>\n",
       "<article class=\"thumbnail-preview\">\n",
       "<a href=\"https://gelbooru.com/index.php?page=post&amp;s=view&amp;id=5129762&amp;tags=yoshitomi_akihito+\" id=\"p5129762\">\n",
       "<img alt=\"Rule 34 | 1girl, barefoot, black hair, claws, commentary request, greyscale, knees up, long hair, machine, monochrome, original, shirt, short sleeves, shorts, simple background, smile, solo, tongue, tongue out, white background, yoshitomi akihito\" class=\"\" src=\"https://img3.gelbooru.com/thumbnails/b6/fd/thumbnail_b6fde6389c6e426071e591c28fa6e621.jpg\" title=\" 1girl barefoot black_hair claws commentary_request greyscale knees_up long_hair machine monochrome original shirt short_sleeves shorts simple_background smile solo tongue tongue_out white_background yoshitomi_akihito  score:4 rating:sensitive\"/>\n",
       "</a>\n",
       "</article>\n",
       "<article class=\"thumbnail-preview\">\n",
       "<a href=\"https://gelbooru.com/index.php?page=post&amp;s=view&amp;id=5129748&amp;tags=yoshitomi_akihito+\" id=\"p5129748\">\n",
       "<img alt=\"Rule 34 | 1girl, black eyes, black hair, blunt bangs, circle, commentary request, fish, knees up, long sleeves, looking at viewer, neckerchief, open mouth, orange sailor collar, orange skirt, original, red neckerchief, sailor collar, school uniform, serafuku, short hair, sidelocks, skirt, smoke, socks, solo, tongue, tongue out, wire, yoshitomi akihito\" class=\"\" src=\"https://img3.gelbooru.com/thumbnails/d9/6c/thumbnail_d96cb45572cdb1ef1debd6dc87e90ba3.jpg\" title=\"1girl black_eyes black_hair blunt_bangs circle commentary_request fish knees_up long_sleeves looking_at_viewer neckerchief open_mouth orange_sailor_collar orange_skirt original red_neckerchief sailor_collar school_uniform serafuku short_hair sidelocks skirt smoke socks solo tongue tongue_out wire yoshitomi_akihito score:0 rating:sensitive\"/>\n",
       "</a>\n",
       "</article>\n",
       "<article class=\"thumbnail-preview\">\n",
       "<a href=\"https://gelbooru.com/index.php?page=post&amp;s=view&amp;id=5129747&amp;tags=yoshitomi_akihito+\" id=\"p5129747\">\n",
       "<img alt=\"Rule 34 | 1girl, black eyes, black hair, bra, circle, commentary request, hands up, looking at viewer, navel, neckerchief, orange sailor collar, orange skirt, original, pleated skirt, red neckerchief, sailor collar, short hair, skirt, solo, underwear, wire, yoshitomi akihito\" class=\"\" src=\"https://img3.gelbooru.com/thumbnails/8c/97/thumbnail_8c972dd07ce999bb4359bad8d72390fb.jpg\" title=\"1girl black_eyes black_hair bra circle commentary_request hands_up looking_at_viewer navel neckerchief orange_sailor_collar orange_skirt original pleated_skirt red_neckerchief sailor_collar short_hair skirt solo underwear wire yoshitomi_akihito score:2 rating:sensitive\"/>\n",
       "</a>\n",
       "</article>\n",
       "<article class=\"thumbnail-preview\">\n",
       "<a href=\"https://gelbooru.com/index.php?page=post&amp;s=view&amp;id=5129744&amp;tags=yoshitomi_akihito+\" id=\"p5129744\">\n",
       "<img alt=\"Rule 34 | 1girl, black eyes, black hair, blunt bangs, bra, circle, commentary request, fish, hand up, knee up, leg up, looking at viewer, navel, neckerchief, open mouth, orange sailor collar, orange skirt, original, pleated skirt, red neckerchief, sailor collar, short hair, skirt, smoke, socks, solo, underwear, wire, yoshitomi akihito\" class=\"\" src=\"https://img3.gelbooru.com/thumbnails/d8/0b/thumbnail_d80bb40c5bf6efbc6b5ae4eb3796f1ec.jpg\" title=\"1girl black_eyes black_hair blunt_bangs bra circle commentary_request fish hand_up knee_up leg_up looking_at_viewer navel neckerchief open_mouth orange_sailor_collar orange_skirt original pleated_skirt red_neckerchief sailor_collar short_hair skirt smoke socks solo underwear wire yoshitomi_akihito score:0 rating:sensitive\"/>\n",
       "</a>\n",
       "</article>\n",
       "<article class=\"thumbnail-preview\">\n",
       "<a href=\"https://gelbooru.com/index.php?page=post&amp;s=view&amp;id=5045241&amp;tags=yoshitomi_akihito+\" id=\"p5045241\">\n",
       "<img alt=\"Rule 34 | 2girls, black legwear, blue sailor collar, blue skirt, braid, brown hair, burger, commentary request, covered face, drink, dropping, falling, food, hug, kiss, long hair, long sleeves, medium hair, multiple girls, neckerchief, original, pleated skirt, red neckerchief, sailor collar, school uniform, serafuku, shirt, shoes, simple background, skirt, sleeves past wrists, socks, twin braids, twintails, white background, white footwear, white socks, yellow shirt, yoshitomi akihito, yuri\" class=\"\" src=\"https://img3.gelbooru.com/thumbnails/a9/52/thumbnail_a952424158701500c3900e8f9f46d5dc.jpg\" title=\"2girls black_legwear blue_sailor_collar blue_skirt braid brown_hair burger commentary_request covered_face drink dropping falling food hug kiss long_hair long_sleeves medium_hair multiple_girls neckerchief original pleated_skirt red_neckerchief sailor_collar school_uniform serafuku shirt shoes simple_background skirt sleeves_past_wrists socks twin_braids twintails white_background white_footwear white_socks yellow_shirt yoshitomi_akihito yuri score:3 rating:sensitive\"/>\n",
       "</a>\n",
       "</article>\n",
       "<article class=\"thumbnail-preview\">\n",
       "<a href=\"https://gelbooru.com/index.php?page=post&amp;s=view&amp;id=4253515&amp;tags=yoshitomi_akihito+\" id=\"p4253515\">\n",
       "<img alt=\"Rule 34 | 1girl, commentary, full body, head tilt, looking at viewer, lying, medium hair, midriff, monochrome, navel, on back, original, sketch, skirt, socks, solo, tank top, traditional media, yoshitomi akihito\" class=\"\" src=\"https://img3.gelbooru.com/thumbnails/d8/78/thumbnail_d87897bbb2cd95d78c06e5231400ecff.jpg\" title=\" 1girl commentary full_body head_tilt looking_at_viewer lying medium_hair midriff monochrome navel on_back original sketch skirt socks solo tank_top traditional_media yoshitomi_akihito  score:4 rating:sensitive\"/>\n",
       "</a>\n",
       "</article>\n",
       "<article class=\"thumbnail-preview\">\n",
       "<a href=\"https://gelbooru.com/index.php?page=post&amp;s=view&amp;id=2940412&amp;tags=yoshitomi_akihito+\" id=\"p2940412\">\n",
       "<img alt=\"Rule 34 | 1girl, dress shirt, full body, green theme, monochrome, original, shirt, sketch, socks, solo, standing, standing on one leg, traditional media, underwear, undressing, yoshitomi akihito\" class=\"\" src=\"https://img3.gelbooru.com/thumbnails/e2/e2/thumbnail_e2e27aa68cf4573c66ae1207c6f4dfe6.jpg\" title=\" 1girl dress_shirt full_body green_theme monochrome original shirt sketch socks solo standing standing_on_one_leg traditional_media underwear undressing yoshitomi_akihito  score:5 rating:questionable\"/>\n",
       "</a>\n",
       "</article>\n",
       "<article class=\"thumbnail-preview\">\n",
       "<a href=\"https://gelbooru.com/index.php?page=post&amp;s=view&amp;id=2940411&amp;tags=yoshitomi_akihito+\" id=\"p2940411\">\n",
       "<img alt=\"Rule 34 | 1girl, dress shirt, full body, monochrome, original, shirt, sketch, socks, solo, traditional media, twintails, underwear, undressing, yoshitomi akihito\" class=\"\" src=\"https://img3.gelbooru.com/thumbnails/3d/37/thumbnail_3d377461372167b6fe0e76709ee02dc0.jpg\" title=\" 1girl dress_shirt full_body monochrome original shirt sketch socks solo traditional_media twintails underwear undressing yoshitomi_akihito  score:1 rating:questionable\"/>\n",
       "</a>\n",
       "</article>\n",
       "<article class=\"thumbnail-preview\">\n",
       "<a href=\"https://gelbooru.com/index.php?page=post&amp;s=view&amp;id=2939028&amp;tags=yoshitomi_akihito+\" id=\"p2939028\">\n",
       "<img alt=\"Rule 34 | 1girl, barefoot, full body, monochrome, original, sketch, skirt, solo, traditional media, yoshitomi akihito\" class=\"\" src=\"https://img3.gelbooru.com/thumbnails/8e/2c/thumbnail_8e2c4046e4956f7232708cbf18a7a218.jpg\" title=\" 1girl barefoot full_body monochrome original sketch skirt solo traditional_media yoshitomi_akihito  score:5 rating:sensitive\"/>\n",
       "</a>\n",
       "</article>\n",
       "<article class=\"thumbnail-preview\">\n",
       "<a href=\"https://gelbooru.com/index.php?page=post&amp;s=view&amp;id=2936022&amp;tags=yoshitomi_akihito+\" id=\"p2936022\">\n",
       "<img alt=\"Rule 34 | 1girl, barefoot, full body, monochrome, original, sketch, solo, traditional media, twintails, underwear, yoshitomi akihito\" class=\"\" src=\"https://img3.gelbooru.com/thumbnails/ce/b7/thumbnail_ceb75bf70297b644bb7abe6e581a38f7.jpg\" title=\" 1girl barefoot full_body monochrome original sketch solo traditional_media twintails underwear yoshitomi_akihito  score:7 rating:sensitive\"/>\n",
       "</a>\n",
       "</article>\n",
       "<article class=\"thumbnail-preview\">\n",
       "<a href=\"https://gelbooru.com/index.php?page=post&amp;s=view&amp;id=2936020&amp;tags=yoshitomi_akihito+\" id=\"p2936020\">\n",
       "<img alt=\"Rule 34 | 1girl, barefoot, full body, long hair, monochrome, original, sketch, solo, traditional media, yoshitomi akihito\" class=\"\" src=\"https://img3.gelbooru.com/thumbnails/81/e4/thumbnail_81e42cce6ad457ea413b30f6e718e03c.jpg\" title=\" 1girl barefoot full_body long_hair monochrome original sketch solo traditional_media yoshitomi_akihito  score:9 rating:sensitive\"/>\n",
       "</a>\n",
       "</article>\n",
       "<article class=\"thumbnail-preview\">\n",
       "<a href=\"https://gelbooru.com/index.php?page=post&amp;s=view&amp;id=2929213&amp;tags=yoshitomi_akihito+\" id=\"p2929213\">\n",
       "<img alt=\"Rule 34 | 1girl, ass, barefoot, bow, camisole, crotch, feet, full body, hair bow, hair ornament, large bow, legs, light smile, long hair, looking at viewer, lying, midriff, monochrome, on side, original, panties, simple background, sketch, solo, thighs, toes, traditional media, underwear, white background, yoshitomi akihito\" class=\"\" src=\"https://img3.gelbooru.com/thumbnails/5b/a0/thumbnail_5ba018a0c0bf55d39f1b48032e27a886.jpg\" title=\" 1girl ass barefoot bow camisole crotch feet full_body hair_bow hair_ornament large_bow legs light_smile long_hair looking_at_viewer lying midriff monochrome on_side original panties simple_background sketch solo thighs toes traditional_media underwear white_background yoshitomi_akihito  score:5 rating:sensitive\"/>\n",
       "</a>\n",
       "</article>\n",
       "<article class=\"thumbnail-preview\">\n",
       "<a href=\"https://gelbooru.com/index.php?page=post&amp;s=view&amp;id=2929212&amp;tags=yoshitomi_akihito+\" id=\"p2929212\">\n",
       "<img alt=\"Rule 34 | 1girl, bra, clothes lift, hair ornament, light smile, long hair, looking at viewer, monochrome, navel, open clothes, open shirt, original, pleated skirt, school uniform, scrunchie, serafuku, shirt, simple background, sitting, sketch, skirt, skirt lift, solo, thighs, traditional media, twintails, underwear, white background, yoshitomi akihito\" class=\"\" src=\"https://img3.gelbooru.com/thumbnails/14/c3/thumbnail_14c3b5cfb7756b10e2c8c5312bbb3308.jpg\" title=\" 1girl bra clothes_lift hair_ornament light_smile long_hair looking_at_viewer monochrome navel open_clothes open_shirt original pleated_skirt school_uniform scrunchie serafuku shirt simple_background sitting sketch skirt skirt_lift solo thighs traditional_media twintails underwear white_background yoshitomi_akihito  score:4 rating:sensitive\"/>\n",
       "</a>\n",
       "</article>\n",
       "<article class=\"thumbnail-preview\">\n",
       "<a href=\"https://gelbooru.com/index.php?page=post&amp;s=view&amp;id=2929211&amp;tags=yoshitomi_akihito+\" id=\"p2929211\">\n",
       "<img alt=\"Rule 34 | 1girl, barefoot, feet, full body, leg hold, legs, legs up, long hair, lying, midriff, monochrome, on back, original, shorts, simple background, sketch, smile, solo, thighs, toes, traditional media, white background, yoshitomi akihito\" class=\"\" src=\"https://img3.gelbooru.com/thumbnails/e4/0e/thumbnail_e40e72c5338bcfcefb5705fbd9db7b09.jpg\" title=\" 1girl barefoot feet full_body leg_hold legs legs_up long_hair lying midriff monochrome on_back original shorts simple_background sketch smile solo thighs toes traditional_media white_background yoshitomi_akihito  score:3 rating:sensitive\"/>\n",
       "</a>\n",
       "</article>\n",
       "<article class=\"thumbnail-preview\">\n",
       "<a href=\"https://gelbooru.com/index.php?page=post&amp;s=view&amp;id=2924987&amp;tags=yoshitomi_akihito+\" id=\"p2924987\">\n",
       "<img alt=\"Rule 34 | 1girl, barefoot, dress shirt, green theme, long hair, monochrome, original, shirt, sketch, skirt, solo, traditional media, yoshitomi akihito\" class=\"\" src=\"https://img3.gelbooru.com/thumbnails/1e/74/thumbnail_1e7418af6347a3abdb31cf3e3098ed64.jpg\" title=\" 1girl barefoot dress_shirt green_theme long_hair monochrome original shirt sketch skirt solo traditional_media yoshitomi_akihito  score:1 rating:sensitive\"/>\n",
       "</a>\n",
       "</article>\n",
       "<article class=\"thumbnail-preview\">\n",
       "<a href=\"https://gelbooru.com/index.php?page=post&amp;s=view&amp;id=2922225&amp;tags=yoshitomi_akihito+\" id=\"p2922225\">\n",
       "<img alt=\"Rule 34 | 1girl, bob cut, looking at viewer, monochrome, no bra, original, short hair, sketch, solo, traditional media, yoshitomi akihito\" class=\"\" src=\"https://img3.gelbooru.com/thumbnails/a4/1f/thumbnail_a41f5dd2eada29e773f78bfd8ddfa42d.jpg\" title=\" 1girl bob_cut looking_at_viewer monochrome no_bra original short_hair sketch solo traditional_media yoshitomi_akihito  score:7 rating:sensitive\"/>\n",
       "</a>\n",
       "</article>\n",
       "<article class=\"thumbnail-preview\">\n",
       "<a href=\"https://gelbooru.com/index.php?page=post&amp;s=view&amp;id=2919606&amp;tags=yoshitomi_akihito+\" id=\"p2919606\">\n",
       "<img alt=\"Rule 34 | 1girl, barefoot, long hair, monochrome, original, sketch, skirt, solo, traditional media, yoshitomi akihito\" class=\"\" src=\"https://img3.gelbooru.com/thumbnails/86/e4/thumbnail_86e43285b6d6d1733ca44ae000ad28e5.jpg\" title=\" 1girl barefoot long_hair monochrome original sketch skirt solo traditional_media yoshitomi_akihito  score:2 rating:sensitive\"/>\n",
       "</a>\n",
       "</article>\n",
       "<article class=\"thumbnail-preview\">\n",
       "<a href=\"https://gelbooru.com/index.php?page=post&amp;s=view&amp;id=2919604&amp;tags=yoshitomi_akihito+\" id=\"p2919604\">\n",
       "<img alt=\"Rule 34 | 1girl, convenient censoring, hair censor, hair over breasts, long hair, looking at viewer, monochrome, navel, nude, onsen, original, pink theme, sitting, sketch, solo, traditional media, yoshitomi akihito\" class=\"\" src=\"https://img3.gelbooru.com/thumbnails/bb/2d/thumbnail_bb2d4d204684e6b61125d0c584e0946f.jpg\" title=\" 1girl convenient_censoring hair_censor hair_over_breasts long_hair looking_at_viewer monochrome navel nude onsen original pink_theme sitting sketch solo traditional_media yoshitomi_akihito  score:4 rating:questionable\"/>\n",
       "</a>\n",
       "</article>\n",
       "<article class=\"thumbnail-preview\">\n",
       "<a href=\"https://gelbooru.com/index.php?page=post&amp;s=view&amp;id=2916607&amp;tags=yoshitomi_akihito+\" id=\"p2916607\">\n",
       "<img alt=\"Rule 34 | 1girl, braid, monochrome, original, panties, sketch, skirt, socks, solo, traditional media, twin braids, underwear, yoshitomi akihito\" class=\"\" src=\"https://img3.gelbooru.com/thumbnails/19/74/thumbnail_1974fda90eb64937d6bed0b5f11eeb8e.jpg\" title=\" 1girl braid monochrome original panties sketch skirt socks solo traditional_media twin_braids underwear yoshitomi_akihito  score:7 rating:sensitive\"/>\n",
       "</a>\n",
       "</article>\n",
       "<article class=\"thumbnail-preview\">\n",
       "<a href=\"https://gelbooru.com/index.php?page=post&amp;s=view&amp;id=2915339&amp;tags=yoshitomi_akihito+\" id=\"p2915339\">\n",
       "<img alt=\"Rule 34 | 1girl, green theme, long hair, monochrome, original, panties, sketch, skirt, socks, solo, traditional media, underwear, yoshitomi akihito\" class=\"\" src=\"https://img3.gelbooru.com/thumbnails/ad/c6/thumbnail_adc67c98048663e886a936b12bdb3f9a.jpg\" title=\" 1girl green_theme long_hair monochrome original panties sketch skirt socks solo traditional_media underwear yoshitomi_akihito  score:1 rating:sensitive\"/>\n",
       "</a>\n",
       "</article>\n",
       "<article class=\"thumbnail-preview\">\n",
       "<a href=\"https://gelbooru.com/index.php?page=post&amp;s=view&amp;id=2915338&amp;tags=yoshitomi_akihito+\" id=\"p2915338\">\n",
       "<img alt=\"Rule 34 | 1girl, barefoot, long hair, monochrome, original, sketch, skirt, solo, traditional media, yoshitomi akihito\" class=\"\" src=\"https://img3.gelbooru.com/thumbnails/f4/3a/thumbnail_f43a36d55bfbe2c8320fa624bbf5ff08.jpg\" title=\" 1girl barefoot long_hair monochrome original sketch skirt solo traditional_media yoshitomi_akihito  score:2 rating:sensitive\"/>\n",
       "</a>\n",
       "</article>\n",
       "<article class=\"thumbnail-preview\">\n",
       "<a href=\"https://gelbooru.com/index.php?page=post&amp;s=view&amp;id=2912735&amp;tags=yoshitomi_akihito+\" id=\"p2912735\">\n",
       "<img alt=\"Rule 34 | 1boy, bolt crank, eat-man, long hair, male focus, monochrome, simple background, sketch, solo, traditional media, trench coat, yoshitomi akihito\" class=\"\" src=\"https://img3.gelbooru.com/thumbnails/8c/f3/thumbnail_8cf325ec19728f63629f6de19c3bb06c.jpg\" title=\" 1boy bolt_crank eat-man long_hair male_focus monochrome simple_background sketch solo traditional_media trench_coat yoshitomi_akihito  score:1 rating:sensitive\"/>\n",
       "</a>\n",
       "</article>\n",
       "<article class=\"thumbnail-preview\">\n",
       "<a href=\"https://gelbooru.com/index.php?page=post&amp;s=view&amp;id=2912730&amp;tags=yoshitomi_akihito+\" id=\"p2912730\">\n",
       "<img alt=\"Rule 34 | 1girl, barefoot, feet, long hair, monochrome, original, purple theme, shorts, sketch, solo, traditional media, twintails, yoshitomi akihito\" class=\"\" src=\"https://img3.gelbooru.com/thumbnails/76/84/thumbnail_768444015ed0af94697512f514c24aaa.jpg\" title=\" 1girl barefoot feet long_hair monochrome original purple_theme shorts sketch solo traditional_media twintails yoshitomi_akihito  score:7 rating:sensitive\"/>\n",
       "</a>\n",
       "</article>\n",
       "<article class=\"thumbnail-preview\">\n",
       "<a href=\"https://gelbooru.com/index.php?page=post&amp;s=view&amp;id=2909078&amp;tags=yoshitomi_akihito+\" id=\"p2909078\">\n",
       "<img alt=\"Rule 34 | 1girl, barefoot, green theme, monochrome, original, sketch, skirt, solo, traditional media, yoshitomi akihito\" class=\"\" src=\"https://img3.gelbooru.com/thumbnails/2d/32/thumbnail_2d32e1b5517890677dea3614d14e1e3b.jpg\" title=\" 1girl barefoot green_theme monochrome original sketch skirt solo traditional_media yoshitomi_akihito  score:2 rating:sensitive\"/>\n",
       "</a>\n",
       "</article>\n",
       "<article class=\"thumbnail-preview\">\n",
       "<a href=\"https://gelbooru.com/index.php?page=post&amp;s=view&amp;id=2903703&amp;tags=yoshitomi_akihito+\" id=\"p2903703\">\n",
       "<img alt=\"Rule 34 | 1girl, barefoot, monochrome, original, sketch, skirt, solo, traditional media, yoshitomi akihito\" class=\"\" src=\"https://img3.gelbooru.com/thumbnails/5e/c8/thumbnail_5ec8f97a9c7cd6bbf8d527ededa42937.jpg\" title=\" 1girl barefoot monochrome original sketch skirt solo traditional_media yoshitomi_akihito  score:1 rating:sensitive\"/>\n",
       "</a>\n",
       "</article>\n",
       "<article class=\"thumbnail-preview\">\n",
       "<a href=\"https://gelbooru.com/index.php?page=post&amp;s=view&amp;id=2903702&amp;tags=yoshitomi_akihito+\" id=\"p2903702\">\n",
       "<img alt=\"Rule 34 | 1girl, barefoot, bikini, monochrome, original, sarong, sketch, solo, swimsuit, traditional media, yoshitomi akihito\" class=\"\" src=\"https://img3.gelbooru.com/thumbnails/95/0d/thumbnail_950d8218be2c8a5795d69d6710338a6c.jpg\" title=\" 1girl barefoot bikini monochrome original sarong sketch solo swimsuit traditional_media yoshitomi_akihito  score:7 rating:sensitive\"/>\n",
       "</a>\n",
       "</article>\n",
       "<article class=\"thumbnail-preview\">\n",
       "<a href=\"https://gelbooru.com/index.php?page=post&amp;s=view&amp;id=2901207&amp;tags=yoshitomi_akihito+\" id=\"p2901207\">\n",
       "<img alt=\"Rule 34 | 1girl, monochrome, original, panties, sketch, solo, thighhighs, traditional media, underwear, yoshitomi akihito\" class=\"\" src=\"https://img3.gelbooru.com/thumbnails/6d/79/thumbnail_6d791de2ff05bd4812927387ea34abe1.jpg\" title=\" 1girl monochrome original panties sketch solo thighhighs traditional_media underwear yoshitomi_akihito  score:5 rating:sensitive\"/>\n",
       "</a>\n",
       "</article></div>\n",
       "<div class=\"footerAd\"><ins class=\"adsbyexoclick\" data-zoneid=\"1680630\"></ins> <ins class=\"adsbyexoclick\" data-zoneid=\"1680632\"></ins> <ins class=\"adsbyexoclick\" data-zoneid=\"1680634\"></ins> </div>\n",
       "<div class=\"pagination\">\n",
       "<div id=\"paginator\"> <b>1</b> <a href=\"?page=post&amp;s=list&amp;tags=yoshitomi_akihito+&amp;pid=42\">2</a><a href=\"?page=post&amp;s=list&amp;tags=yoshitomi_akihito+&amp;pid=84\">3</a><a href=\"?page=post&amp;s=list&amp;tags=yoshitomi_akihito+&amp;pid=126\">4</a><a href=\"?page=post&amp;s=list&amp;tags=yoshitomi_akihito+&amp;pid=168\">5</a><a href=\"?page=post&amp;s=list&amp;tags=yoshitomi_akihito+&amp;pid=210\">6</a><a href=\"?page=post&amp;s=list&amp;tags=yoshitomi_akihito+&amp;pid=252\">7</a><a href=\"?page=post&amp;s=list&amp;tags=yoshitomi_akihito+&amp;pid=294\">8</a><a href=\"?page=post&amp;s=list&amp;tags=yoshitomi_akihito+&amp;pid=336\">9</a><a alt=\"next\" href=\"?page=post&amp;s=list&amp;tags=yoshitomi_akihito+&amp;pid=42\">›</a><a alt=\"last page\" href=\"?page=post&amp;s=list&amp;tags=yoshitomi_akihito+&amp;pid=588\">»</a></div></div>\n",
       "<div class=\"footerAd2\"><a href=\"https://buymyshit.moneygrubbingwhore.com/index.php?page=products&amp;s=list\"><img src=\"https://gelbooru.com/extras/store/728/72890-4.jpg\" style=\"border: 0px;\"/></a></div></main><script src=\"https://a.realsrv.com/video-slider.js\" type=\"application/javascript\"></script>\n",
       "<script type=\"application/javascript\">\n",
       "var adConfig = {\n",
       "    \"idzone\": 4012422,\n",
       "    \"frequency_period\": 720,\n",
       "    \"close_after\": 0,\n",
       "    \"sound_enabled\": 0,\n",
       "    \"on_complete\": \"repeat\",\n",
       "    \"branding_enabled\": 0,\n",
       "    \"screen_density\": 25\n",
       "};\n",
       "ExoVideoSlider.init(adConfig);\n",
       "</script>\n",
       "<footer>\n",
       "<a href=\"index.php?page=dmca&amp;s=index\"><h2 style=\"display: inline-block;\">DMCA</h2></a><a href=\"tos.php\"><h2 style=\"display: inline-block;\">TOS</h2></a>\n",
       "<br/><br/>\n",
       "<a href=\"index.php?page=wiki&amp;s=list&amp;search=howto\"><b>Help</b></a>\n",
       "<a href=\"https://twitter.com/gelbooru\" target=\"_blank\">Twitter</a>\n",
       "<a href=\"https://discord.gg/Zxs9tPE\"><b>Discord</b></a>\n",
       "<a href=\"index.php?page=extras&amp;s=patreon\">Project Supporters</a>\n",
       "</footer>\n",
       "</div>\n",
       "<script>\n",
       "\t(AdProvider = window.AdProvider || []).push({\"serve\": {}});\n",
       "\t\n",
       "\tfunction responsiveViewToggle() {\n",
       "\t\tvar x = document.getElementById(\"myTopnav\");\n",
       "\t\tif (x.className === \"topnav\") {\n",
       "\t\t\tx.className += \" responsive\";\n",
       "\t\t} else {\n",
       "\t\t\tx.className = \"topnav\";\n",
       "\t\t}\n",
       "\t}\n",
       "\t</script>\n",
       "<link href=\"css/jquery-ui.css?2\" media=\"screen\" rel=\"stylesheet\" title=\"default\" type=\"text/css\"/>\n",
       "<script src=\"https://ajax.googleapis.com/ajax/libs/jquery/3.5.1/jquery.min.js\"></script>\n",
       "<script src=\"https://gelbooru.com//script/jquery.cookie.js\"></script>\n",
       "<script src=\"https://gelbooru.com//script/application.grid.js\"></script>\n",
       "<script src=\"https://gelbooru.com//script/jquery-hotkeys.js?1\"></script>\n",
       "<script src=\"https://gelbooru.com//script/autocomplete3.js?2\"></script>\n",
       "<script type=\"text/javascript\">\n",
       "\t\tfunction tagPM(tagInput){\n",
       "\t\t\t$('#tags-search').val($('#tags-search').val() + ' ' + tagInput);\n",
       "\t\t}\n",
       "\t\t\t\n",
       "\t\tfunction saveTagSearch() {\n",
       "\t\t\t$.post(\"index.php?page=tags&s=saved_search&csrf-token=070c2578124599a3f47f2605863a621d29575086971b757640b1b8795eabcf78\", { save_tag_search: $('#tags-search').val()} )\n",
       "\t\t\t  .done(function( data ) {\n",
       "\t\t\t\tif(data)\n",
       "\t\t\t\t{\n",
       "\t\t\t\t\tnotice(\"Saved this search successfully! You can access these via the Tags link in the header.\");\n",
       "\t\t\t\t}\n",
       "\t\t\t\telse\n",
       "\t\t\t\t{\n",
       "\t\t\t\t\tnotice(\"There was an error saving this search. Perhaps it already existed or you are not logged in?\");\n",
       "\t\t\t\t}\n",
       "\t\t\t  });;\n",
       "\t\t}\n",
       "\t\tif($.cookie('motd') == 1)\n",
       "\t\t{\n",
       "\t\t\t$(\"#motd\").hide();\n",
       "\t\t}\n",
       "\t\t\n",
       "\t\tfunction darkModeToggle()\n",
       "\t\t{\n",
       "\t\t\tif ($.cookie('dark_mode') == 1 )\n",
       "\t\t\t{\n",
       "\t\t\t\t$.removeCookie(\"dark_mode\");\n",
       "\t\t\t}\n",
       "\t\t\telse\n",
       "\t\t\t{\n",
       "\t\t\t\t$.cookie(\"dark_mode\", 1, { expires : 365 });\n",
       "\t\t\t}\n",
       "\t\t\tlocation.reload();\n",
       "\t\t}\n",
       "\t</script>\n",
       "</body>"
      ]
     },
     "execution_count": 12,
     "metadata": {},
     "output_type": "execute_result"
    }
   ],
   "source": [
    "page_soup.body"
   ]
  },
  {
   "cell_type": "code",
   "execution_count": 13,
   "id": "bd3eb15c",
   "metadata": {},
   "outputs": [
    {
     "data": {
      "text/plain": [
       "<a alt=\"next\" href=\"?page=post&amp;s=list&amp;tags=yoshitomi_akihito+&amp;pid=42\">›</a>"
      ]
     },
     "execution_count": 13,
     "metadata": {},
     "output_type": "execute_result"
    }
   ],
   "source": [
    "page_soup.body.find(alt = \"next\")"
   ]
  },
  {
   "cell_type": "code",
   "execution_count": 20,
   "id": "9d676537",
   "metadata": {},
   "outputs": [],
   "source": [
    "next_page_link = page_soup.body.find(alt = \"next\").get(\"href\")"
   ]
  },
  {
   "cell_type": "code",
   "execution_count": 21,
   "id": "098bf368",
   "metadata": {},
   "outputs": [],
   "source": [
    "page = requests.get(baselink + next_page_link)"
   ]
  },
  {
   "cell_type": "code",
   "execution_count": 22,
   "id": "81be3280",
   "metadata": {},
   "outputs": [],
   "source": [
    "next_page_soup = BeautifulSoup(page.content)"
   ]
  },
  {
   "cell_type": "code",
   "execution_count": 23,
   "id": "f19f4cb4",
   "metadata": {},
   "outputs": [
    {
     "data": {
      "text/plain": [
       "'?page=post&s=list&tags=yoshitomi_akihito+&pid=84'"
      ]
     },
     "execution_count": 23,
     "metadata": {},
     "output_type": "execute_result"
    }
   ],
   "source": [
    "nextnext_page_link = next_page_soup.body.find(alt = \"next\").get(\"href\")\n",
    "nextnext_page_link"
   ]
  },
  {
   "cell_type": "code",
   "execution_count": null,
   "id": "8345e563",
   "metadata": {},
   "outputs": [],
   "source": []
  },
  {
   "cell_type": "code",
   "execution_count": 44,
   "id": "485ab428",
   "metadata": {},
   "outputs": [],
   "source": [
    "mid_page = requests.get(\"https://gelbooru.com/index.php?page=post&s=list&tags=yoshitomi_akihito+&pid=252\")"
   ]
  },
  {
   "cell_type": "code",
   "execution_count": 45,
   "id": "b227c87c",
   "metadata": {},
   "outputs": [],
   "source": [
    "mid_page_soup = BeautifulSoup(mid_page.content)"
   ]
  },
  {
   "cell_type": "code",
   "execution_count": 46,
   "id": "89bd5fa9",
   "metadata": {},
   "outputs": [
    {
     "data": {
      "text/plain": [
       "'?page=post&s=list&tags=yoshitomi_akihito+&pid=294'"
      ]
     },
     "execution_count": 46,
     "metadata": {},
     "output_type": "execute_result"
    }
   ],
   "source": [
    "mid_page_soup.body.find(alt = \"next\").get(\"href\")"
   ]
  },
  {
   "cell_type": "code",
   "execution_count": 47,
   "id": "cf43fca6",
   "metadata": {},
   "outputs": [],
   "source": [
    "#直接获取下一页的链接不靠谱。中途的Next按钮和最后一页按钮就没了，直接翻页码吧。"
   ]
  },
  {
   "cell_type": "code",
   "execution_count": 48,
   "id": "940037c8",
   "metadata": {},
   "outputs": [
    {
     "data": {
      "text/plain": [
       "[<a alt=\"first page\" href=\"?page=post&amp;s=list&amp;tags=yoshitomi_akihito+&amp;pid=0\">«</a>,\n",
       " <a alt=\"back\" href=\"?page=post&amp;s=list&amp;tags=yoshitomi_akihito+&amp;pid=210\">‹</a>,\n",
       " <a href=\"?page=post&amp;s=list&amp;tags=yoshitomi_akihito+&amp;pid=84\">3</a>,\n",
       " <a href=\"?page=post&amp;s=list&amp;tags=yoshitomi_akihito+&amp;pid=126\">4</a>,\n",
       " <a href=\"?page=post&amp;s=list&amp;tags=yoshitomi_akihito+&amp;pid=168\">5</a>,\n",
       " <a href=\"?page=post&amp;s=list&amp;tags=yoshitomi_akihito+&amp;pid=210\">6</a>,\n",
       " <a href=\"?page=post&amp;s=list&amp;tags=yoshitomi_akihito+&amp;pid=294\">8</a>,\n",
       " <a href=\"?page=post&amp;s=list&amp;tags=yoshitomi_akihito+&amp;pid=336\">9</a>,\n",
       " <a href=\"?page=post&amp;s=list&amp;tags=yoshitomi_akihito+&amp;pid=378\">10</a>,\n",
       " <a href=\"?page=post&amp;s=list&amp;tags=yoshitomi_akihito+&amp;pid=420\">11</a>,\n",
       " <a alt=\"next\" href=\"?page=post&amp;s=list&amp;tags=yoshitomi_akihito+&amp;pid=294\">›</a>,\n",
       " <a alt=\"last page\" href=\"?page=post&amp;s=list&amp;tags=yoshitomi_akihito+&amp;pid=588\">»</a>]"
      ]
     },
     "execution_count": 48,
     "metadata": {},
     "output_type": "execute_result"
    }
   ],
   "source": [
    "mid_page_soup.body.find(id=\"paginator\").find_all(\"a\")"
   ]
  },
  {
   "cell_type": "code",
   "execution_count": 49,
   "id": "639c6903",
   "metadata": {},
   "outputs": [],
   "source": [
    "page_ind_list = mid_page_soup.body.find(id=\"paginator\").find_all(\"a\")"
   ]
  },
  {
   "cell_type": "code",
   "execution_count": 52,
   "id": "2fc47942",
   "metadata": {},
   "outputs": [
    {
     "data": {
      "text/plain": [
       "'9'"
      ]
     },
     "execution_count": 52,
     "metadata": {},
     "output_type": "execute_result"
    }
   ],
   "source": [
    "page_ind_list[-5].string"
   ]
  },
  {
   "cell_type": "code",
   "execution_count": 53,
   "id": "da12622c",
   "metadata": {},
   "outputs": [
    {
     "data": {
      "text/plain": [
       "'»'"
      ]
     },
     "execution_count": 53,
     "metadata": {},
     "output_type": "execute_result"
    }
   ],
   "source": [
    "page_ind_list[-1].string"
   ]
  },
  {
   "cell_type": "code",
   "execution_count": 69,
   "id": "6a97daac",
   "metadata": {},
   "outputs": [],
   "source": [
    "def GetPageSoup(page_link, base_link):\n",
    "    page = requests.get(base_link + page_link)\n",
    "    return BeautifulSoup(page.content)"
   ]
  },
  {
   "cell_type": "code",
   "execution_count": 70,
   "id": "b5ff5295",
   "metadata": {},
   "outputs": [],
   "source": [
    "def GetSearchPostString(tags):\n",
    "    tags_list = tags.split(\" \") #tags xuy\n",
    "    searchPost_string = tagPreString\n",
    "    for tag in tags_list:\n",
    "        searchPost_string = searchPost_string + tag + \"+\"\n",
    "    return searchPost_string"
   ]
  },
  {
   "cell_type": "code",
   "execution_count": 86,
   "id": "ff52a737",
   "metadata": {},
   "outputs": [],
   "source": [
    "def GetAllPageString(searchPageSoup):\n",
    "    page_ind_list = searchPageSoup.body.find(id=\"paginator\").find_all(\"a\")\n",
    "    max_ind_num = 0\n",
    "    max_ind_link = \"\"\n",
    "    for page_ind in page_ind_list:\n",
    "        if page_ind.string == \"»\":\n",
    "            max_ind_link = page_ind.get(\"href\")\n",
    "            break\n",
    "        elif page_ind.string == \"›\" or page_ind.string == \"‹\" or page_ind.string == \"«\" :\n",
    "            continue\n",
    "        page_num = int(page_ind.string)\n",
    "        if page_num > max_ind_num:\n",
    "            max_ind_num = page_num\n",
    "            max_ind_link = page_ind.get(\"href\")\n",
    "    \n",
    "    max_page_index = int(max_ind_link.split(pagePreString)[-1])\n",
    "    page_count = int(max_page_index / 42 + 1) #42 是gelbooru，每页的图片数量\n",
    "    page_strings = []\n",
    "    for i in range(page_count):\n",
    "        page_strings.append(pagePreString + str(i * 42))\n",
    "        \n",
    "    return page_strings"
   ]
  },
  {
   "cell_type": "code",
   "execution_count": 90,
   "id": "927d92ca",
   "metadata": {},
   "outputs": [],
   "source": [
    "search_post_string = GetSearchPostString(\"yoshitomi_akihito original\")\n",
    "search_result_page_soup = GetPageSoup(search_post_string, BaseLink)\n",
    "page_strings = GetAllPageString(search_result_page_soup)\n",
    "mid_page_soup = GetPageSoup(search_post_string + pageStrings[-1],BaseLink)"
   ]
  },
  {
   "cell_type": "code",
   "execution_count": 101,
   "id": "0ccb28b9",
   "metadata": {},
   "outputs": [],
   "source": [
    "image_thumbs = mid_page_soup.body.find(\"div\", {\"class\": \"thumbnail-container\"}).find_all(\"article\", {\"class\": \"thumbnail-preview\"})"
   ]
  },
  {
   "cell_type": "code",
   "execution_count": 107,
   "id": "0589419d",
   "metadata": {},
   "outputs": [],
   "source": [
    "image_page_link = image_thumbs[0].a.get(\"href\")"
   ]
  },
  {
   "cell_type": "code",
   "execution_count": 123,
   "id": "e6591228",
   "metadata": {},
   "outputs": [
    {
     "data": {
      "text/plain": [
       "' 1girl, arm support, barefoot, bike shorts, glasses, greyscale, lowres, monochrome, original, short hair, sitting, sketch, solo, traditional media, wariza, yoshitomi akihito'"
      ]
     },
     "execution_count": 123,
     "metadata": {},
     "output_type": "execute_result"
    }
   ],
   "source": [
    "#这是网站的tags和ID\n",
    "image_thumbs[0].a.get(\"id\")\n",
    "image_thumbs[0].img.get(\"alt\").split(\"|\")[-1]"
   ]
  },
  {
   "cell_type": "code",
   "execution_count": 108,
   "id": "bb4fc6db",
   "metadata": {},
   "outputs": [],
   "source": [
    "image_page_soup = GetPageSoup(image_page_link,\"\")"
   ]
  },
  {
   "cell_type": "code",
   "execution_count": 111,
   "id": "06b69f75",
   "metadata": {},
   "outputs": [
    {
     "data": {
      "text/plain": [
       "'https://img3.gelbooru.com/images/9d/54/9d542c17d6d3a3c18e0c020993325adc.jpg'"
      ]
     },
     "execution_count": 111,
     "metadata": {},
     "output_type": "execute_result"
    }
   ],
   "source": [
    "image_page_soup.body.find(rel=\"noopener\").get(\"href\")"
   ]
  },
  {
   "cell_type": "code",
   "execution_count": 134,
   "id": "a8fd4c81",
   "metadata": {},
   "outputs": [],
   "source": [
    "import os\n",
    "outputfolder = \"output\"\n",
    "os.makedirs(outputfolder, exist_ok=True)"
   ]
  },
  {
   "cell_type": "code",
   "execution_count": 135,
   "id": "d2c4e9f0",
   "metadata": {},
   "outputs": [],
   "source": [
    "#保存图片\n",
    "import shutil\n",
    "id_str = image_thumbs[0].a.get(\"id\")\n",
    "url = image_page_soup.body.find(rel=\"noopener\").get(\"href\")\n",
    "postfix = url.split(\".\")[-1]\n",
    "response = requests.get(url, stream=True)\n",
    "image_file_path = os.path.join(outputfolder, id_str+'.'+postfix)\n",
    "with open(image_file_path, 'wb') as out_file:\n",
    "    shutil.copyfileobj(response.raw, out_file)\n",
    "del response"
   ]
  },
  {
   "cell_type": "code",
   "execution_count": 136,
   "id": "777ea15c",
   "metadata": {},
   "outputs": [],
   "source": [
    "#保存tag\n",
    "tags = image_thumbs[0].img.get(\"alt\").split(\"|\")[-1]\n",
    "tag_file_path = os.path.join(outputfolder, id_str+\".txt\")\n",
    "with open(tag_file_path, \"w\") as text_file:\n",
    "    text_file.write(tags)"
   ]
  },
  {
   "cell_type": "code",
   "execution_count": 137,
   "id": "f8b378f8",
   "metadata": {
    "scrolled": true
   },
   "outputs": [
    {
     "data": {
      "text/plain": [
       "'\\nWe can use the ThreadPoolExecutor class to speed up the download of multiple files listed on an HTML webpage.\\nThe ThreadPoolExecutor class is provided as part of the concurrent.futures module for easily running concurrent tasks.\\nThe ThreadPoolExecutor provides a pool of worker threads, which is different from the ProcessPoolExecutor that provides a pool of worker processes.\\nGenerally, ThreadPoolExecutor should be used for concurrent IO-bound tasks, like downloading URLs, and the ProcessPoolExecutor should be used for concurrent CPU-bound tasks, like calculating.\\n'"
      ]
     },
     "execution_count": 137,
     "metadata": {},
     "output_type": "execute_result"
    }
   ],
   "source": [
    "#使用线程池来加速下载\n",
    "\"\"\"\n",
    "We can use the ThreadPoolExecutor class to speed up the download of multiple files listed on an HTML webpage.\n",
    "The ThreadPoolExecutor class is provided as part of the concurrent.futures module for easily running concurrent tasks.\n",
    "The ThreadPoolExecutor provides a pool of worker threads, which is different from the ProcessPoolExecutor that provides a pool of worker processes.\n",
    "Generally, ThreadPoolExecutor should be used for concurrent IO-bound tasks, like downloading URLs, and the ProcessPoolExecutor should be used for concurrent CPU-bound tasks, like calculating.\n",
    "\"\"\""
   ]
  },
  {
   "cell_type": "code",
   "execution_count": 141,
   "id": "081606cf",
   "metadata": {},
   "outputs": [],
   "source": [
    "def downloadImage(image_thumb_soup):\n",
    "    #gather all infos\n",
    "    image_page_link = image_thumbs[0].a.get(\"href\")\n",
    "    image_id = image_thumbs[0].a.get(\"id\")\n",
    "    image_tags = image_thumbs[0].img.get(\"alt\").split(\"|\")[-1]\n",
    "    #get to the image page\n",
    "    image_page_soup = GetPageSoup(image_page_link,\"\")\n",
    "    image_link = image_page_soup.body.find(rel=\"noopener\").get(\"href\")\n",
    "    #make sure path exist\n",
    "    outputfolder = \"output\"\n",
    "    os.makedirs(outputfolder, exist_ok=True)\n",
    "    #download image\n",
    "    postfix = image_link.split(\".\")[-1]\n",
    "    response = requests.get(image_link, stream=True)\n",
    "    image_file_path = os.path.join(outputfolder, image_id+'.'+postfix)\n",
    "    with open(image_file_path, 'wb') as out_file:\n",
    "        shutil.copyfileobj(response.raw, out_file)\n",
    "    del response\n",
    "    #write tags\n",
    "    tag_file_path = os.path.join(outputfolder, image_id+\".txt\")\n",
    "    with open(tag_file_path, \"w\") as text_file:\n",
    "        text_file.write(tags)"
   ]
  },
  {
   "cell_type": "code",
   "execution_count": 139,
   "id": "984197ab",
   "metadata": {},
   "outputs": [],
   "source": [
    "from concurrent.futures import ThreadPoolExecutor\n",
    "pool = ThreadPoolExecutor()"
   ]
  },
  {
   "cell_type": "code",
   "execution_count": null,
   "id": "cebb4781",
   "metadata": {},
   "outputs": [],
   "source": []
  }
 ],
 "metadata": {
  "kernelspec": {
   "display_name": "Python 3 (ipykernel)",
   "language": "python",
   "name": "python3"
  },
  "language_info": {
   "codemirror_mode": {
    "name": "ipython",
    "version": 3
   },
   "file_extension": ".py",
   "mimetype": "text/x-python",
   "name": "python",
   "nbconvert_exporter": "python",
   "pygments_lexer": "ipython3",
   "version": "3.10.8"
  }
 },
 "nbformat": 4,
 "nbformat_minor": 5
}
