{
 "cells": [
  {
   "cell_type": "code",
   "execution_count": 1,
   "id": "7d2c9622",
   "metadata": {},
   "outputs": [],
   "source": [
    "#Simple downloader for pixiv\n",
    "from concurrent.futures import ThreadPoolExecutor\n",
    "\n",
    "import os\n",
    "import json\n",
    "import shutil\n",
    "import time\n",
    "import requests\n",
    "import sys\n",
    "\n",
    "from selenium import webdriver\n",
    "from selenium.webdriver import Chrome\n",
    "from selenium.webdriver import ChromeOptions\n",
    "from selenium.webdriver.common.action_chains import ActionChains\n",
    "from selenium.webdriver.common.by import By\n",
    "from selenium.webdriver.common.keys import Keys\n",
    "from selenium.common.exceptions import TimeoutException\n",
    "from selenium.webdriver.support.ui import WebDriverWait\n",
    "from selenium.webdriver.support import expected_conditions as EC\n",
    "from selenium.webdriver.common.by import By\n",
    "\n",
    "from Includes import SeleniumUtils\n",
    "from Includes import GeneralFuncs"
   ]
  },
  {
   "cell_type": "code",
   "execution_count": 2,
   "id": "73bb7ec4",
   "metadata": {},
   "outputs": [],
   "source": [
    "baselink = \"https://www.artstation.com/\"\n",
    "\n",
    "Mainfolder = \"Artstation\\\\\"\n",
    "\n",
    "isLogin = False"
   ]
  },
  {
   "cell_type": "code",
   "execution_count": 3,
   "id": "6bbc7d85",
   "metadata": {},
   "outputs": [
    {
     "name": "stdout",
     "output_type": "stream",
     "text": [
      "正在创建网页实例...\n"
     ]
    }
   ],
   "source": [
    "driver = SeleniumUtils.GetChromeDriver()\n"
   ]
  },
  {
   "cell_type": "code",
   "execution_count": 4,
   "id": "f28b215c",
   "metadata": {},
   "outputs": [
    {
     "name": "stdout",
     "output_type": "stream",
     "text": [
      "正在载入Artstation...\n"
     ]
    }
   ],
   "source": [
    "print(\"正在载入Artstation...\")\n",
    "driver.get(baselink)"
   ]
  },
  {
   "cell_type": "code",
   "execution_count": 9,
   "id": "face0686",
   "metadata": {},
   "outputs": [],
   "source": [
    "header_elements = driver.find_element(by=By.XPATH, value='//a[@class=\"main-menu-bar-link justify-content-end menu-item-auth menu-item-signin\"]/span')"
   ]
  },
  {
   "cell_type": "code",
   "execution_count": 11,
   "id": "509ba08a",
   "metadata": {},
   "outputs": [],
   "source": [
    "header_elements.click()"
   ]
  },
  {
   "cell_type": "code",
   "execution_count": 19,
   "id": "1dc92123",
   "metadata": {},
   "outputs": [],
   "source": [
    "username_element = driver.find_elements(by=By.XPATH, value='//input[@type=\"email\"]')[0]\n",
    "password_element = driver.find_elements(by=By.XPATH, value='//input[@type=\"password\"]')[0]"
   ]
  },
  {
   "cell_type": "code",
   "execution_count": 20,
   "id": "f6362845",
   "metadata": {},
   "outputs": [],
   "source": [
    "login_button = driver.find_elements(by=By.XPATH,\n",
    "                                    value='//button[@class=\"bs-btn bs-btn-block bs-btn-primary\"]')[0]"
   ]
  },
  {
   "cell_type": "code",
   "execution_count": 21,
   "id": "53deb94c",
   "metadata": {},
   "outputs": [],
   "source": [
    "username_element.send_keys(\"email\")\n",
    "password_element.send_keys(\"pw\")\n",
    "login_button.click()"
   ]
  },
  {
   "cell_type": "code",
   "execution_count": 5,
   "id": "c338ddcd",
   "metadata": {},
   "outputs": [],
   "source": [
    "driver.get(\"https://www.artstation.com/search?sort_by=relevance&query=maid\")"
   ]
  },
  {
   "cell_type": "code",
   "execution_count": null,
   "id": "ca15ce27",
   "metadata": {},
   "outputs": [],
   "source": []
  }
 ],
 "metadata": {
  "kernelspec": {
   "display_name": "Python 3 (ipykernel)",
   "language": "python",
   "name": "python3"
  },
  "language_info": {
   "codemirror_mode": {
    "name": "ipython",
    "version": 3
   },
   "file_extension": ".py",
   "mimetype": "text/x-python",
   "name": "python",
   "nbconvert_exporter": "python",
   "pygments_lexer": "ipython3",
   "version": "3.10.8"
  }
 },
 "nbformat": 4,
 "nbformat_minor": 5
}
