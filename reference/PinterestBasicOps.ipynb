{
 "cells": [
  {
   "cell_type": "code",
   "execution_count": 1,
   "id": "06dd63ba",
   "metadata": {},
   "outputs": [],
   "source": [
    "#Simple downloader for pixiv\n",
    "from concurrent.futures import ThreadPoolExecutor\n",
    "\n",
    "import os\n",
    "import json\n",
    "import shutil\n",
    "import time\n",
    "import requests\n",
    "import sys\n",
    "\n",
    "from selenium import webdriver\n",
    "from selenium.webdriver import Chrome\n",
    "from selenium.webdriver import ChromeOptions\n",
    "from selenium.webdriver.common.action_chains import ActionChains\n",
    "from selenium.webdriver.common.by import By\n",
    "from selenium.webdriver.common.keys import Keys\n",
    "from selenium.common.exceptions import TimeoutException\n",
    "from selenium.webdriver.support.ui import WebDriverWait\n",
    "from selenium.webdriver.support import expected_conditions as EC\n",
    "from selenium.webdriver.common.by import By\n",
    "\n",
    "from Includes import SeleniumUtils\n",
    "from Includes import GeneralFuncs"
   ]
  },
  {
   "cell_type": "code",
   "execution_count": 2,
   "id": "8aac6fa2",
   "metadata": {},
   "outputs": [],
   "source": [
    "baselink = \"https://www.pinterest.com/\"\n",
    "\n",
    "Mainfolder = \"Pinterest\\\\\"\n",
    "\n",
    "timeout = 2\n",
    "\n",
    "isLogin = False"
   ]
  },
  {
   "cell_type": "code",
   "execution_count": 5,
   "id": "2245ef50",
   "metadata": {},
   "outputs": [
    {
     "name": "stdout",
     "output_type": "stream",
     "text": [
      "正在创建网页实例...\n"
     ]
    }
   ],
   "source": [
    "driver = SeleniumUtils.GetChromeDriver()"
   ]
  },
  {
   "cell_type": "code",
   "execution_count": null,
   "id": "142be786",
   "metadata": {},
   "outputs": [],
   "source": []
  },
  {
   "cell_type": "code",
   "execution_count": 6,
   "id": "a2edd624",
   "metadata": {},
   "outputs": [
    {
     "name": "stdout",
     "output_type": "stream",
     "text": [
      "正在载入Pinterest...\n"
     ]
    }
   ],
   "source": [
    "print(\"正在载入Pinterest...\")\n",
    "driver.get(baselink)\n",
    "elementNonlogin_present = EC.presence_of_element_located((By.XPATH, '//div[@data-test-id=\"unauth-header\"]/div//button'))\n",
    "WebDriverWait(driver, timeout).until(elementNonlogin_present)\n",
    "# click login\n",
    "header_elements = driver.find_elements(by=By.XPATH, value='//div[@data-test-id=\"unauth-header\"]/div//button')\n",
    "for element in header_elements:\n",
    "    if element.text == '登录':\n",
    "        login_element = element\n",
    "        login_element.click()\n",
    "        break\n",
    "#check loading\n",
    "elementNonlogin_present = EC.presence_of_element_located((By.XPATH, '//input[@type=\"email\"]'))\n",
    "WebDriverWait(driver, timeout).until(elementNonlogin_present)\n",
    "# send username and keywords\n",
    "username_element = driver.find_elements(by=By.XPATH, value='//input[@type=\"email\"]')[0]\n",
    "password_element = driver.find_elements(by=By.XPATH, value='//input[@type=\"password\"]')[0]\n",
    "login_button = driver.find_elements(by=By.XPATH,\n",
    "                                    value='//div[@data-test-id=\"registerFormSubmitButton\"]/button')[0]\n",
    "\n",
    "username_element.send_keys(\"Email\")\n",
    "password_element.send_keys(\"PW\")\n",
    "login_button.click()"
   ]
  },
  {
   "cell_type": "code",
   "execution_count": 23,
   "id": "d31f1c64",
   "metadata": {},
   "outputs": [],
   "source": [
    "#loginlink = driver.find_element(By.PARTIAL_LINK_TEXT, '登录')\n",
    "#loginlink = driver.find_elements(By.XPATH, \"//button[text()='登录']\")\n",
    "#loginlink[0].send_keys(Keys.ENTER)"
   ]
  },
  {
   "cell_type": "code",
   "execution_count": 24,
   "id": "877f8776",
   "metadata": {},
   "outputs": [
    {
     "data": {
      "text/plain": [
       "<selenium.webdriver.remote.webelement.WebElement (session=\"ecd9e8b22e90a87f7eb31d166bc7e1b1\", element=\"f89c1702-c67a-4790-b5b3-105994cd8d6a\")>"
      ]
     },
     "execution_count": 24,
     "metadata": {},
     "output_type": "execute_result"
    }
   ],
   "source": []
  },
  {
   "cell_type": "code",
   "execution_count": 25,
   "id": "98ab24d0",
   "metadata": {},
   "outputs": [],
   "source": []
  },
  {
   "cell_type": "code",
   "execution_count": 4,
   "id": "c545b31d",
   "metadata": {},
   "outputs": [
    {
     "ename": "TimeoutException",
     "evalue": "Message: \nStacktrace:\nBacktrace:\n\tOrdinal0 [0x00EE5FD3+2187219]\n\tOrdinal0 [0x00E7E6D1+1763025]\n\tOrdinal0 [0x00D93E78+802424]\n\tOrdinal0 [0x00DC1C10+990224]\n\tOrdinal0 [0x00DC1EAB+990891]\n\tOrdinal0 [0x00DEEC92+1174674]\n\tOrdinal0 [0x00DDCBD4+1100756]\n\tOrdinal0 [0x00DECFC2+1167298]\n\tOrdinal0 [0x00DDC9A6+1100198]\n\tOrdinal0 [0x00DB6F80+946048]\n\tOrdinal0 [0x00DB7E76+949878]\n\tGetHandleVerifier [0x011890C2+2721218]\n\tGetHandleVerifier [0x0117AAF0+2662384]\n\tGetHandleVerifier [0x00F7137A+526458]\n\tGetHandleVerifier [0x00F70416+522518]\n\tOrdinal0 [0x00E84EAB+1789611]\n\tOrdinal0 [0x00E897A8+1808296]\n\tOrdinal0 [0x00E89895+1808533]\n\tOrdinal0 [0x00E926C1+1844929]\n\tBaseThreadInitThunk [0x76B500C9+25]\n\tRtlGetAppContainerNamedObjectPath [0x778C7B4E+286]\n\tRtlGetAppContainerNamedObjectPath [0x778C7B1E+238]\n",
     "output_type": "error",
     "traceback": [
      "\u001b[1;31m---------------------------------------------------------------------------\u001b[0m",
      "\u001b[1;31mTimeoutException\u001b[0m                          Traceback (most recent call last)",
      "Cell \u001b[1;32mIn[4], line 3\u001b[0m\n\u001b[0;32m      1\u001b[0m \u001b[38;5;66;03m#check loading\u001b[39;00m\n\u001b[0;32m      2\u001b[0m elementNonlogin_present \u001b[38;5;241m=\u001b[39m EC\u001b[38;5;241m.\u001b[39mpresence_of_element_located((By\u001b[38;5;241m.\u001b[39mXPATH, \u001b[38;5;124m'\u001b[39m\u001b[38;5;124m//input[@name=\u001b[39m\u001b[38;5;124m\"\u001b[39m\u001b[38;5;124msearchBoxInput\u001b[39m\u001b[38;5;124m\"\u001b[39m\u001b[38;5;124m]\u001b[39m\u001b[38;5;124m'\u001b[39m))\n\u001b[1;32m----> 3\u001b[0m \u001b[43mWebDriverWait\u001b[49m\u001b[43m(\u001b[49m\u001b[43mdriver\u001b[49m\u001b[43m,\u001b[49m\u001b[43m \u001b[49m\u001b[43mtimeout\u001b[49m\u001b[43m)\u001b[49m\u001b[38;5;241;43m.\u001b[39;49m\u001b[43muntil\u001b[49m\u001b[43m(\u001b[49m\u001b[43melementNonlogin_present\u001b[49m\u001b[43m)\u001b[49m\n",
      "File \u001b[1;32m~\\.virtualenvs\\gelbooru_Scrapper-3-YXGZp8\\lib\\site-packages\\selenium\\webdriver\\support\\wait.py:95\u001b[0m, in \u001b[0;36mWebDriverWait.until\u001b[1;34m(self, method, message)\u001b[0m\n\u001b[0;32m     93\u001b[0m     \u001b[38;5;28;01mif\u001b[39;00m time\u001b[38;5;241m.\u001b[39mmonotonic() \u001b[38;5;241m>\u001b[39m end_time:\n\u001b[0;32m     94\u001b[0m         \u001b[38;5;28;01mbreak\u001b[39;00m\n\u001b[1;32m---> 95\u001b[0m \u001b[38;5;28;01mraise\u001b[39;00m TimeoutException(message, screen, stacktrace)\n",
      "\u001b[1;31mTimeoutException\u001b[0m: Message: \nStacktrace:\nBacktrace:\n\tOrdinal0 [0x00EE5FD3+2187219]\n\tOrdinal0 [0x00E7E6D1+1763025]\n\tOrdinal0 [0x00D93E78+802424]\n\tOrdinal0 [0x00DC1C10+990224]\n\tOrdinal0 [0x00DC1EAB+990891]\n\tOrdinal0 [0x00DEEC92+1174674]\n\tOrdinal0 [0x00DDCBD4+1100756]\n\tOrdinal0 [0x00DECFC2+1167298]\n\tOrdinal0 [0x00DDC9A6+1100198]\n\tOrdinal0 [0x00DB6F80+946048]\n\tOrdinal0 [0x00DB7E76+949878]\n\tGetHandleVerifier [0x011890C2+2721218]\n\tGetHandleVerifier [0x0117AAF0+2662384]\n\tGetHandleVerifier [0x00F7137A+526458]\n\tGetHandleVerifier [0x00F70416+522518]\n\tOrdinal0 [0x00E84EAB+1789611]\n\tOrdinal0 [0x00E897A8+1808296]\n\tOrdinal0 [0x00E89895+1808533]\n\tOrdinal0 [0x00E926C1+1844929]\n\tBaseThreadInitThunk [0x76B500C9+25]\n\tRtlGetAppContainerNamedObjectPath [0x778C7B4E+286]\n\tRtlGetAppContainerNamedObjectPath [0x778C7B1E+238]\n"
     ]
    }
   ],
   "source": [
    "#check loading\n",
    "elementNonlogin_present = EC.presence_of_element_located((By.XPATH, '//input[@name=\"searchBoxInput\"]'))\n",
    "WebDriverWait(driver, timeout).until(elementNonlogin_present)"
   ]
  },
  {
   "cell_type": "code",
   "execution_count": 7,
   "id": "63c6c1ae",
   "metadata": {},
   "outputs": [],
   "source": [
    "#Search\n",
    "search_element = driver.find_elements(by=By.XPATH, value='//input[@name=\"searchBoxInput\"]')[0]\n",
    "prompts = len(search_element.get_attribute(\"value\")) + 2# Additional BS \n",
    "search_element.send_keys(Keys.BACKSPACE * prompts)\n",
    "search_element.send_keys(\"Maid\")\n",
    "search_element.send_keys(Keys.ENTER)"
   ]
  },
  {
   "cell_type": "code",
   "execution_count": null,
   "id": "1a76150b",
   "metadata": {},
   "outputs": [],
   "source": [
    "#check loading\n",
    "elementNonlogin_present = EC.presence_of_element_located((By.XPATH, '//div[@data-test-id=\"non-story-pin-image\"]/div/img'))\n",
    "WebDriverWait(driver, timeout).until(elementNonlogin_present)"
   ]
  },
  {
   "cell_type": "code",
   "execution_count": 10,
   "id": "15615d8a",
   "metadata": {},
   "outputs": [
    {
     "data": {
      "text/plain": [
       "10"
      ]
     },
     "execution_count": 10,
     "metadata": {},
     "output_type": "execute_result"
    }
   ],
   "source": [
    "page_elements = driver.find_elements(By.XPATH, '//div[@data-test-id=\"non-story-pin-image\"]/div/img')\n",
    "len(page_elements)"
   ]
  },
  {
   "cell_type": "code",
   "execution_count": 30,
   "id": "08b1c8bd",
   "metadata": {},
   "outputs": [],
   "source": [
    "#向下滚动，载入下一页\n",
    "#driver.execute_script(\"window.scrollTo(0, document.body.scrollHeight);\")\n",
    "driver.execute_script(f\"window.scrollTo({2 * 500}, \"f\"{ 2 * 500});\")"
   ]
  },
  {
   "cell_type": "code",
   "execution_count": 31,
   "id": "db83b9ab",
   "metadata": {},
   "outputs": [],
   "source": [
    "driver.execute_script(\"window.scrollTo(0, 0);\")"
   ]
  },
  {
   "cell_type": "code",
   "execution_count": 12,
   "id": "fcbc25ec",
   "metadata": {},
   "outputs": [],
   "source": [
    "img_element = driver.find_elements(By.XPATH, '//div[@data-test-id=\"non-story-pin-image\"]/div/img')"
   ]
  },
  {
   "cell_type": "code",
   "execution_count": 18,
   "id": "9bf069ab",
   "metadata": {},
   "outputs": [
    {
     "data": {
      "text/plain": [
       "'This contains an image of: ハヤブサ🐤🐤 on Twitter'"
      ]
     },
     "execution_count": 18,
     "metadata": {},
     "output_type": "execute_result"
    }
   ],
   "source": [
    "img_element[-1].accessible_name"
   ]
  },
  {
   "cell_type": "code",
   "execution_count": 27,
   "id": "2c8d9a14",
   "metadata": {},
   "outputs": [
    {
     "data": {
      "text/plain": [
       "'https://i.pinimg.com/originals/eb/83/50/eb83506648433a7fc5b19269d376a451.jpg'"
      ]
     },
     "execution_count": 27,
     "metadata": {},
     "output_type": "execute_result"
    }
   ],
   "source": [
    "#extention not right\n",
    "img_url = img_element[0].get_attribute(\"src\")\n",
    "original_url = img_url.replace('236x', 'originals')\n",
    "imglink = original_url\n",
    "original_url"
   ]
  },
  {
   "cell_type": "code",
   "execution_count": 14,
   "id": "269b7ce6",
   "metadata": {},
   "outputs": [
    {
     "data": {
      "text/plain": [
       "'This contains an image of: Premium Vector | Anime manga girl dressed as a maid'"
      ]
     },
     "execution_count": 14,
     "metadata": {},
     "output_type": "execute_result"
    }
   ],
   "source": [
    "img_element[-1].accessible_name"
   ]
  },
  {
   "cell_type": "code",
   "execution_count": null,
   "id": "0f1efd60",
   "metadata": {},
   "outputs": [],
   "source": [
    "img_element = driver.find_elements(By.XPATH, '//div[@data-test-id=\"non-story-pin-image\"]/div/img')"
   ]
  },
  {
   "cell_type": "code",
   "execution_count": null,
   "id": "36863db0",
   "metadata": {},
   "outputs": [],
   "source": []
  },
  {
   "cell_type": "code",
   "execution_count": 35,
   "id": "ebbe768d",
   "metadata": {},
   "outputs": [
    {
     "data": {
      "text/plain": [
       "'ハヤブサ on Twitter'"
      ]
     },
     "execution_count": 35,
     "metadata": {},
     "output_type": "execute_result"
    }
   ],
   "source": [
    "#name = \"This contains an image of: \"\n",
    "name = img_element[-1].accessible_name\n",
    "imgname = name.replace(\"This contains an image of: \",\"\").replace(\"\\\\\", \"\").replace(\"/\", \"\").replace(\"|\", \"\")\n",
    "imgname = \"\".join( x for x in imgname if (x.isalnum() or x in \"._- \"))\n",
    "postfix = \".\" + imglink.split(\".\")[-1]\n",
    "if(imgname == \"\"):\n",
    "    imgname = imglink.split(\"/\")[-1].split(\".\")[0]\n",
    "imgname"
   ]
  },
  {
   "cell_type": "code",
   "execution_count": 36,
   "id": "2869833d",
   "metadata": {},
   "outputs": [
    {
     "name": "stdout",
     "output_type": "stream",
     "text": [
      "文件保存成功\n"
     ]
    }
   ],
   "source": [
    "GeneralFuncs.downloadImageToDiskBase(imglink, \"./output/Pinterest/\"+imgname +\".\"+postfix)"
   ]
  },
  {
   "cell_type": "code",
   "execution_count": 5,
   "id": "9d37e84b",
   "metadata": {},
   "outputs": [
    {
     "ename": "TypeError",
     "evalue": "int() argument must be a string, a bytes-like object or a real number, not 'NoneType'",
     "output_type": "error",
     "traceback": [
      "\u001b[1;31m---------------------------------------------------------------------------\u001b[0m",
      "\u001b[1;31mTypeError\u001b[0m                                 Traceback (most recent call last)",
      "Cell \u001b[1;32mIn[5], line 3\u001b[0m\n\u001b[0;32m      1\u001b[0m url \u001b[38;5;241m=\u001b[39m \u001b[38;5;124m\"\u001b[39m\u001b[38;5;124mhttps://i.pinimg.com/originals/2f/51/f1/2f51f10e1c106c9f91a84ef23d4c7900.jpg\u001b[39m\u001b[38;5;124m\"\u001b[39m\n\u001b[0;32m      2\u001b[0m response \u001b[38;5;241m=\u001b[39m requests\u001b[38;5;241m.\u001b[39mget(url, stream\u001b[38;5;241m=\u001b[39m\u001b[38;5;28;01mTrue\u001b[39;00m, timeout\u001b[38;5;241m=\u001b[39m\u001b[38;5;241m10\u001b[39m)\n\u001b[1;32m----> 3\u001b[0m total_size \u001b[38;5;241m=\u001b[39m \u001b[38;5;28;43mint\u001b[39;49m\u001b[43m(\u001b[49m\u001b[43mresponse\u001b[49m\u001b[38;5;241;43m.\u001b[39;49m\u001b[43mheaders\u001b[49m\u001b[38;5;241;43m.\u001b[39;49m\u001b[43mget\u001b[49m\u001b[43m(\u001b[49m\u001b[38;5;124;43m'\u001b[39;49m\u001b[38;5;124;43mcontent-length\u001b[39;49m\u001b[38;5;124;43m'\u001b[39;49m\u001b[43m)\u001b[49m\u001b[43m)\u001b[49m\n\u001b[0;32m      4\u001b[0m total_size\n",
      "\u001b[1;31mTypeError\u001b[0m: int() argument must be a string, a bytes-like object or a real number, not 'NoneType'"
     ]
    }
   ],
   "source": [
    "url = \"https://i.pinimg.com/originals/2f/51/f1/2f51f10e1c106c9f91a84ef23d4c7900.jpg\"\n",
    "response = requests.get(url, stream=True, timeout=10)\n",
    "total_size = int(response.headers.get('content-length'))\n",
    "total_size"
   ]
  },
  {
   "cell_type": "code",
   "execution_count": null,
   "id": "a5335712",
   "metadata": {},
   "outputs": [],
   "source": []
  }
 ],
 "metadata": {
  "kernelspec": {
   "display_name": "Python 3 (ipykernel)",
   "language": "python",
   "name": "python3"
  },
  "language_info": {
   "codemirror_mode": {
    "name": "ipython",
    "version": 3
   },
   "file_extension": ".py",
   "mimetype": "text/x-python",
   "name": "python",
   "nbconvert_exporter": "python",
   "pygments_lexer": "ipython3",
   "version": "3.10.8"
  }
 },
 "nbformat": 4,
 "nbformat_minor": 5
}
